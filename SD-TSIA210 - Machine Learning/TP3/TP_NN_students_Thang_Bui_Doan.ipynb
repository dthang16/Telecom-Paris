{
 "cells": [
  {
   "cell_type": "markdown",
   "metadata": {
    "id": "5ZJIVfPeMBb1"
   },
   "source": [
    "TP 3 SD-TSIA210<br>\n",
    "Student: Thang Bui Doan"
   ]
  },
  {
   "cell_type": "markdown",
   "metadata": {
    "id": "iafPdtuncbq7"
   },
   "source": [
    "# TP: MNIST with Neural Networks (NN)"
   ]
  },
  {
   "cell_type": "code",
   "execution_count": 1,
   "metadata": {
    "colab": {
     "base_uri": "https://localhost:8080/"
    },
    "id": "OlKZ3Hnas7B4",
    "outputId": "0043122e-26c7-4b23-ed17-77c1a07dbb43"
   },
   "outputs": [
    {
     "name": "stdout",
     "output_type": "stream",
     "text": [
      "Using tensorflow version 2.10.0\n",
      "Using keras version 2.10.0\n"
     ]
    }
   ],
   "source": [
    "import numpy as np\n",
    "import tensorflow as tf\n",
    "import keras\n",
    "print(\"Using tensorflow version \" + str(tf.__version__))\n",
    "print(\"Using keras version \" + str(keras.__version__))"
   ]
  },
  {
   "cell_type": "markdown",
   "metadata": {
    "id": "s_QLz9_jbRZq"
   },
   "source": [
    "## Loading and preparing the MNIST dataset\n",
    "Load the MNIST dataset made available by keras.datasets. Check the size of the training and testing sets.\n",
    "\n",
    "<div class='alert alert-block alert-info'>\n",
    "            Code:</div>"
   ]
  },
  {
   "cell_type": "code",
   "execution_count": 2,
   "metadata": {
    "cellView": "both",
    "id": "gG83hGyVmijn"
   },
   "outputs": [],
   "source": [
    "# The MNSIT dataset is ready to be imported from Keras into RAM\n",
    "# Warning: you cannot do that for larger databases (e.g., ImageNet)\n",
    "from keras.datasets import mnist\n",
    "(train_images, train_labels), (test_images, test_labels) = mnist.load_data()\n"
   ]
  },
  {
   "cell_type": "code",
   "execution_count": 3,
   "metadata": {
    "colab": {
     "base_uri": "https://localhost:8080/"
    },
    "id": "smh6aDFrhatd",
    "outputId": "507fae41-23f8-41f6-a070-e5d424f125b5"
   },
   "outputs": [
    {
     "data": {
      "text/plain": [
       "(60000, 28, 28)"
      ]
     },
     "execution_count": 3,
     "metadata": {},
     "output_type": "execute_result"
    }
   ],
   "source": [
    "train_images.shape"
   ]
  },
  {
   "cell_type": "code",
   "execution_count": 4,
   "metadata": {
    "colab": {
     "base_uri": "https://localhost:8080/"
    },
    "id": "DC5ToAm0hdfC",
    "outputId": "92140c53-3a23-472d-ca2b-3a49d8426eb8"
   },
   "outputs": [
    {
     "data": {
      "text/plain": [
       "(10000, 28, 28)"
      ]
     },
     "execution_count": 4,
     "metadata": {},
     "output_type": "execute_result"
    }
   ],
   "source": [
    "test_images.shape"
   ]
  },
  {
   "cell_type": "markdown",
   "metadata": {
    "id": "gRPbU_Z4U6Ac"
   },
   "source": [
    "The MNIST database contains 60,000 training images and 10,000 testing images.\n",
    "Using the pyplot package, visualize the first sample of the training set:\n",
    "\n",
    "<div class='alert alert-block alert-info'>\n",
    "            Code:</div>"
   ]
  },
  {
   "cell_type": "code",
   "execution_count": 5,
   "metadata": {
    "colab": {
     "base_uri": "https://localhost:8080/",
     "height": 447
    },
    "id": "x5VAu7oW0Zu4",
    "outputId": "803b52ba-8bc9-48fb-f8d6-befcf9f2fda4"
   },
   "outputs": [
    {
     "data": {
      "text/plain": [
       "<matplotlib.image.AxesImage at 0x1b7e1d06ce0>"
      ]
     },
     "execution_count": 5,
     "metadata": {},
     "output_type": "execute_result"
    },
    {
     "data": {
      "image/png": "[encoded data removed]",
      "text/plain": [
       "<Figure size 640x480 with 1 Axes>"
      ]
     },
     "metadata": {},
     "output_type": "display_data"
    }
   ],
   "source": [
    "# Let us visualize the first training sample using the Matplotlib library with the imshow function\n",
    "from matplotlib import pyplot as plt\n",
    "plt.imshow(train_images[0])\n"
   ]
  },
  {
   "cell_type": "markdown",
   "metadata": {
    "id": "s7YsRekMVDg-"
   },
   "source": [
    "The database contains images of handwritten digits. Hence, they belong to one of 10 categories, depending on the digit they represent.\n",
    "Reminder: in order to do multi-class classification, we use the softmax function, which outputs a multinomial probability distribution. That means that the output to our model will be a vector of size $10$, containing probabilities (meaning that the elements of the vector will be positive sum to $1$).\n",
    "For easy computation, we want to true labels to be represented with the same format: that is what we call **one-hot encoding**. For example, if an image $\\mathbf{x}$ represents the digit $5$, we have the corresponding one_hot label (careful, $0$ will be the first digit):\n",
    "$$ \\mathbf{y} = [0, 0, 0, 0, 0, 1, 0, 0, 0, 0] $$\n",
    "Here, you need to turn train and test labels to one-hot encoding using the following function:\n",
    "\n",
    "<div class='alert alert-block alert-info'>\n",
    "            Code:</div>"
   ]
  },
  {
   "cell_type": "code",
   "execution_count": 6,
   "metadata": {
    "id": "lQbkllF8mnaf"
   },
   "outputs": [],
   "source": [
    "from keras.utils.np_utils import to_categorical\n",
    "train_labels_encode = to_categorical(train_labels)\n",
    "test_labels_encode = to_categorical(test_labels)\n"
   ]
  },
  {
   "cell_type": "markdown",
   "metadata": {
    "id": "0jv29YLtVO3q"
   },
   "source": [
    "Images are black and white, with size $28 \\times 28$. We will work with them using a simple linear classification model, meaning that we will have them as vectors of size $(784)$.\n",
    "You should then transform the images to the size $(784)$ using the numpy function ```reshape```.\n",
    "\n",
    "Then, after casting the pixels to floats, normalize the images so that they have zero-mean and unitary deviation. Be careful to your methodology: while you have access to training data, you may not have access to testing data, and must avoid using any statistic on the testing dataset.\n",
    "\n",
    "<div class='alert alert-block alert-info'>\n",
    "            Code:</div>"
   ]
  },
  {
   "cell_type": "code",
   "execution_count": 7,
   "metadata": {
    "id": "ptTRSDo5nJyZ"
   },
   "outputs": [],
   "source": [
    "# Reshape images to vectors of pixels\n",
    "img_rows, img_cols = train_images.shape[1], train_images.shape[2]\n",
    "train_flatten = train_images.reshape((-1, img_rows*img_cols))\n",
    "\n",
    "\n",
    "# Cast pixels from uint8 to float32\n",
    "train_flatten = train_flatten.astype('float32')\n",
    "\n",
    "# Now let us normalize the images so that they have zero mean and standard deviation\n",
    "# Hint: are real testing data statistics known at training time ?\n",
    "\n",
    "from sklearn.preprocessing import StandardScaler\n",
    "\n",
    "# train_std = train_flatten.std(axis=0, ddof=0)\n",
    "# train_std[train_std==0] = 1 #The pixel which has constant data has std = 0\n",
    "\n",
    "# train_flatten = (train_flatten-train_mean)/train_std\n",
    "\n",
    "\n",
    "test_flatten = test_images.reshape((-1, img_rows*img_cols)).astype('float32')\n",
    "# test_flatten = (test_flatten-train_mean)/train_std\n",
    "\n",
    "scaler = StandardScaler()\n",
    "scaler.fit(train_flatten)\n",
    "train_flatten = scaler.transform(train_flatten)\n",
    "test_flatten = scaler.transform(test_flatten)\n"
   ]
  },
  {
   "cell_type": "markdown",
   "metadata": {
    "id": "mKjK1_5Vgs3X"
   },
   "source": [
    "# First part: working with Numpy\n",
    "\n",
    "Look at this [cheatsheet](https://s3.amazonaws.com/assets.datacamp.com/blog_assets/Numpy_Python_Cheat_Sheet.pdf) for some basic information on how to use numpy.\n",
    "\n",
    "### Defining the model\n",
    "\n",
    "We will here create a simple, linear classification model. We will take each pixel in the image as an input feature (making the size of the input to be $784$) and transform these features with a weight matrix $\\mathbf{W}$ and a bias vector $\\mathbf{b}$. Since there is $10$ possible classes, we want to obtain $10$ scores. Then,\n",
    "$$ \\mathbf{W} \\in \\mathbb{R}^{784 \\times 10} $$\n",
    "$$ \\mathbf{b} \\in \\mathbb{R}^{10} $$\n",
    "\n",
    "and our scores are obtained with:\n",
    "$$ \\mathbf{z} = \\mathbf{W}^{T} \\mathbf{x} +  \\mathbf{b} $$\n",
    "\n",
    "where $\\mathbf{x} \\in \\mathbb{R}^{784}$ is the input vector representing an image.\n",
    "We note $\\mathbf{y} \\in \\mathbb{R}^{10}$ as the target one_hot vector.\n",
    "\n",
    "Here, you fist need to initialize $\\mathbf{W}$ and $\\mathbf{b}$ using ```np.random.normal``` and ```np.zeros```, then compute $\\mathbf{z}$.\n",
    "<div class='alert alert-block alert-info'>\n",
    "            Code:</div>"
   ]
  },
  {
   "cell_type": "code",
   "execution_count": 8,
   "metadata": {
    "id": "IskL6u9igs3Z"
   },
   "outputs": [],
   "source": [
    "# To avoid implementing a complicated gradient back-propagation,\n",
    "# we will try a very simple architecture with one layer\n",
    "def initLayer(n_input,n_output):\n",
    "    \"\"\"\n",
    "    Initialize the weights, return the number of parameters\n",
    "    Inputs: n_input: the number of input units - int\n",
    "          : n_output: the number of output units - int\n",
    "    Outputs: W: a matrix of weights for the layer - numpy ndarray\n",
    "           : b: a vector bias for the layer - numpy ndarray\n",
    "           : nb_params: the number of parameters  - int\n",
    "    \"\"\"\n",
    "\n",
    "\n",
    "    # Create W at the right size with a normal distribution\n",
    "    W = np.random.normal(size=(n_input,n_output))\n",
    "    # Create b at the right size, with zeros\n",
    "    b = np.zeros(n_output)\n",
    "    nb_params = n_input*n_output + n_output\n",
    "    return W, b, nb_params"
   ]
  },
  {
   "cell_type": "code",
   "execution_count": 9,
   "metadata": {
    "id": "A1iRxY4Hgs3a"
   },
   "outputs": [],
   "source": [
    "n_training = train_images.shape[0]\n",
    "n_feature = train_images.shape[1] * train_images.shape[2]\n",
    "n_labels = 10\n",
    "W, b, nb_params = initLayer(n_feature, n_labels)"
   ]
  },
  {
   "cell_type": "markdown",
   "metadata": {
    "id": "DzjMm0-Ags3b"
   },
   "source": [
    "<div class='alert alert-block alert-info'>\n",
    "            Code:</div>"
   ]
  },
  {
   "cell_type": "code",
   "execution_count": 10,
   "metadata": {
    "id": "iZK2rlI7gs3c"
   },
   "outputs": [],
   "source": [
    "def forward(W, b, X):\n",
    "    \"\"\"\n",
    "    Perform the forward propagation\n",
    "    Inputs: W: the weights - numpy ndarray\n",
    "          : b: the bias - numpy ndarray\n",
    "          : X: the batch - numpy ndarray\n",
    "    Outputs: z: outputs - numpy ndarray\n",
    "    \"\"\"\n",
    "\n",
    "    z = X @ W + b\n",
    "    return z"
   ]
  },
  {
   "cell_type": "markdown",
   "metadata": {
    "id": "5yEAo6cogs3c"
   },
   "source": [
    "### Computing the output\n",
    "\n",
    "To obtain classification probabilities, we use the softmax function:\n",
    "$$ \\mathbf{o} = softmax(\\mathbf{z}) \\text{         with          } o_i = \\frac{\\exp(z_i)}{\\sum_{j=0}^{9} \\exp(z_j)} $$\n",
    "\n",
    "The usual difficulty with the softmax function is the possibility of overflow when the scores $z_i$ are already large. Since a softmax is not affected by a shift affecting the whole vector $\\mathbf{z}$:\n",
    "$$ \\frac{\\exp(z_i - c)}{\\sum_{j=0}^{9} \\exp(z_j - c)} =  \\frac{\\exp(c) \\exp(z_i)}{\\exp(c) \\sum_{j=0}^{9} \\exp(z_j)} = \\frac{\\exp(z_i)}{\\sum_{j=0}^{9} \\exp(z_j)}$$\n",
    "what trick can we use to ensure we will not encounter any overflow ?\n",
    "<div class='alert alert-block alert-info'>\n",
    "            Code:</div>"
   ]
  },
  {
   "cell_type": "code",
   "execution_count": 11,
   "metadata": {
    "id": "VaGgFMx7gs3c"
   },
   "outputs": [],
   "source": [
    "def softmax(z):\n",
    "    \"\"\"\n",
    "    Perform the softmax transformation to the pre-activation values\n",
    "    Inputs: z: the pre-activation values - numpy ndarray\n",
    "    Outputs: out: the activation values - numpy ndarray\n",
    "    \"\"\"\n",
    "    c = np.max(z)\n",
    "    out = np.exp(z-c)/np.sum(np.exp(z-c))\n",
    "    return out"
   ]
  },
  {
   "cell_type": "markdown",
   "metadata": {
    "id": "mJpdA9GZgs3d"
   },
   "source": [
    "### Making updates\n",
    "\n",
    "We define a learning rate $\\eta$. The goal is to be able to apply updates:\n",
    "$$ \\mathbf{W}^{t+1} = \\mathbf{W}^{t} + \\nabla_{\\mathbf{W}} l_{MLE} $$\n",
    "\n",
    "In order to do this, we will compute this gradient (and the bias) in the function ```update```. In the next function ```updateParams```, we will actually apply the update with regularization.\n",
    "\n",
    "Reminder: the gradient $\\nabla_{\\mathbf{W}} l_{MLE}$ is the matrix containing the partial derivatives\n",
    "$$ \\left[\\frac{\\delta l_{MLE}}{\\delta W_{ij}}\\right]_{i=1..784, j=1..10} $$\n",
    "**Remark**: Careful, the usual way of implementing this in python has the dimensions of $\\mathbf{W}$ reversed compared to the notation of the slides.\n",
    "\n",
    "Coordinate by coordinate, we obtain the following update:\n",
    "$$ W_{ij}^{t+1} = W_{ij}^{t} + \\eta \\frac{\\delta l_{MLE}}{\\delta W_{ij}} $$\n",
    "\n",
    "Via the chain rule, we obtain, for an input feature $i \\in [0, 783]$ and a output class $j \\in [0, 9]$: $$\\frac{\\delta l_{MLE}}{\\delta W_{ij}} = \\frac{\\delta l_{MLE}}{\\delta z_{j}} \\frac{\\delta z_j}{\\delta W_{ij}}$$\n",
    "\n",
    "It's easy to compute that $\\frac{\\delta z_j}{\\delta W_{ij}} = x_i$\n",
    "\n",
    "We compute the softmax derivative, to obtain:\n",
    "$$ \\nabla_{\\mathbf{z}} l_{MLE} = \\mathbf{o} - \\mathbf{y} $$\n",
    "\n",
    "Hence, $\\frac{\\delta l_{MLE}}{\\delta z_{j}} = o_j - y_j$ and we obtain that $$\\frac{\\delta l_{MLE}}{\\delta W_{ij}} = (o_j - y_j) x_i$$\n",
    "\n",
    "This can easily be written as a scalar product, and a similar computation (even easier, actually) can be done for $\\mathbf{b}$. Noting $\\nabla_{\\mathbf{z}} l_{MLE} = \\mathbf{o} - \\mathbf{y}$ as ```grad``` in the following function, compute the gradients $\\nabla_{\\mathbf{W}} l_{MLE}$ and $\\nabla_{\\mathbf{b}} l_{MLE}$ in order to call the function ```updateParams```.\n",
    "\n",
    "Note: the regularizer and the weight_decay $\\lambda$ are used in ```updateParams```.\n",
    "\n",
    "<div class='alert alert-block alert-info'>\n",
    "            Code:</div>"
   ]
  },
  {
   "cell_type": "code",
   "execution_count": 12,
   "metadata": {
    "id": "wVf2ik7ogs3e"
   },
   "outputs": [],
   "source": [
    "def update(eta, W, b, grad, X, regularizer, weight_decay):\n",
    "    \"\"\"\n",
    "    Perform the update of the parameters\n",
    "    Inputs: eta: the step-size of the gradient descent - float\n",
    "          : W: the weights - ndarray\n",
    "          : b: the bias -  ndarray\n",
    "          : grad: the gradient of the activations w.r.t. to the loss -  list of ndarray\n",
    "          : X: the data -  ndarray\n",
    "          : regularizer: 'L2' or None - the regularizer to be used in updateParams\n",
    "          : weight_decay: the weight decay to be used in updateParams - float\n",
    "    Outputs: W: the weights updated -  ndarray\n",
    "           : b: the bias updated -  ndarray\n",
    "    \"\"\"\n",
    "\n",
    "\n",
    "    grad_w = np.outer(X, grad)\n",
    "    grad_b = grad\n",
    "\n",
    "    W = updateParams(W, grad_w, eta, regularizer, weight_decay)\n",
    "    b = updateParams(b, grad_b, eta, regularizer, weight_decay)\n",
    "    return W, b"
   ]
  },
  {
   "cell_type": "markdown",
   "metadata": {
    "id": "QCbxuyPEgs3f"
   },
   "source": [
    "The update rule is affected by regularization. We implement two cases: No regularization, or L2 regularization. Use the two possible update rules to implement the following function: <div class='alert alert-block alert-info'>\n",
    "            Code:</div>"
   ]
  },
  {
   "cell_type": "code",
   "execution_count": 13,
   "metadata": {
    "id": "UJZW1k51gs3f"
   },
   "outputs": [],
   "source": [
    "def updateParams(param, grad_param, eta, regularizer=None, weight_decay=0.):\n",
    "    \"\"\"\n",
    "    Perform the update of the parameters\n",
    "    Inputs: param: the network parameters - ndarray\n",
    "          : grad_param: the updates of the parameters - ndarray\n",
    "          : eta: the step-size of the gradient descent - float\n",
    "          : weight_decay: the weight-decay - float\n",
    "    Outputs: the parameters updated - ndarray\n",
    "    \"\"\"\n",
    "    if regularizer==None:\n",
    "        return param - grad_param *eta\n",
    "    elif regularizer=='L2':\n",
    "        return param - (grad_param + weight_decay*param)*eta\n",
    "    else:\n",
    "        raise NotImplementedError"
   ]
  },
  {
   "cell_type": "markdown",
   "metadata": {
    "id": "GaBEBsIngs3f"
   },
   "source": [
    "### Computing the Accuracy\n",
    "\n",
    "Here, we simply use the model to predict the class (by taking the argmax of the output !) for every example in ```X```, and count the number of times the model is right, to output the accuracy.\n",
    "<div class='alert alert-block alert-info'>\n",
    "            Code:</div>"
   ]
  },
  {
   "cell_type": "code",
   "execution_count": 14,
   "metadata": {
    "id": "oTOZkgKygs3g"
   },
   "outputs": [],
   "source": [
    "def computeAcc(W, b, X, labels):\n",
    "    \"\"\"\n",
    "    Compute the loss value of the current network on the full batch\n",
    "    Inputs: act_func: the activation function - function\n",
    "          : W: the weights - list of ndarray\n",
    "          : B: the bias - list of ndarray\n",
    "          : X: the batch - ndarray\n",
    "          : labels: the labels corresponding to the batch\n",
    "    Outputs: loss: the negative log-likelihood - float\n",
    "           : accuracy: the ratio of examples that are well-classified - float\n",
    "    \"\"\"\n",
    "    # Forward propagation\n",
    "    z = forward(W, b, X)\n",
    "\n",
    "    # Compute the softmax and the prediction\n",
    "    out = softmax(z)\n",
    "    pred = np.argmax(out, axis=1)\n",
    "    # Compute the accuracy\n",
    "    accuracy = np.average(pred==labels)\n",
    "\n",
    "    return accuracy"
   ]
  },
  {
   "cell_type": "markdown",
   "metadata": {
    "id": "7k7IEPR5gs3h"
   },
   "source": [
    "### Preparing training\n",
    "\n",
    "The following hyperparameters are given. Next, we can assemble all the function previously defined to implement a training loop. We will train the classifier on **one epoch**, meaning that the model will see each training example once."
   ]
  },
  {
   "cell_type": "code",
   "execution_count": 15,
   "metadata": {
    "id": "vK1DUWQugs3i"
   },
   "outputs": [],
   "source": [
    "# Optimization\n",
    "eta = 0.01\n",
    "regularizer = 'L2'\n",
    "weight_decay = 0.0001\n",
    "\n",
    "# Training\n",
    "log_interval = 5000"
   ]
  },
  {
   "cell_type": "markdown",
   "metadata": {
    "id": "MrREQ5P1gs3j"
   },
   "source": [
    "<div class='alert alert-block alert-info'>\n",
    "            Code:</div>"
   ]
  },
  {
   "cell_type": "code",
   "execution_count": 16,
   "metadata": {
    "id": "bBLcvP9R2lwa"
   },
   "outputs": [],
   "source": [
    "W, b, nb_params = initLayer(784,10)"
   ]
  },
  {
   "cell_type": "code",
   "execution_count": 17,
   "metadata": {
    "colab": {
     "base_uri": "https://localhost:8080/"
    },
    "id": "tX0Z0v9Lgs3k",
    "outputId": "cc43a917-2610-435d-e488-a65f15e53ac3"
   },
   "outputs": [
    {
     "name": "stdout",
     "output_type": "stream",
     "text": [
      "0 0.099 0.0932 0.01\n",
      "5000 0.09906666666666666 0.1718 0.01\n",
      "10000 0.09931666666666666 0.2772 0.01\n",
      "15000 0.0997 0.3562 0.01\n",
      "20000 0.0999 0.4153 0.01\n",
      "25000 0.10003333333333334 0.4682 0.01\n",
      "30000 0.10015 0.5084 0.01\n",
      "35000 0.10036666666666667 0.5399 0.01\n",
      "40000 0.10113333333333334 0.5728 0.01\n",
      "45000 0.10225 0.6137 0.01\n",
      "50000 0.10431666666666667 0.6328 0.01\n",
      "55000 0.10453333333333334 0.65 0.01\n",
      "Final result: 0.10453333333333334 0.65 0.01\n"
     ]
    }
   ],
   "source": [
    "# Data structures for plotting\n",
    "g_train_acc=[]\n",
    "g_valid_acc=[]\n",
    "\n",
    "#######################\n",
    "### Learning process ##\n",
    "#######################\n",
    "for j in range(n_training):\n",
    "    # Getting the example\n",
    "    X, y = train_flatten[j], train_labels_encode[j]\n",
    "\n",
    "    # Forward propagation\n",
    "    z = forward(W, b, X)\n",
    "\n",
    "    # Compute the softmax\n",
    "    out = softmax(z)\n",
    "\n",
    "    # Compute the gradient at the top layer\n",
    "    derror = 2*(out-y)@(np.diag(out) - np.outer(out, out))\n",
    "\n",
    "    # Update the parameters\n",
    "    W, b = update(eta, W, b, derror, X, None, weight_decay)\n",
    "\n",
    "    if j % log_interval == 0:\n",
    "        # Every log_interval examples, look at the training accuracy\n",
    "        train_accuracy = computeAcc(W, b, train_flatten, train_labels)\n",
    "\n",
    "        # And the testing accuracy\n",
    "        test_accuracy = computeAcc(W, b, test_flatten, test_labels)\n",
    "\n",
    "        g_train_acc.append(train_accuracy)\n",
    "        g_valid_acc.append(test_accuracy)\n",
    "        result_line = str(int(j)) + \" \" + str(train_accuracy) + \" \" + str(test_accuracy) + \" \" + str(eta)\n",
    "        print(result_line)\n",
    "\n",
    "g_train_acc.append(train_accuracy)\n",
    "g_valid_acc.append(test_accuracy)\n",
    "result_line = \"Final result:\" + \" \" + str(train_accuracy) + \" \" + str(test_accuracy) + \" \" + str(eta)\n",
    "print(result_line)"
   ]
  },
  {
   "cell_type": "markdown",
   "metadata": {
    "id": "ssqAcU54gs3l"
   },
   "source": [
    "What can you say about the performance of this simple linear classifier ?\n",
    "<div class='alert alert-block alert-warning'>\n",
    "            Answer:</div>"
   ]
  },
  {
   "cell_type": "markdown",
   "metadata": {
    "id": "BH3sPbPJgs3l"
   },
   "source": [
    "# Second part: Autoencoder with Keras"
   ]
  },
  {
   "cell_type": "markdown",
   "metadata": {
    "id": "Z-1ol1Fbgs3m"
   },
   "source": [
    "## Autoencoder and PCA\n",
    "\n",
    "First, we will try to connect the representation produced by Principal Component Analysis with what is learnt by a simple, linear, autoencoder. We will use the ```scikit-learn``` implementation of the ```PCA``` to obtain the two first components (hint: use the attribute ```.components_```), and visualize them:\n",
    "<div class='alert alert-block alert-info'>\n",
    "            Code:</div>"
   ]
  },
  {
   "cell_type": "code",
   "execution_count": 18,
   "metadata": {
    "colab": {
     "base_uri": "https://localhost:8080/",
     "height": 324
    },
    "id": "RBjOp-Vfgs3m",
    "outputId": "64b6b071-70e9-479f-a4c9-a449affc403b"
   },
   "outputs": [
    {
     "data": {
      "text/plain": [
       "Text(0.5, 0, 'Second Principal Component')"
      ]
     },
     "execution_count": 18,
     "metadata": {},
     "output_type": "execute_result"
    },
    {
     "data": {
      "image/png": "[encoded data removed]",
      "text/plain": [
       "<Figure size 640x480 with 2 Axes>"
      ]
     },
     "metadata": {},
     "output_type": "display_data"
    }
   ],
   "source": [
    "from sklearn.decomposition import PCA\n",
    "\n",
    "# Let's find the first 2 PCA components\n",
    "num_components = 2\n",
    "pca = PCA(n_components=num_components).fit(train_flatten)\n",
    "\n",
    "# Reshape so they resemble images and we can print them\n",
    "eigen_mnist = pca.components_.reshape((2, img_rows, img_cols))\n",
    "\n",
    "# Show the reshaped principal components\n",
    "f, ax = plt.subplots(1,2)\n",
    "ax[0].imshow(eigen_mnist[0], cmap='gray')\n",
    "ax[0].set_xlabel('First Principal Component')\n",
    "ax[1].imshow(eigen_mnist[1], cmap='gray')\n",
    "ax[1].set_xlabel('Second Principal Component')"
   ]
  },
  {
   "cell_type": "code",
   "execution_count": 19,
   "metadata": {
    "colab": {
     "base_uri": "https://localhost:8080/"
    },
    "id": "IykYr1RWgs3n",
    "outputId": "9499ada6-ff33-4017-b411-2b9ab197f335"
   },
   "outputs": [
    {
     "data": {
      "text/plain": [
       "array([40.487617, 29.241692], dtype=float32)"
      ]
     },
     "execution_count": 19,
     "metadata": {},
     "output_type": "execute_result"
    }
   ],
   "source": [
    "# Print the variance explained by those components\n",
    "pca.explained_variance_"
   ]
  },
  {
   "cell_type": "markdown",
   "metadata": {
    "id": "4jibpOG4gs3n"
   },
   "source": [
    "Comment on the visualization in relation to the variance explained by only keeping the two principal components:\n",
    "<div class='alert alert-block alert-warning'>\n",
    "            Answer:</div>"
   ]
  },
  {
   "cell_type": "markdown",
   "metadata": {
    "id": "CmCEJF_Wgs3o"
   },
   "source": [
    "### Implementing the Autoencoder with Keras"
   ]
  },
  {
   "cell_type": "code",
   "execution_count": 20,
   "metadata": {
    "id": "qsVYdzTggs3o"
   },
   "outputs": [],
   "source": [
    "from tensorflow.keras.models import Model\n",
    "from tensorflow.keras.layers import Input, Dense\n",
    "from tensorflow.keras.optimizers import SGD"
   ]
  },
  {
   "cell_type": "markdown",
   "metadata": {
    "id": "cumm7rlRgs3p"
   },
   "source": [
    "Now, we will use Keras to implement the autoencoder. You can take a look at this [cheatsheet](https://s3.amazonaws.com/assets.datacamp.com/blog_assets/Keras_Cheat_Sheet_Python.pdf) for some basic commands to use keras.\n",
    "\n",
    "In this first case, we implement a **simple linear autoencoder**. Build it in order to have the same capacity as the PCA decomposition (2 hidden dimensions !) we made just above.\n",
    "<div class='alert alert-block alert-info'>\n",
    "            Code:</div>"
   ]
  },
  {
   "cell_type": "code",
   "execution_count": 41,
   "metadata": {
    "colab": {
     "base_uri": "https://localhost:8080/"
    },
    "id": "GXn0Nu3Cgs3p",
    "outputId": "e1ff0ad1-f80c-402b-f74a-7f8b3abef1fa"
   },
   "outputs": [
    {
     "name": "stdout",
     "output_type": "stream",
     "text": [
      "Model: \"ae_model\"\n",
      "_________________________________________________________________\n",
      " Layer (type)                Output Shape              Param #   \n",
      "=================================================================\n",
      " input_4 (InputLayer)        [(None, 784)]             0         \n",
      "                                                                 \n",
      " dense_6 (Dense)             (None, 2)                 1570      \n",
      "                                                                 \n",
      " dense_7 (Dense)             (None, 784)               2352      \n",
      "                                                                 \n",
      "=================================================================\n",
      "Total params: 3,922\n",
      "Trainable params: 3,922\n",
      "Non-trainable params: 0\n",
      "_________________________________________________________________\n"
     ]
    }
   ],
   "source": [
    "# Input layer\n",
    "input_layer = Input(shape=n_feature)\n",
    "# \n",
    "# Encoding layer\n",
    "latent_view = Dense(2, activation='relu')(input_layer)\n",
    "\n",
    "# Decoding layer\n",
    "output_layer = Dense(n_feature, activation='sigmoid')(latent_view)\n",
    "\n",
    "ae_model = Model(input_layer, output_layer, name='ae_model')\n",
    "ae_model.summary()"
   ]
  },
  {
   "cell_type": "markdown",
   "metadata": {
    "id": "XycM6hfdgs3q"
   },
   "source": [
    "What loss shoud we use ? Choose the usual one and import it directly from Keras. You can use a simple ```SGD``` optimizer, and then compile the model; finally, train it to rebuild images from the original examples.\n",
    "<div class='alert alert-block alert-info'>\n",
    "            Code:</div>"
   ]
  },
  {
   "cell_type": "code",
   "execution_count": 42,
   "metadata": {
    "id": "wosy4m9eNdiU"
   },
   "outputs": [],
   "source": [
    "train_images = train_images.reshape(-1, n_feature)/255\n",
    "test_images = test_images.reshape(-1, n_feature)/255"
   ]
  },
  {
   "cell_type": "code",
   "execution_count": 43,
   "metadata": {
    "colab": {
     "base_uri": "https://localhost:8080/"
    },
    "id": "O28KYz6Egs3q",
    "outputId": "e6140146-98b5-4faa-b4c3-05f7c9132b91"
   },
   "outputs": [
    {
     "name": "stdout",
     "output_type": "stream",
     "text": [
      "Epoch 1/10\n",
      "469/469 [==============================] - 1s 2ms/step - loss: 0.2299 - val_loss: 0.2284\n",
      "Epoch 2/10\n",
      "469/469 [==============================] - 1s 1ms/step - loss: 0.2233 - val_loss: 0.2116\n",
      "Epoch 3/10\n",
      "469/469 [==============================] - 1s 1ms/step - loss: 0.1682 - val_loss: 0.1143\n",
      "Epoch 4/10\n",
      "469/469 [==============================] - 1s 1ms/step - loss: 0.0915 - val_loss: 0.0793\n",
      "Epoch 5/10\n",
      "469/469 [==============================] - 1s 1ms/step - loss: 0.0764 - val_loss: 0.0743\n",
      "Epoch 6/10\n",
      "469/469 [==============================] - 1s 1ms/step - loss: 0.0735 - val_loss: 0.0727\n",
      "Epoch 7/10\n",
      "469/469 [==============================] - 1s 1ms/step - loss: 0.0723 - val_loss: 0.0719\n",
      "Epoch 8/10\n",
      "469/469 [==============================] - 1s 1ms/step - loss: 0.0716 - val_loss: 0.0714\n",
      "Epoch 9/10\n",
      "469/469 [==============================] - 1s 1ms/step - loss: 0.0712 - val_loss: 0.0711\n",
      "Epoch 10/10\n",
      "469/469 [==============================] - 1s 1ms/step - loss: 0.0710 - val_loss: 0.0709\n"
     ]
    }
   ],
   "source": [
    "from keras.losses import MeanSquaredError, BinaryCrossentropy\n",
    "loss = MeanSquaredError()\n",
    "#loss = BinaryCrossentropy()\n",
    "optimizer = SGD(lr=1e-1)\n",
    "ae_model.compile(optimizer=optimizer, loss=loss)\n",
    "\n",
    "batch_size = 128\n",
    "epochs = 10\n",
    "# No noise here - we want to train a simple auto-encoder and compare visually with PCA\n",
    "history = ae_model.fit(train_images,\n",
    "                       train_images,\n",
    "                       epochs=epochs,\n",
    "                       batch_size=batch_size,\n",
    "                       verbose=1,\n",
    "                       shuffle=True,\n",
    "                       validation_data=(test_images, test_images))"
   ]
  },
  {
   "cell_type": "markdown",
   "metadata": {
    "id": "sQYJU7Ihgs3r"
   },
   "source": [
    "Assuming that the name of your layer (obtained through the command ```model.summary()```) is ```'layer'```, here is the way to obtained the weights. Visualize the weights of the encoder and compare them to the two components obtained through the PCA."
   ]
  },
  {
   "cell_type": "code",
   "execution_count": 44,
   "metadata": {
    "id": "puPrJY1Lgs3s"
   },
   "outputs": [],
   "source": [
    "weights, bias = ae_model.get_layer('dense_6').get_weights()"
   ]
  },
  {
   "cell_type": "code",
   "execution_count": 45,
   "metadata": {
    "colab": {
     "base_uri": "https://localhost:8080/"
    },
    "id": "WHZDyz7HJglX",
    "outputId": "debcefe0-529e-4f65-c976-174144f544a1"
   },
   "outputs": [
    {
     "data": {
      "text/plain": [
       "((784, 2), (2,))"
      ]
     },
     "execution_count": 45,
     "metadata": {},
     "output_type": "execute_result"
    }
   ],
   "source": [
    "weights.shape, bias.shape"
   ]
  },
  {
   "cell_type": "code",
   "execution_count": 46,
   "metadata": {},
   "outputs": [
    {
     "data": {
      "text/plain": [
       "array([[ 0.06110654, -0.0655779 ],\n",
       "       [ 0.01409627,  0.02163582],\n",
       "       [ 0.02734824, -0.02415579],\n",
       "       ...,\n",
       "       [-0.07236497, -0.06322174],\n",
       "       [-0.08227216, -0.05801304],\n",
       "       [-0.01170035, -0.05020816]], dtype=float32)"
      ]
     },
     "execution_count": 46,
     "metadata": {},
     "output_type": "execute_result"
    }
   ],
   "source": [
    "weights"
   ]
  },
  {
   "cell_type": "markdown",
   "metadata": {
    "id": "QsHx2ktkgs3s"
   },
   "source": [
    "<div class='alert alert-block alert-info'>\n",
    "            Code:</div>"
   ]
  },
  {
   "cell_type": "code",
   "execution_count": 47,
   "metadata": {
    "colab": {
     "base_uri": "https://localhost:8080/",
     "height": 324
    },
    "id": "q5I7y5VUgs3t",
    "outputId": "59c3abb8-6364-480e-fa63-01bd7c26fa6d"
   },
   "outputs": [
    {
     "data": {
      "text/plain": [
       "Text(0.5, 0, 'Second Principal Component')"
      ]
     },
     "execution_count": 47,
     "metadata": {},
     "output_type": "execute_result"
    },
    {
     "data": {
      "image/png": "[encoded data removed]",
      "text/plain": [
       "<Figure size 640x480 with 2 Axes>"
      ]
     },
     "metadata": {},
     "output_type": "display_data"
    }
   ],
   "source": [
    "# Show the two dimensions of the encoder, in a similar manner to the principal components\n",
    "# (after reshaping them as images !)\n",
    "f, ax = plt.subplots(1,2)\n",
    "ax[0].imshow(weights[:,0].reshape(img_rows, img_cols), cmap='gray')\n",
    "ax[0].set_xlabel('First Principal Component')\n",
    "ax[1].imshow(weights[:,1].reshape(img_rows, img_cols), cmap='gray')\n",
    "ax[1].set_xlabel('Second Principal Component')\n"
   ]
  },
  {
   "cell_type": "markdown",
   "metadata": {
    "id": "GSSeEc7qgs3t"
   },
   "source": [
    "Now, visualize the images rebuilt by the network !\n",
    "<div class='alert alert-block alert-info'>\n",
    "            Code:</div>"
   ]
  },
  {
   "cell_type": "code",
   "execution_count": 48,
   "metadata": {
    "colab": {
     "base_uri": "https://localhost:8080/",
     "height": 300
    },
    "id": "7QUjcorOgs3u",
    "outputId": "fa1ed22e-1dce-43a3-ebe2-973cce517f7f"
   },
   "outputs": [
    {
     "name": "stdout",
     "output_type": "stream",
     "text": [
      "313/313 [==============================] - 0s 809us/step\n"
     ]
    },
    {
     "data": {
      "image/png": "[encoded data removed]",
      "text/plain": [
       "<Figure size 640x480 with 5 Axes>"
      ]
     },
     "metadata": {},
     "output_type": "display_data"
    },
    {
     "data": {
      "image/png": "[encoded data removed]",
      "text/plain": [
       "<Figure size 640x480 with 5 Axes>"
      ]
     },
     "metadata": {},
     "output_type": "display_data"
    }
   ],
   "source": [
    "# Select a few images at random: look from n\n",
    "n = np.random.randint(0,len(test_images)-5)\n",
    "\n",
    "# Plot a few images from n\n",
    "f, ax = plt.subplots(1,5)\n",
    "for i,a in enumerate(range(n,n+5)):\n",
    "    ax[i].imshow(test_images[a].reshape(28,28), cmap='gray')\n",
    "\n",
    "# Get the prediction from the model\n",
    "output = ae_model.predict(test_images)\n",
    "\n",
    "# ... and plot them\n",
    "f, ax = plt.subplots(1,5)\n",
    "for i,a in enumerate(range(n,n+5)):\n",
    "    ax[i].imshow(output[a].reshape(28,28), cmap=\"gray\")"
   ]
  },
  {
   "cell_type": "markdown",
   "metadata": {
    "id": "bxelrgNbgs3v"
   },
   "source": [
    "\\Do the same ( = build a new model) with a latent dimension that is largely higher than 2. Compare the visualizations and the images that are rebuilt.\n",
    "<div class='alert alert-block alert-info'>\n",
    "            Code:</div>"
   ]
  },
  {
   "cell_type": "code",
   "execution_count": 49,
   "metadata": {
    "id": "UgvjzRNwgs3v"
   },
   "outputs": [
    {
     "name": "stdout",
     "output_type": "stream",
     "text": [
      "Model: \"ae_model\"\n",
      "_________________________________________________________________\n",
      " Layer (type)                Output Shape              Param #   \n",
      "=================================================================\n",
      " input_5 (InputLayer)        [(None, 784)]             0         \n",
      "                                                                 \n",
      " dense_8 (Dense)             (None, 64)                50240     \n",
      "                                                                 \n",
      " dense_9 (Dense)             (None, 784)               50960     \n",
      "                                                                 \n",
      "=================================================================\n",
      "Total params: 101,200\n",
      "Trainable params: 101,200\n",
      "Non-trainable params: 0\n",
      "_________________________________________________________________\n"
     ]
    }
   ],
   "source": [
    "input_layer = Input(shape=n_feature)\n",
    "\n",
    "# Encoding layer\n",
    "latent_view = Dense(64, activation='relu')(input_layer)\n",
    "\n",
    "# Decoding layer\n",
    "output_layer = Dense(n_feature, activation='sigmoid')(latent_view)\n",
    "\n",
    "ae_model = Model(input_layer, output_layer, name='ae_model')\n",
    "ae_model.summary()"
   ]
  },
  {
   "cell_type": "code",
   "execution_count": 52,
   "metadata": {},
   "outputs": [
    {
     "name": "stdout",
     "output_type": "stream",
     "text": [
      "Epoch 1/40\n",
      "469/469 [==============================] - 1s 2ms/step - loss: 0.0675 - val_loss: 0.0671\n",
      "Epoch 2/40\n",
      "469/469 [==============================] - 1s 2ms/step - loss: 0.0668 - val_loss: 0.0664\n",
      "Epoch 3/40\n",
      "469/469 [==============================] - 1s 2ms/step - loss: 0.0661 - val_loss: 0.0657\n",
      "Epoch 4/40\n",
      "469/469 [==============================] - 1s 2ms/step - loss: 0.0654 - val_loss: 0.0649\n",
      "Epoch 5/40\n",
      "469/469 [==============================] - 1s 2ms/step - loss: 0.0647 - val_loss: 0.0642\n",
      "Epoch 6/40\n",
      "469/469 [==============================] - 1s 2ms/step - loss: 0.0639 - val_loss: 0.0633\n",
      "Epoch 7/40\n",
      "469/469 [==============================] - 1s 2ms/step - loss: 0.0631 - val_loss: 0.0625\n",
      "Epoch 8/40\n",
      "469/469 [==============================] - 1s 2ms/step - loss: 0.0622 - val_loss: 0.0616\n",
      "Epoch 9/40\n",
      "469/469 [==============================] - 1s 2ms/step - loss: 0.0614 - val_loss: 0.0608\n",
      "Epoch 10/40\n",
      "469/469 [==============================] - 1s 2ms/step - loss: 0.0605 - val_loss: 0.0599\n",
      "Epoch 11/40\n",
      "469/469 [==============================] - 1s 2ms/step - loss: 0.0597 - val_loss: 0.0590\n",
      "Epoch 12/40\n",
      "469/469 [==============================] - 1s 2ms/step - loss: 0.0589 - val_loss: 0.0582\n",
      "Epoch 13/40\n",
      "469/469 [==============================] - 1s 2ms/step - loss: 0.0580 - val_loss: 0.0573\n",
      "Epoch 14/40\n",
      "469/469 [==============================] - 1s 2ms/step - loss: 0.0572 - val_loss: 0.0565\n",
      "Epoch 15/40\n",
      "469/469 [==============================] - 1s 2ms/step - loss: 0.0564 - val_loss: 0.0557\n",
      "Epoch 16/40\n",
      "469/469 [==============================] - 1s 2ms/step - loss: 0.0557 - val_loss: 0.0549\n",
      "Epoch 17/40\n",
      "469/469 [==============================] - 1s 2ms/step - loss: 0.0549 - val_loss: 0.0542\n",
      "Epoch 18/40\n",
      "469/469 [==============================] - 1s 2ms/step - loss: 0.0542 - val_loss: 0.0535\n",
      "Epoch 19/40\n",
      "469/469 [==============================] - 1s 2ms/step - loss: 0.0535 - val_loss: 0.0528\n",
      "Epoch 20/40\n",
      "469/469 [==============================] - 1s 2ms/step - loss: 0.0528 - val_loss: 0.0521\n",
      "Epoch 21/40\n",
      "469/469 [==============================] - 1s 2ms/step - loss: 0.0522 - val_loss: 0.0514\n",
      "Epoch 22/40\n",
      "469/469 [==============================] - 1s 2ms/step - loss: 0.0515 - val_loss: 0.0508\n",
      "Epoch 23/40\n",
      "469/469 [==============================] - 1s 2ms/step - loss: 0.0509 - val_loss: 0.0502\n",
      "Epoch 24/40\n",
      "469/469 [==============================] - 1s 2ms/step - loss: 0.0503 - val_loss: 0.0496\n",
      "Epoch 25/40\n",
      "469/469 [==============================] - 1s 2ms/step - loss: 0.0497 - val_loss: 0.0490\n",
      "Epoch 26/40\n",
      "469/469 [==============================] - 1s 2ms/step - loss: 0.0492 - val_loss: 0.0485\n",
      "Epoch 27/40\n",
      "469/469 [==============================] - 1s 2ms/step - loss: 0.0486 - val_loss: 0.0479\n",
      "Epoch 28/40\n",
      "469/469 [==============================] - 1s 2ms/step - loss: 0.0481 - val_loss: 0.0474\n",
      "Epoch 29/40\n",
      "469/469 [==============================] - 1s 2ms/step - loss: 0.0476 - val_loss: 0.0469\n",
      "Epoch 30/40\n",
      "469/469 [==============================] - 1s 2ms/step - loss: 0.0471 - val_loss: 0.0465\n",
      "Epoch 31/40\n",
      "469/469 [==============================] - 1s 2ms/step - loss: 0.0467 - val_loss: 0.0460\n",
      "Epoch 32/40\n",
      "469/469 [==============================] - 1s 2ms/step - loss: 0.0462 - val_loss: 0.0455\n",
      "Epoch 33/40\n",
      "469/469 [==============================] - 1s 2ms/step - loss: 0.0458 - val_loss: 0.0451\n",
      "Epoch 34/40\n",
      "469/469 [==============================] - 1s 2ms/step - loss: 0.0454 - val_loss: 0.0447\n",
      "Epoch 35/40\n",
      "469/469 [==============================] - 1s 2ms/step - loss: 0.0450 - val_loss: 0.0443\n",
      "Epoch 36/40\n",
      "469/469 [==============================] - 1s 2ms/step - loss: 0.0446 - val_loss: 0.0439\n",
      "Epoch 37/40\n",
      "469/469 [==============================] - 1s 2ms/step - loss: 0.0442 - val_loss: 0.0435\n",
      "Epoch 38/40\n",
      "469/469 [==============================] - 1s 2ms/step - loss: 0.0438 - val_loss: 0.0432\n",
      "Epoch 39/40\n",
      "469/469 [==============================] - 1s 2ms/step - loss: 0.0435 - val_loss: 0.0428\n",
      "Epoch 40/40\n",
      "469/469 [==============================] - 1s 2ms/step - loss: 0.0431 - val_loss: 0.0425\n"
     ]
    }
   ],
   "source": [
    "ae_model.compile(optimizer=optimizer, loss=loss)\n",
    "\n",
    "history = ae_model.fit(train_images,\n",
    "                       train_images,\n",
    "                       epochs=40,\n",
    "                       batch_size=batch_size,\n",
    "                       verbose=1,\n",
    "                       shuffle=True,\n",
    "                       validation_data=(test_images, test_images))"
   ]
  },
  {
   "cell_type": "code",
   "execution_count": 53,
   "metadata": {},
   "outputs": [
    {
     "name": "stdout",
     "output_type": "stream",
     "text": [
      "313/313 [==============================] - 0s 883us/step\n"
     ]
    },
    {
     "data": {
      "image/png": "[encoded data removed]",
      "text/plain": [
       "<Figure size 640x480 with 5 Axes>"
      ]
     },
     "metadata": {},
     "output_type": "display_data"
    },
    {
     "data": {
      "image/png": "[encoded data removed]",
      "text/plain": [
       "<Figure size 640x480 with 5 Axes>"
      ]
     },
     "metadata": {},
     "output_type": "display_data"
    }
   ],
   "source": [
    "# Select a few images at random: look from n\n",
    "n = np.random.randint(0,len(test_images)-5)\n",
    "\n",
    "# Plot a few images from n\n",
    "f, ax = plt.subplots(1,5)\n",
    "for i,a in enumerate(range(n,n+5)):\n",
    "    ax[i].imshow(test_images[a].reshape(28,28), cmap='gray')\n",
    "\n",
    "# Get the prediction from the model\n",
    "output = ae_model.predict(test_images)\n",
    "\n",
    "# ... and plot them\n",
    "f, ax = plt.subplots(1,5)\n",
    "for i,a in enumerate(range(n,n+5)):\n",
    "    ax[i].imshow(output[a].reshape(28,28), cmap=\"gray\")"
   ]
  },
  {
   "cell_type": "markdown",
   "metadata": {
    "id": "82IHKWoSgs3w"
   },
   "source": [
    "### Bonus: De-noising Autoencoder\n",
    "\n",
    "Now, we can implement a **de-noising autoencoder**. The following function will transform an array of images by adding it random noise. Create a new autoencoder model, this time with **more layers** and **non-linear activations** (like the ReLU) and train it to rebuild the de-noised images. Display some testing images, with noise, and re-built."
   ]
  },
  {
   "cell_type": "code",
   "execution_count": 54,
   "metadata": {
    "id": "JAlaq8Edgs3w"
   },
   "outputs": [],
   "source": [
    "def noise(array):\n",
    "    \"\"\"\n",
    "    Adds random noise to each image in the supplied array.\n",
    "    \"\"\"\n",
    "    noise_factor = 0.4\n",
    "    noisy_array = array + noise_factor * np.random.normal(\n",
    "        loc=0.0, scale=1.0, size=array.shape\n",
    "    )\n",
    "    return noisy_array"
   ]
  },
  {
   "cell_type": "code",
   "execution_count": 55,
   "metadata": {
    "id": "9HoxrbrYgs3x"
   },
   "outputs": [],
   "source": [
    "# Create a copy of the data with added noise\n",
    "noisy_train_images = noise(train_images)\n",
    "noisy_test_images = noise(test_images)"
   ]
  },
  {
   "cell_type": "markdown",
   "metadata": {
    "id": "pzO6P1ONgs3x"
   },
   "source": [
    "<div class='alert alert-block alert-info'>\n",
    "            Code:</div>"
   ]
  },
  {
   "cell_type": "code",
   "execution_count": 57,
   "metadata": {
    "id": "nzMhK28ags3y"
   },
   "outputs": [
    {
     "name": "stdout",
     "output_type": "stream",
     "text": [
      "Model: \"ae_model\"\n",
      "_________________________________________________________________\n",
      " Layer (type)                Output Shape              Param #   \n",
      "=================================================================\n",
      " input_7 (InputLayer)        [(None, 784)]             0         \n",
      "                                                                 \n",
      " dense_12 (Dense)            (None, 256)               200960    \n",
      "                                                                 \n",
      " dense_13 (Dense)            (None, 784)               201488    \n",
      "                                                                 \n",
      "=================================================================\n",
      "Total params: 402,448\n",
      "Trainable params: 402,448\n",
      "Non-trainable params: 0\n",
      "_________________________________________________________________\n",
      "Epoch 1/50\n",
      "469/469 [==============================] - 1s 3ms/step - loss: 0.2043 - val_loss: 0.1564\n",
      "Epoch 2/50\n",
      "469/469 [==============================] - 1s 2ms/step - loss: 0.1124 - val_loss: 0.0860\n",
      "Epoch 3/50\n",
      "469/469 [==============================] - 1s 2ms/step - loss: 0.0798 - val_loss: 0.0756\n",
      "Epoch 4/50\n",
      "469/469 [==============================] - 1s 2ms/step - loss: 0.0741 - val_loss: 0.0726\n",
      "Epoch 5/50\n",
      "469/469 [==============================] - 1s 2ms/step - loss: 0.0718 - val_loss: 0.0709\n",
      "Epoch 6/50\n",
      "469/469 [==============================] - 1s 2ms/step - loss: 0.0703 - val_loss: 0.0696\n",
      "Epoch 7/50\n",
      "469/469 [==============================] - 1s 2ms/step - loss: 0.0692 - val_loss: 0.0685\n",
      "Epoch 8/50\n",
      "469/469 [==============================] - 1s 2ms/step - loss: 0.0681 - val_loss: 0.0675\n",
      "Epoch 9/50\n",
      "469/469 [==============================] - 1s 2ms/step - loss: 0.0671 - val_loss: 0.0665\n",
      "Epoch 10/50\n",
      "469/469 [==============================] - 1s 2ms/step - loss: 0.0661 - val_loss: 0.0655\n",
      "Epoch 11/50\n",
      "469/469 [==============================] - 1s 2ms/step - loss: 0.0652 - val_loss: 0.0645\n",
      "Epoch 12/50\n",
      "469/469 [==============================] - 1s 2ms/step - loss: 0.0642 - val_loss: 0.0635\n",
      "Epoch 13/50\n",
      "469/469 [==============================] - 1s 2ms/step - loss: 0.0631 - val_loss: 0.0624\n",
      "Epoch 14/50\n",
      "469/469 [==============================] - 1s 2ms/step - loss: 0.0621 - val_loss: 0.0614\n",
      "Epoch 15/50\n",
      "469/469 [==============================] - 1s 2ms/step - loss: 0.0611 - val_loss: 0.0603\n",
      "Epoch 16/50\n",
      "469/469 [==============================] - 1s 2ms/step - loss: 0.0600 - val_loss: 0.0593\n",
      "Epoch 17/50\n",
      "469/469 [==============================] - 1s 2ms/step - loss: 0.0590 - val_loss: 0.0582\n",
      "Epoch 18/50\n",
      "469/469 [==============================] - 1s 2ms/step - loss: 0.0580 - val_loss: 0.0572\n",
      "Epoch 19/50\n",
      "469/469 [==============================] - 1s 2ms/step - loss: 0.0571 - val_loss: 0.0562\n",
      "Epoch 20/50\n",
      "469/469 [==============================] - 1s 2ms/step - loss: 0.0561 - val_loss: 0.0553\n",
      "Epoch 21/50\n",
      "469/469 [==============================] - 1s 2ms/step - loss: 0.0552 - val_loss: 0.0544\n",
      "Epoch 22/50\n",
      "469/469 [==============================] - 1s 2ms/step - loss: 0.0543 - val_loss: 0.0535\n",
      "Epoch 23/50\n",
      "469/469 [==============================] - 1s 2ms/step - loss: 0.0535 - val_loss: 0.0527\n",
      "Epoch 24/50\n",
      "469/469 [==============================] - 1s 2ms/step - loss: 0.0527 - val_loss: 0.0519\n",
      "Epoch 25/50\n",
      "469/469 [==============================] - 1s 2ms/step - loss: 0.0519 - val_loss: 0.0511\n",
      "Epoch 26/50\n",
      "469/469 [==============================] - 1s 2ms/step - loss: 0.0512 - val_loss: 0.0504\n",
      "Epoch 27/50\n",
      "469/469 [==============================] - 1s 2ms/step - loss: 0.0505 - val_loss: 0.0497\n",
      "Epoch 28/50\n",
      "469/469 [==============================] - 1s 2ms/step - loss: 0.0498 - val_loss: 0.0491\n",
      "Epoch 29/50\n",
      "469/469 [==============================] - 1s 2ms/step - loss: 0.0492 - val_loss: 0.0484\n",
      "Epoch 30/50\n",
      "469/469 [==============================] - 1s 2ms/step - loss: 0.0486 - val_loss: 0.0478\n",
      "Epoch 31/50\n",
      "469/469 [==============================] - 1s 2ms/step - loss: 0.0480 - val_loss: 0.0472\n",
      "Epoch 32/50\n",
      "469/469 [==============================] - 1s 2ms/step - loss: 0.0474 - val_loss: 0.0466\n",
      "Epoch 33/50\n",
      "469/469 [==============================] - 1s 2ms/step - loss: 0.0468 - val_loss: 0.0461\n",
      "Epoch 34/50\n",
      "469/469 [==============================] - 1s 2ms/step - loss: 0.0463 - val_loss: 0.0456\n",
      "Epoch 35/50\n",
      "469/469 [==============================] - 1s 2ms/step - loss: 0.0458 - val_loss: 0.0451\n",
      "Epoch 36/50\n",
      "469/469 [==============================] - 1s 2ms/step - loss: 0.0453 - val_loss: 0.0446\n",
      "Epoch 37/50\n",
      "469/469 [==============================] - 1s 2ms/step - loss: 0.0448 - val_loss: 0.0441\n",
      "Epoch 38/50\n",
      "469/469 [==============================] - 1s 2ms/step - loss: 0.0444 - val_loss: 0.0437\n",
      "Epoch 39/50\n",
      "469/469 [==============================] - 1s 2ms/step - loss: 0.0439 - val_loss: 0.0432\n",
      "Epoch 40/50\n",
      "469/469 [==============================] - 1s 2ms/step - loss: 0.0435 - val_loss: 0.0428\n",
      "Epoch 41/50\n",
      "469/469 [==============================] - 1s 2ms/step - loss: 0.0431 - val_loss: 0.0424\n",
      "Epoch 42/50\n",
      "469/469 [==============================] - 1s 2ms/step - loss: 0.0427 - val_loss: 0.0420\n",
      "Epoch 43/50\n",
      "469/469 [==============================] - 1s 2ms/step - loss: 0.0423 - val_loss: 0.0416\n",
      "Epoch 44/50\n",
      "469/469 [==============================] - 1s 2ms/step - loss: 0.0419 - val_loss: 0.0412\n",
      "Epoch 45/50\n",
      "469/469 [==============================] - 1s 2ms/step - loss: 0.0415 - val_loss: 0.0409\n",
      "Epoch 46/50\n",
      "469/469 [==============================] - 1s 2ms/step - loss: 0.0412 - val_loss: 0.0405\n",
      "Epoch 47/50\n",
      "469/469 [==============================] - 1s 2ms/step - loss: 0.0408 - val_loss: 0.0402\n",
      "Epoch 48/50\n",
      "469/469 [==============================] - 1s 2ms/step - loss: 0.0405 - val_loss: 0.0399\n",
      "Epoch 49/50\n",
      "469/469 [==============================] - 1s 2ms/step - loss: 0.0402 - val_loss: 0.0395\n",
      "Epoch 50/50\n",
      "469/469 [==============================] - 1s 2ms/step - loss: 0.0399 - val_loss: 0.0392\n",
      "313/313 [==============================] - 0s 938us/step\n"
     ]
    },
    {
     "data": {
      "image/png": "[encoded data removed]",
      "text/plain": [
       "<Figure size 640x480 with 5 Axes>"
      ]
     },
     "metadata": {},
     "output_type": "display_data"
    },
    {
     "data": {
      "image/png": "[encoded data removed]",
      "text/plain": [
       "<Figure size 640x480 with 5 Axes>"
      ]
     },
     "metadata": {},
     "output_type": "display_data"
    },
    {
     "data": {
      "image/png": "[encoded data removed]",
      "text/plain": [
       "<Figure size 640x480 with 5 Axes>"
      ]
     },
     "metadata": {},
     "output_type": "display_data"
    },
    {
     "data": {
      "image/png": "[encoded data removed]",
      "text/plain": [
       "<Figure size 640x480 with 5 Axes>"
      ]
     },
     "metadata": {},
     "output_type": "display_data"
    }
   ],
   "source": [
    "# Visualize some of the images with noise against the originals\n",
    "n = np.random.randint(0,len(test_images)-5)\n",
    "\n",
    "f, ax = plt.subplots(1,5)\n",
    "for i,a in enumerate(range(n,n+5)):\n",
    "    ax[i].imshow(train_images[a].reshape(28,28), cmap='gray')\n",
    "\n",
    "f, ax = plt.subplots(1,5)\n",
    "for i,a in enumerate(range(n,n+5)):\n",
    "    ax[i].imshow(noisy_train_images[a].reshape(28,28), cmap=\"gray\")\n",
    "# Build a new model with more layers and Relu activations\n",
    "input_layer = Input(shape=n_feature)\n",
    "\n",
    "latent_view = Dense(256, activation='relu')(input_layer)\n",
    "\n",
    "output_layer = Dense(n_feature, activation='sigmoid')(latent_view)\n",
    "\n",
    "ae_model = Model(input_layer, output_layer, name='ae_model')\n",
    "ae_model.summary()\n",
    "\n",
    "# Compile it but here, use noised data as inputs !\n",
    "ae_model.compile(optimizer=optimizer, loss=loss)\n",
    "\n",
    "history = ae_model.fit(noisy_train_images,\n",
    "                       train_images,\n",
    "                       epochs=50,\n",
    "                       batch_size=batch_size,\n",
    "                       verbose=1,\n",
    "                       shuffle=True,\n",
    "                       validation_data=(noisy_test_images, test_images))\n",
    "\n",
    "# Visualize the images rebuilt by the model !\n",
    "output = ae_model.predict(noisy_test_images)\n",
    "\n",
    "f, ax = plt.subplots(1,5)\n",
    "for i,a in enumerate(range(n,n+5)):\n",
    "    ax[i].imshow(noisy_test_images[a].reshape(28,28), cmap=\"gray\")\n",
    "\n",
    "f, ax = plt.subplots(1,5)\n",
    "for i,a in enumerate(range(n,n+5)):\n",
    "    ax[i].imshow(output[a].reshape(28,28), cmap=\"gray\")"
   ]
  },
  {
   "cell_type": "markdown",
   "metadata": {
    "id": "HJ11jHqSgs3z"
   },
   "source": [
    "Assuming that we normalize the images to be in the 0-1 range, what other loss function could we use ?\n",
    "<div class='alert alert-block alert-warning'>\n",
    "            Answer:</div>"
   ]
  },
  {
   "cell_type": "markdown",
   "metadata": {},
   "source": [
    "We can also use Binary Cross Entropy Loss"
   ]
  },
  {
   "cell_type": "code",
   "execution_count": null,
   "metadata": {},
   "outputs": [],
   "source": []
  }
 ],
 "metadata": {
  "colab": {
   "provenance": []
  },
  "gpuClass": "standard",
  "kernelspec": {
   "display_name": "Python 3 (ipykernel)",
   "language": "python",
   "name": "python3"
  },
  "language_info": {
   "codemirror_mode": {
    "name": "ipython",
    "version": 3
   },
   "file_extension": ".py",
   "mimetype": "text/x-python",
   "name": "python",
   "nbconvert_exporter": "python",
   "pygments_lexer": "ipython3",
   "version": "3.10.13"
  }
 },
 "nbformat": 4,
 "nbformat_minor": 4
}
