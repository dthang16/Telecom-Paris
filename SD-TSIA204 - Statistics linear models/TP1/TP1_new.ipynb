{
 "cells": [
  {
   "cell_type": "code",
   "execution_count": 1,
   "id": "54cb062c-4a99-4e2b-b4f2-b8a76eaa1a6f",
   "metadata": {},
   "outputs": [],
   "source": [
    "import pandas as pd\n",
    "import matplotlib.pyplot as plt\n",
    "import numpy as np\n",
    "import scipy.stats as stat\n",
    "import sklearn"
   ]
  },
  {
   "cell_type": "markdown",
   "id": "13453b39-bba9-4c35-a2a8-c8cee95b7c58",
   "metadata": {},
   "source": [
    "# Question 1:"
   ]
  },
  {
   "cell_type": "code",
   "execution_count": 2,
   "id": "23a5fe38-0b8f-49de-b372-950f24d42354",
   "metadata": {},
   "outputs": [],
   "source": [
    "data = pd.read_csv('invest.txt', delimiter=' ')"
   ]
  },
  {
   "cell_type": "code",
   "execution_count": 3,
   "id": "9c839961-2b04-46f9-a2b7-f710455e39fb",
   "metadata": {},
   "outputs": [
    {
     "data": {
      "text/html": [
       "<div>\n",
       "<style scoped>\n",
       "    .dataframe tbody tr th:only-of-type {\n",
       "        vertical-align: middle;\n",
       "    }\n",
       "\n",
       "    .dataframe tbody tr th {\n",
       "        vertical-align: top;\n",
       "    }\n",
       "\n",
       "    .dataframe thead th {\n",
       "        text-align: right;\n",
       "    }\n",
       "</style>\n",
       "<table border=\"1\" class=\"dataframe\">\n",
       "  <thead>\n",
       "    <tr style=\"text-align: right;\">\n",
       "      <th></th>\n",
       "      <th>year</th>\n",
       "      <th>gnp</th>\n",
       "      <th>invest</th>\n",
       "      <th>cpi</th>\n",
       "      <th>interest</th>\n",
       "    </tr>\n",
       "  </thead>\n",
       "  <tbody>\n",
       "    <tr>\n",
       "      <th>0</th>\n",
       "      <td>1968</td>\n",
       "      <td>873.4</td>\n",
       "      <td>133.3</td>\n",
       "      <td>82.54</td>\n",
       "      <td>5.16</td>\n",
       "    </tr>\n",
       "    <tr>\n",
       "      <th>1</th>\n",
       "      <td>1969</td>\n",
       "      <td>944.0</td>\n",
       "      <td>149.3</td>\n",
       "      <td>86.79</td>\n",
       "      <td>5.87</td>\n",
       "    </tr>\n",
       "    <tr>\n",
       "      <th>2</th>\n",
       "      <td>1970</td>\n",
       "      <td>992.7</td>\n",
       "      <td>144.2</td>\n",
       "      <td>91.45</td>\n",
       "      <td>5.95</td>\n",
       "    </tr>\n",
       "    <tr>\n",
       "      <th>3</th>\n",
       "      <td>1971</td>\n",
       "      <td>1077.6</td>\n",
       "      <td>166.4</td>\n",
       "      <td>96.01</td>\n",
       "      <td>4.88</td>\n",
       "    </tr>\n",
       "    <tr>\n",
       "      <th>4</th>\n",
       "      <td>1972</td>\n",
       "      <td>1185.9</td>\n",
       "      <td>195.0</td>\n",
       "      <td>100.00</td>\n",
       "      <td>4.50</td>\n",
       "    </tr>\n",
       "  </tbody>\n",
       "</table>\n",
       "</div>"
      ],
      "text/plain": [
       "   year     gnp  invest     cpi  interest\n",
       "0  1968   873.4   133.3   82.54      5.16\n",
       "1  1969   944.0   149.3   86.79      5.87\n",
       "2  1970   992.7   144.2   91.45      5.95\n",
       "3  1971  1077.6   166.4   96.01      4.88\n",
       "4  1972  1185.9   195.0  100.00      4.50"
      ]
     },
     "execution_count": 3,
     "metadata": {},
     "output_type": "execute_result"
    }
   ],
   "source": [
    "data.head()"
   ]
  },
  {
   "cell_type": "markdown",
   "id": "e692739d-a073-457f-9807-809fe7be22cf",
   "metadata": {},
   "source": [
    "# Question 2:"
   ]
  },
  {
   "cell_type": "code",
   "execution_count": 4,
   "id": "286783f4-1f5d-427f-865a-fba0ab948577",
   "metadata": {},
   "outputs": [
    {
     "data": {
      "text/plain": [
       "Text(0, 0.5, 'Invest')"
      ]
     },
     "execution_count": 4,
     "metadata": {},
     "output_type": "execute_result"
    },
    {
     "data": {
      "image/png": "[encoded data removed]",
      "text/plain": [
       "<Figure size 640x480 with 1 Axes>"
      ]
     },
     "metadata": {},
     "output_type": "display_data"
    }
   ],
   "source": [
    "plt.scatter(data['gnp'], data['invest'])\n",
    "plt.xlabel('Gross National Product')\n",
    "plt.ylabel('Invest')"
   ]
  },
  {
   "cell_type": "markdown",
   "id": "2e835f8a-f30d-4b30-9095-a1617d31dec0",
   "metadata": {},
   "source": [
    "# Question 3:"
   ]
  },
  {
   "cell_type": "code",
   "execution_count": 5,
   "id": "02849633-fcaa-47cc-adb8-121f6a13222f",
   "metadata": {},
   "outputs": [],
   "source": [
    "X = np.log(data['gnp'])\n",
    "y = np.log(data['invest'])"
   ]
  },
  {
   "cell_type": "code",
   "execution_count": 6,
   "id": "6dcca7f5-c0d4-4570-9894-f621b4e5a1f6",
   "metadata": {},
   "outputs": [
    {
     "name": "stdout",
     "output_type": "stream",
     "text": [
      "The intercept is :-1.9636 and its standard deviation is: 0.4095\n",
      "The slope is :1.0153 and its standard deviation is : 0.0554\n"
     ]
    }
   ],
   "source": [
    "X_bar = np.mean(X)\n",
    "y_bar = np.mean(y)\n",
    "\n",
    "beta1 = np.sum((X - X_bar)*(y - y_bar))/np.sum((X - X_bar)**2)\n",
    "beta0 =  y_bar - beta1*X_bar\n",
    "\n",
    "n = X.shape[0]\n",
    "y_pred = beta0 + X*beta1\n",
    "residual = y - y_pred\n",
    "var = 1/(n-2) * np.sum(residual**2)\n",
    "\n",
    "sd_beta1 = np.sqrt(var/np.sum((X - X_bar)**2))\n",
    "sd_beta0 = np.sqrt(var*(1/n + X_bar**2/np.sum((X - X_bar)**2)))\n",
    "print(f\"The intercept is :{beta0.round(4)} and its standard deviation is: {sd_beta0.round(4)}\")\n",
    "print(f\"The slope is :{beta1.round(4)} and its standard deviation is : {sd_beta1.round(4)}\")"
   ]
  },
  {
   "cell_type": "code",
   "execution_count": 7,
   "id": "2067d9ba-3e52-47ec-8c3e-e41617d34ae8",
   "metadata": {},
   "outputs": [
    {
     "name": "stdout",
     "output_type": "stream",
     "text": [
      "The determination coefficient is: R2 = 0.9628\n"
     ]
    }
   ],
   "source": [
    "R2 = 1 - np.sum(residual**2)/np.sum((y - y_bar)**2)\n",
    "print(f\"The determination coefficient is: R2 = {R2.round(4)}\")"
   ]
  },
  {
   "cell_type": "code",
   "execution_count": 8,
   "id": "58187e55-4f49-44c7-bcec-86d9e16575e9",
   "metadata": {},
   "outputs": [
    {
     "data": {
      "text/plain": [
       "0.0076763385554603995"
      ]
     },
     "execution_count": 8,
     "metadata": {},
     "output_type": "execute_result"
    }
   ],
   "source": [
    "var"
   ]
  },
  {
   "cell_type": "markdown",
   "id": "16d719ae-1692-43ab-ab2c-5a88336407e2",
   "metadata": {},
   "source": [
    "# Question 4:"
   ]
  },
  {
   "cell_type": "code",
   "execution_count": 9,
   "id": "fa78cccf-e319-484a-8d18-f1c58de191b7",
   "metadata": {},
   "outputs": [
    {
     "name": "stdout",
     "output_type": "stream",
     "text": [
      "t = 18.331984456866678 with p-value: 1.1363709973011282e-10\n"
     ]
    }
   ],
   "source": [
    "t_stat = beta1/sd_beta1\n",
    "\n",
    "p_value = (1 - stat.t.cdf(np.abs(t_stat), n-2))*2\n",
    "print(f\"t = {t_stat} with p-value: {p_value}\")"
   ]
  },
  {
   "cell_type": "markdown",
   "id": "4a614d8d-f7ac-4ae4-ab11-339507c6a30b",
   "metadata": {},
   "source": [
    "# Question 5:"
   ]
  },
  {
   "cell_type": "code",
   "execution_count": 10,
   "id": "8e1ebd5d-d467-4dd4-906e-217711ee421b",
   "metadata": {},
   "outputs": [
    {
     "name": "stdout",
     "output_type": "stream",
     "text": [
      "Confidence interval is from 150.25001943038887 to 161.92731308744425\n",
      "Prediction interval is from 132.96885980025584 to 182.97202799397357\n"
     ]
    }
   ],
   "source": [
    "x0 = 1000\n",
    "ln_x0 = np.log(x0)\n",
    "ln_y0 = beta0 + ln_x0*beta1\n",
    "\n",
    "def V_conf(x_pred):\n",
    "    # x_pred = x_pred.reshape()\n",
    "    return var*x_pred*1/np.sum(X*X)*x_pred\n",
    "\n",
    "def V_pred(x_pred):\n",
    "    return var + V_conf(x_pred)\n",
    "\n",
    "def interval(alpha):\n",
    "    return stat.t.ppf(1 - (1 - alpha)/2, n-2)\n",
    "\n",
    "alpha = 0.9\n",
    "conf_interval = [ln_y0 - interval(alpha)*np.sqrt(V_conf(ln_x0)), ln_y0 + interval(alpha)*np.sqrt(V_conf(ln_x0))]\n",
    "pred_interval = [ln_y0 - interval(alpha)*np.sqrt(V_pred(ln_x0)), ln_y0 + interval(alpha)*np.sqrt(V_pred(ln_x0))]\n",
    "\n",
    "print(f\"Confidence interval is from {np.exp(conf_interval[0])} to {np.exp(conf_interval[1])}\")\n",
    "print(f\"Prediction interval is from {np.exp(pred_interval[0])} to {np.exp(pred_interval[1])}\")"
   ]
  },
  {
   "cell_type": "code",
   "execution_count": null,
   "id": "7b725e1a-8a0f-4022-bd1b-29c972fc76cb",
   "metadata": {},
   "outputs": [],
   "source": []
  },
  {
   "cell_type": "markdown",
   "id": "43f8932e-815f-4688-bd19-f0de436854c4",
   "metadata": {},
   "source": [
    "# Question 6:"
   ]
  },
  {
   "cell_type": "markdown",
   "id": "06a5805f-c9bc-4f6f-9389-d12f10a9a1a6",
   "metadata": {},
   "source": [
    "# Question 7:"
   ]
  },
  {
   "cell_type": "code",
   "execution_count": 11,
   "id": "c0d93815-c900-435c-971b-d68085713694",
   "metadata": {},
   "outputs": [
    {
     "name": "stdout",
     "output_type": "stream",
     "text": [
      "The predicted value is: 155.97942793105494\n"
     ]
    }
   ],
   "source": [
    "from sklearn.linear_model import LinearRegression\n",
    "import math\n",
    "\n",
    "lr = LinearRegression()\n",
    "lr.fit(X.to_numpy().reshape(-1, 1), y)\n",
    "ln_y_pred = lr.predict(ln_x0.reshape(1,1))[0]\n",
    "print(f\"The predicted value is: {np.exp(ln_y_pred)}\")\n",
    "flag = math.isclose(np.exp(ln_y0), np.exp(ln_y_pred))\n",
    "if flag == False:\n",
    "    print(\"Predicted values by 2 methods are coincised\")"
   ]
  },
  {
   "cell_type": "markdown",
   "id": "633a54e0-4433-4cf1-9ee9-429b5e20bd37",
   "metadata": {},
   "source": [
    "# Question 8:"
   ]
  },
  {
   "cell_type": "code",
   "execution_count": 12,
   "id": "2446cb9e-9bd9-40c6-9ada-fd107380d988",
   "metadata": {},
   "outputs": [
    {
     "data": {
      "text/plain": [
       "Text(0, 0.5, 'Investment')"
      ]
     },
     "execution_count": 12,
     "metadata": {},
     "output_type": "execute_result"
    },
    {
     "data": {
      "image/png": "[encoded data removed]",
      "text/plain": [
       "<Figure size 640x480 with 1 Axes>"
      ]
     },
     "metadata": {},
     "output_type": "display_data"
    }
   ],
   "source": [
    "plt.scatter(X, y, c='blue')\n",
    "plt.scatter(ln_x0, ln_y0, c='red')\n",
    "\n",
    "max_gnp = np.max(X)\n",
    "min_gnp = np.min(X)\n",
    "max_investment = beta0 + max_gnp*beta1\n",
    "min_investment = beta0 + min_gnp*beta1\n",
    "plt.plot([min_gnp, max_gnp], [min_investment, max_investment], c='green')\n",
    "plt.xlabel('Gross National Product')\n",
    "plt.ylabel('Investment')"
   ]
  },
  {
   "cell_type": "markdown",
   "id": "0e88f02d-e4e5-419b-9fd4-9b5db77b0f65",
   "metadata": {},
   "source": [
    "# Question 9:"
   ]
  },
  {
   "cell_type": "code",
   "execution_count": 13,
   "id": "c538687b-23b6-4ae8-8afa-6cd0c99e55f6",
   "metadata": {},
   "outputs": [],
   "source": [
    "data['log_gnp'] = np.log(data['gnp'])\n",
    "X = np.asarray(data[['log_gnp', 'interest']])\n",
    "X = np.concatenate((np.ones((X.shape[0], 1)), X), axis = 1)\n",
    "y = np.log(data['invest'])"
   ]
  },
  {
   "cell_type": "code",
   "execution_count": 14,
   "id": "ea71c9e4-7635-47df-b934-cc4d09d10520",
   "metadata": {},
   "outputs": [
    {
     "data": {
      "text/plain": [
       "array([[ 1.        ,  6.77239364,  5.16      ],\n",
       "       [ 1.        ,  6.85012617,  5.87      ],\n",
       "       [ 1.        ,  6.9004285 ,  5.95      ],\n",
       "       [ 1.        ,  6.98249163,  4.88      ],\n",
       "       [ 1.        ,  7.07825726,  4.5       ],\n",
       "       [ 1.        ,  7.19022378,  6.44      ],\n",
       "       [ 1.        ,  7.26836248,  7.83      ],\n",
       "       [ 1.        ,  7.34549395,  6.25      ],\n",
       "       [ 1.        ,  7.4489161 ,  5.5       ],\n",
       "       [ 1.        ,  7.55919466,  5.46      ],\n",
       "       [ 1.        ,  7.67966743,  7.46      ],\n",
       "       [ 1.        ,  7.79061331, 10.28      ],\n",
       "       [ 1.        ,  7.87591714, 11.77      ],\n",
       "       [ 1.        ,  7.98538224, 13.42      ],\n",
       "       [ 1.        ,  8.02535287, 11.02      ]])"
      ]
     },
     "execution_count": 14,
     "metadata": {},
     "output_type": "execute_result"
    }
   ],
   "source": [
    "X"
   ]
  },
  {
   "cell_type": "code",
   "execution_count": 15,
   "id": "3bff0a42-bb08-49ab-9da5-2f8c75e26624",
   "metadata": {},
   "outputs": [
    {
     "name": "stdout",
     "output_type": "stream",
     "text": [
      "Number of non zero eigen values is 3\n"
     ]
    }
   ],
   "source": [
    "gram = X.T@X\n",
    "eig_values, _ = np.linalg.eig(gram)\n",
    "print(f'Number of non zero eigen values is {np.sum(eig_values!=0)}')\n"
   ]
  },
  {
   "cell_type": "markdown",
   "id": "efa23d19-b5e6-49a1-815d-f175787c7a2a",
   "metadata": {},
   "source": [
    "The gram matrix has size (3, 3), thus this matrix is full size."
   ]
  },
  {
   "cell_type": "markdown",
   "id": "7582b94b-504c-4824-a854-e86cd4948471",
   "metadata": {},
   "source": [
    "# Question 10:"
   ]
  },
  {
   "cell_type": "code",
   "execution_count": 16,
   "id": "05b065a5-6783-4298-9d7e-f25762febd1d",
   "metadata": {},
   "outputs": [],
   "source": [
    "G_inv = np.linalg.inv(gram)"
   ]
  },
  {
   "cell_type": "code",
   "execution_count": 17,
   "id": "3c438023-36b7-45f4-8a90-355ef491d2e5",
   "metadata": {},
   "outputs": [],
   "source": [
    "coef = G_inv@X.T@y"
   ]
  },
  {
   "cell_type": "code",
   "execution_count": 18,
   "id": "98965ff1-6e35-48fd-b351-671e45da6173",
   "metadata": {},
   "outputs": [
    {
     "data": {
      "text/plain": [
       "array([-2.18045473,  1.05124269, -0.00652888])"
      ]
     },
     "execution_count": 18,
     "metadata": {},
     "output_type": "execute_result"
    }
   ],
   "source": [
    "coef"
   ]
  },
  {
   "cell_type": "markdown",
   "id": "486bc9eb-4441-405b-ab5f-b01ea0285fd5",
   "metadata": {},
   "source": [
    "Consider the estimator is unbiased, the variance of error is:"
   ]
  },
  {
   "cell_type": "code",
   "execution_count": 19,
   "id": "307b1cf8-3a68-474a-801e-ffbff7ac7373",
   "metadata": {},
   "outputs": [],
   "source": [
    "SSE = y @ (np.eye(n) - X @ G_inv @ X.T) @ y\n",
    "var_coef = SSE / (n - 3)\n",
    "cov_coef = var_coef * G_inv\n",
    "tss = coef / np.sqrt(np.diag(cov_coef))"
   ]
  },
  {
   "cell_type": "code",
   "execution_count": 20,
   "id": "8e5a1ef0-afcc-4d99-b820-7504d7422254",
   "metadata": {},
   "outputs": [
    {
     "data": {
      "text/plain": [
       "array([6.43836707e-03, 2.59951686e-07, 6.78007142e-01])"
      ]
     },
     "execution_count": 20,
     "metadata": {},
     "output_type": "execute_result"
    }
   ],
   "source": [
    "#The p-value of the test\n",
    "(1 - stat.t.cdf(np.abs(tss), n-3))*2"
   ]
  },
  {
   "cell_type": "markdown",
   "id": "c8cc975b-7d92-4456-af66-56b04166bb62",
   "metadata": {},
   "source": [
    "The p-value corresponding to interest value is large, "
   ]
  },
  {
   "cell_type": "markdown",
   "id": "bddcdd14-856d-4559-bae7-84485b18df62",
   "metadata": {},
   "source": [
    "# Question 11:"
   ]
  },
  {
   "cell_type": "code",
   "execution_count": 44,
   "id": "e5232c9e-6882-425c-bef5-a4f805f5de25",
   "metadata": {},
   "outputs": [
    {
     "name": "stdout",
     "output_type": "stream",
     "text": [
      "Confidence interval: from 4.652213601393146 to 5.379753859569921\n",
      "Prediction interval: from 4.491158850185922 to 5.540808610777145\n"
     ]
    }
   ],
   "source": [
    "x0_gnp = 1000\n",
    "x0_interest = 10\n",
    "\n",
    "x0 = np.array([1, np.log(x0_gnp), x0_interest])\n",
    "ln_y0 = x0@coef\n",
    "\n",
    "def V_conf(x_pred):\n",
    "    # x_pred = x_pred.reshape()\n",
    "    return var*x_pred@G_inv@x_pred.T\n",
    "\n",
    "def V_pred(x_pred):\n",
    "    return var + V_conf(x_pred)\n",
    "\n",
    "def interval(alpha):\n",
    "    return stat.t.ppf(1 - (1 - alpha)/2, n-3)\n",
    "\n",
    "\n",
    "alpha=0.999\n",
    "\n",
    "print(f'Confidence interval: from {ln_y0 - interval(alpha)*np.sqrt(V_conf(x0))} to {ln_y0 + interval(alpha)*np.sqrt(V_conf(x0))}')\n",
    "print(f'Prediction interval: from {ln_y0 - interval(alpha)*np.sqrt(V_pred(x0))} to {ln_y0 + interval(alpha)*np.sqrt(V_pred(x0))}')"
   ]
  },
  {
   "cell_type": "code",
   "execution_count": null,
   "id": "d0f54cb8-4ad1-4957-828d-0012ba51ef5e",
   "metadata": {},
   "outputs": [],
   "source": []
  },
  {
   "cell_type": "markdown",
   "id": "63a46f7f-2bd9-4180-a5f1-35dfdd74da37",
   "metadata": {},
   "source": [
    "# Question 12:"
   ]
  },
  {
   "cell_type": "code",
   "execution_count": null,
   "id": "7b7d0ea3-b3ee-4357-99d3-f0793998b866",
   "metadata": {},
   "outputs": [],
   "source": [
    "fig = plt.figure(figsize=(7, 7))\n",
    "ax = fig.add_subplot(111, projection='3d')\n",
    "ax.view_init(5, 60)\n",
    "\n",
    "# Data points\n",
    "ax.scatter(X[:, 1], X[:, 2], y, c='b', label='Investment data')\n",
    "\n",
    "# Predicted points\n",
    "predY = X @ coef\n",
    "ax.scatter(X[:, 1], X[:, 2], predY, c='k', label='Predicted data')\n",
    "\n",
    "# Regression plane\n",
    "xs3drange = np.arange(np.min(X[:, 1]), np.max(X[:, 1]), 0.1)\n",
    "ys3drange = np.arange(np.min(X[:, 2]), np.max(X[:, 2]), 0.5)\n",
    "xs3d, ys3d = np.meshgrid(xs3drange, ys3drange)\n",
    "\n",
    "surf3d = coef[0] + coef[1] * xs3d + coef[2] * ys3d\n",
    "ax.plot_wireframe(xs3d, ys3d, surf3d, color='r', label='Regression plane')\n",
    "\n",
    "# Confidence planes\n",
    "extX = np.array([np.ones(xs3d.shape[0] * xs3d.shape[1]), xs3d.ravel(), ys3d.ravel()]).T\n",
    "\n",
    "conf = np.sqrt(var_coef * np.sum(((extX @ G_inv) * extX).T, axis=0)).reshape(len(xs3d), len(xs3d[0]))\n",
    "\n",
    "confLowY, confUppY = surf3d + t_I_conf(alpha, n - 3)[:, None, None] * conf[None, :, :]\n",
    "\n",
    "ax.plot_wireframe(xs3d, ys3d, confLowY, color='g', label='Confidence planes')\n",
    "ax.plot_wireframe(xs3d, ys3d, confUppY, color='g')\n",
    "\n",
    "ax.set_title('Investment data')\n",
    "ax.set_xlabel('log(GNP)')\n",
    "ax.set_ylabel('Interest rate')\n",
    "ax.set_zlabel('log(Investment)')\n",
    "ax.legend()\n",
    "plt.show()"
   ]
  }
 ],
 "metadata": {
  "kernelspec": {
   "display_name": "Python 3 (ipykernel)",
   "language": "python",
   "name": "python3"
  },
  "language_info": {
   "codemirror_mode": {
    "name": "ipython",
    "version": 3
   },
   "file_extension": ".py",
   "mimetype": "text/x-python",
   "name": "python",
   "nbconvert_exporter": "python",
   "pygments_lexer": "ipython3",
   "version": "3.11.7"
  }
 },
 "nbformat": 4,
 "nbformat_minor": 5
}
