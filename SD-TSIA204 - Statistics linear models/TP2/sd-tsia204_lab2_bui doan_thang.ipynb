{
 "cells": [
  {
   "cell_type": "code",
   "execution_count": 2,
   "id": "df869079-9b96-42e5-8c66-7b0bc2708fe6",
   "metadata": {},
   "outputs": [],
   "source": [
    "# Change here using YOUR own first and last names\n",
    "\n",
    "fn1 = \"Thang\"\n",
    "ln1 = \"Bui Doan\"\n",
    "filename = \"_\".join(map(lambda s: s.strip().lower(),\n",
    "                        [\"SD-TSIA204_lab2\", ln1, fn1])) + \".ipynb\"\n",
    "# import os\n",
    "# old_name = 'Untitled.ipynb'\n",
    "# os.rename(old_name, filename)"
   ]
  },
  {
   "cell_type": "code",
   "execution_count": 3,
   "id": "6b52d0a0",
   "metadata": {},
   "outputs": [],
   "source": [
    "import pandas as pd\n",
    "import random\n",
    "import numpy as np\n",
    "from sklearn.model_selection import train_test_split\n",
    "from sklearn.preprocessing import StandardScaler\n",
    "from sklearn.linear_model import LinearRegression, Lasso, ElasticNet\n",
    "from scipy.stats import t"
   ]
  },
  {
   "cell_type": "markdown",
   "id": "a16aa931",
   "metadata": {},
   "source": [
    "# Question 1: Preprocess the data\n",
    "\n",
    "> (a) Set the random seed to 0.\n",
    "\n",
    "> (b) Load the data. Print the mean, and standard deviation of every covariate. Is the data centered?\n",
    "Normalized? Standardized?\n",
    "\n",
    "> (c) Separate the data in train and test sets: save one fourth of the data as testing (you can use train_test_split from sklearn.model_selection) and standardize both the training and testing sets using the fit_transform and transform functions insklearn.preprocessing.StandardScaler.\n",
    "\n",
    "> (d) Fit a regular OLS, do we need to fit the intercept?\n",
    "\n",
    "> (e) Create a dataFrame df_coef and store the R2 coefficients of the estimated model. This dataframe will be used along the TP to store and compare R2 coefficients of other variants of the OLS problemS problem."
   ]
  },
  {
   "cell_type": "code",
   "execution_count": 4,
   "id": "ad11aea5",
   "metadata": {},
   "outputs": [],
   "source": [
    "np.random.seed(0)"
   ]
  },
  {
   "cell_type": "code",
   "execution_count": 5,
   "id": "6e039463",
   "metadata": {},
   "outputs": [],
   "source": [
    "data = pd.read_csv('meatspec.csv')"
   ]
  },
  {
   "cell_type": "code",
   "execution_count": 6,
   "id": "15317bc6",
   "metadata": {},
   "outputs": [
    {
     "data": {
      "text/html": [
       "<div>\n",
       "<style scoped>\n",
       "    .dataframe tbody tr th:only-of-type {\n",
       "        vertical-align: middle;\n",
       "    }\n",
       "\n",
       "    .dataframe tbody tr th {\n",
       "        vertical-align: top;\n",
       "    }\n",
       "\n",
       "    .dataframe thead th {\n",
       "        text-align: right;\n",
       "    }\n",
       "</style>\n",
       "<table border=\"1\" class=\"dataframe\">\n",
       "  <thead>\n",
       "    <tr style=\"text-align: right;\">\n",
       "      <th></th>\n",
       "      <th>V1</th>\n",
       "      <th>V2</th>\n",
       "      <th>V3</th>\n",
       "      <th>V4</th>\n",
       "      <th>V5</th>\n",
       "      <th>V6</th>\n",
       "      <th>V7</th>\n",
       "      <th>V8</th>\n",
       "      <th>V9</th>\n",
       "      <th>V10</th>\n",
       "      <th>...</th>\n",
       "      <th>V92</th>\n",
       "      <th>V93</th>\n",
       "      <th>V94</th>\n",
       "      <th>V95</th>\n",
       "      <th>V96</th>\n",
       "      <th>V97</th>\n",
       "      <th>V98</th>\n",
       "      <th>V99</th>\n",
       "      <th>V100</th>\n",
       "      <th>fat</th>\n",
       "    </tr>\n",
       "  </thead>\n",
       "  <tbody>\n",
       "    <tr>\n",
       "      <th>0</th>\n",
       "      <td>2.61776</td>\n",
       "      <td>2.61814</td>\n",
       "      <td>2.61859</td>\n",
       "      <td>2.61912</td>\n",
       "      <td>2.61981</td>\n",
       "      <td>2.62071</td>\n",
       "      <td>2.62186</td>\n",
       "      <td>2.62334</td>\n",
       "      <td>2.62511</td>\n",
       "      <td>2.62722</td>\n",
       "      <td>...</td>\n",
       "      <td>2.98145</td>\n",
       "      <td>2.96072</td>\n",
       "      <td>2.94013</td>\n",
       "      <td>2.91978</td>\n",
       "      <td>2.89966</td>\n",
       "      <td>2.87964</td>\n",
       "      <td>2.85960</td>\n",
       "      <td>2.83940</td>\n",
       "      <td>2.81920</td>\n",
       "      <td>22.5</td>\n",
       "    </tr>\n",
       "    <tr>\n",
       "      <th>1</th>\n",
       "      <td>2.83454</td>\n",
       "      <td>2.83871</td>\n",
       "      <td>2.84283</td>\n",
       "      <td>2.84705</td>\n",
       "      <td>2.85138</td>\n",
       "      <td>2.85587</td>\n",
       "      <td>2.86060</td>\n",
       "      <td>2.86566</td>\n",
       "      <td>2.87093</td>\n",
       "      <td>2.87661</td>\n",
       "      <td>...</td>\n",
       "      <td>3.29186</td>\n",
       "      <td>3.27921</td>\n",
       "      <td>3.26655</td>\n",
       "      <td>3.25369</td>\n",
       "      <td>3.24045</td>\n",
       "      <td>3.22659</td>\n",
       "      <td>3.21181</td>\n",
       "      <td>3.19600</td>\n",
       "      <td>3.17942</td>\n",
       "      <td>40.1</td>\n",
       "    </tr>\n",
       "    <tr>\n",
       "      <th>2</th>\n",
       "      <td>2.58284</td>\n",
       "      <td>2.58458</td>\n",
       "      <td>2.58629</td>\n",
       "      <td>2.58808</td>\n",
       "      <td>2.58996</td>\n",
       "      <td>2.59192</td>\n",
       "      <td>2.59401</td>\n",
       "      <td>2.59627</td>\n",
       "      <td>2.59873</td>\n",
       "      <td>2.60131</td>\n",
       "      <td>...</td>\n",
       "      <td>2.68951</td>\n",
       "      <td>2.67009</td>\n",
       "      <td>2.65112</td>\n",
       "      <td>2.63262</td>\n",
       "      <td>2.61461</td>\n",
       "      <td>2.59718</td>\n",
       "      <td>2.58034</td>\n",
       "      <td>2.56404</td>\n",
       "      <td>2.54816</td>\n",
       "      <td>8.4</td>\n",
       "    </tr>\n",
       "    <tr>\n",
       "      <th>3</th>\n",
       "      <td>2.82286</td>\n",
       "      <td>2.82460</td>\n",
       "      <td>2.82630</td>\n",
       "      <td>2.82814</td>\n",
       "      <td>2.83001</td>\n",
       "      <td>2.83192</td>\n",
       "      <td>2.83392</td>\n",
       "      <td>2.83606</td>\n",
       "      <td>2.83842</td>\n",
       "      <td>2.84097</td>\n",
       "      <td>...</td>\n",
       "      <td>2.97367</td>\n",
       "      <td>2.94951</td>\n",
       "      <td>2.92576</td>\n",
       "      <td>2.90251</td>\n",
       "      <td>2.87988</td>\n",
       "      <td>2.85794</td>\n",
       "      <td>2.83672</td>\n",
       "      <td>2.81617</td>\n",
       "      <td>2.79622</td>\n",
       "      <td>5.9</td>\n",
       "    </tr>\n",
       "    <tr>\n",
       "      <th>4</th>\n",
       "      <td>2.78813</td>\n",
       "      <td>2.78989</td>\n",
       "      <td>2.79167</td>\n",
       "      <td>2.79350</td>\n",
       "      <td>2.79538</td>\n",
       "      <td>2.79746</td>\n",
       "      <td>2.79984</td>\n",
       "      <td>2.80254</td>\n",
       "      <td>2.80553</td>\n",
       "      <td>2.80890</td>\n",
       "      <td>...</td>\n",
       "      <td>3.30025</td>\n",
       "      <td>3.27907</td>\n",
       "      <td>3.25831</td>\n",
       "      <td>3.23784</td>\n",
       "      <td>3.21765</td>\n",
       "      <td>3.19766</td>\n",
       "      <td>3.17770</td>\n",
       "      <td>3.15770</td>\n",
       "      <td>3.13753</td>\n",
       "      <td>25.5</td>\n",
       "    </tr>\n",
       "    <tr>\n",
       "      <th>...</th>\n",
       "      <td>...</td>\n",
       "      <td>...</td>\n",
       "      <td>...</td>\n",
       "      <td>...</td>\n",
       "      <td>...</td>\n",
       "      <td>...</td>\n",
       "      <td>...</td>\n",
       "      <td>...</td>\n",
       "      <td>...</td>\n",
       "      <td>...</td>\n",
       "      <td>...</td>\n",
       "      <td>...</td>\n",
       "      <td>...</td>\n",
       "      <td>...</td>\n",
       "      <td>...</td>\n",
       "      <td>...</td>\n",
       "      <td>...</td>\n",
       "      <td>...</td>\n",
       "      <td>...</td>\n",
       "      <td>...</td>\n",
       "      <td>...</td>\n",
       "    </tr>\n",
       "    <tr>\n",
       "      <th>210</th>\n",
       "      <td>3.14626</td>\n",
       "      <td>3.15166</td>\n",
       "      <td>3.15703</td>\n",
       "      <td>3.16244</td>\n",
       "      <td>3.16791</td>\n",
       "      <td>3.17348</td>\n",
       "      <td>3.17923</td>\n",
       "      <td>3.18521</td>\n",
       "      <td>3.19140</td>\n",
       "      <td>3.19792</td>\n",
       "      <td>...</td>\n",
       "      <td>3.61483</td>\n",
       "      <td>3.59695</td>\n",
       "      <td>3.57915</td>\n",
       "      <td>3.56142</td>\n",
       "      <td>3.54365</td>\n",
       "      <td>3.52563</td>\n",
       "      <td>3.50705</td>\n",
       "      <td>3.48765</td>\n",
       "      <td>3.46769</td>\n",
       "      <td>31.3</td>\n",
       "    </tr>\n",
       "    <tr>\n",
       "      <th>211</th>\n",
       "      <td>2.57992</td>\n",
       "      <td>2.58040</td>\n",
       "      <td>2.58099</td>\n",
       "      <td>2.58175</td>\n",
       "      <td>2.58266</td>\n",
       "      <td>2.58381</td>\n",
       "      <td>2.58530</td>\n",
       "      <td>2.58719</td>\n",
       "      <td>2.58949</td>\n",
       "      <td>2.59225</td>\n",
       "      <td>...</td>\n",
       "      <td>2.95464</td>\n",
       "      <td>2.93756</td>\n",
       "      <td>2.92062</td>\n",
       "      <td>2.90367</td>\n",
       "      <td>2.88668</td>\n",
       "      <td>2.86951</td>\n",
       "      <td>2.85180</td>\n",
       "      <td>2.83347</td>\n",
       "      <td>2.81473</td>\n",
       "      <td>33.8</td>\n",
       "    </tr>\n",
       "    <tr>\n",
       "      <th>212</th>\n",
       "      <td>2.56875</td>\n",
       "      <td>2.56923</td>\n",
       "      <td>2.56985</td>\n",
       "      <td>2.57060</td>\n",
       "      <td>2.57150</td>\n",
       "      <td>2.57268</td>\n",
       "      <td>2.57420</td>\n",
       "      <td>2.57610</td>\n",
       "      <td>2.57841</td>\n",
       "      <td>2.58129</td>\n",
       "      <td>...</td>\n",
       "      <td>2.94870</td>\n",
       "      <td>2.93226</td>\n",
       "      <td>2.91592</td>\n",
       "      <td>2.89952</td>\n",
       "      <td>2.88291</td>\n",
       "      <td>2.86595</td>\n",
       "      <td>2.84836</td>\n",
       "      <td>2.82998</td>\n",
       "      <td>2.81111</td>\n",
       "      <td>35.5</td>\n",
       "    </tr>\n",
       "    <tr>\n",
       "      <th>213</th>\n",
       "      <td>2.65884</td>\n",
       "      <td>2.65943</td>\n",
       "      <td>2.66023</td>\n",
       "      <td>2.66108</td>\n",
       "      <td>2.66215</td>\n",
       "      <td>2.66360</td>\n",
       "      <td>2.66550</td>\n",
       "      <td>2.66787</td>\n",
       "      <td>2.67070</td>\n",
       "      <td>2.67405</td>\n",
       "      <td>...</td>\n",
       "      <td>3.04851</td>\n",
       "      <td>3.03351</td>\n",
       "      <td>3.01851</td>\n",
       "      <td>3.00327</td>\n",
       "      <td>2.98759</td>\n",
       "      <td>2.97121</td>\n",
       "      <td>2.95374</td>\n",
       "      <td>2.93514</td>\n",
       "      <td>2.91564</td>\n",
       "      <td>42.5</td>\n",
       "    </tr>\n",
       "    <tr>\n",
       "      <th>214</th>\n",
       "      <td>2.89064</td>\n",
       "      <td>2.89244</td>\n",
       "      <td>2.89438</td>\n",
       "      <td>2.89659</td>\n",
       "      <td>2.89913</td>\n",
       "      <td>2.90211</td>\n",
       "      <td>2.90566</td>\n",
       "      <td>2.90982</td>\n",
       "      <td>2.91468</td>\n",
       "      <td>2.92031</td>\n",
       "      <td>...</td>\n",
       "      <td>3.49314</td>\n",
       "      <td>3.47783</td>\n",
       "      <td>3.46234</td>\n",
       "      <td>3.44632</td>\n",
       "      <td>3.42949</td>\n",
       "      <td>3.41136</td>\n",
       "      <td>3.39146</td>\n",
       "      <td>3.36959</td>\n",
       "      <td>3.34622</td>\n",
       "      <td>47.8</td>\n",
       "    </tr>\n",
       "  </tbody>\n",
       "</table>\n",
       "<p>215 rows × 101 columns</p>\n",
       "</div>"
      ],
      "text/plain": [
       "          V1       V2       V3       V4       V5       V6       V7       V8  \\\n",
       "0    2.61776  2.61814  2.61859  2.61912  2.61981  2.62071  2.62186  2.62334   \n",
       "1    2.83454  2.83871  2.84283  2.84705  2.85138  2.85587  2.86060  2.86566   \n",
       "2    2.58284  2.58458  2.58629  2.58808  2.58996  2.59192  2.59401  2.59627   \n",
       "3    2.82286  2.82460  2.82630  2.82814  2.83001  2.83192  2.83392  2.83606   \n",
       "4    2.78813  2.78989  2.79167  2.79350  2.79538  2.79746  2.79984  2.80254   \n",
       "..       ...      ...      ...      ...      ...      ...      ...      ...   \n",
       "210  3.14626  3.15166  3.15703  3.16244  3.16791  3.17348  3.17923  3.18521   \n",
       "211  2.57992  2.58040  2.58099  2.58175  2.58266  2.58381  2.58530  2.58719   \n",
       "212  2.56875  2.56923  2.56985  2.57060  2.57150  2.57268  2.57420  2.57610   \n",
       "213  2.65884  2.65943  2.66023  2.66108  2.66215  2.66360  2.66550  2.66787   \n",
       "214  2.89064  2.89244  2.89438  2.89659  2.89913  2.90211  2.90566  2.90982   \n",
       "\n",
       "          V9      V10  ...      V92      V93      V94      V95      V96  \\\n",
       "0    2.62511  2.62722  ...  2.98145  2.96072  2.94013  2.91978  2.89966   \n",
       "1    2.87093  2.87661  ...  3.29186  3.27921  3.26655  3.25369  3.24045   \n",
       "2    2.59873  2.60131  ...  2.68951  2.67009  2.65112  2.63262  2.61461   \n",
       "3    2.83842  2.84097  ...  2.97367  2.94951  2.92576  2.90251  2.87988   \n",
       "4    2.80553  2.80890  ...  3.30025  3.27907  3.25831  3.23784  3.21765   \n",
       "..       ...      ...  ...      ...      ...      ...      ...      ...   \n",
       "210  3.19140  3.19792  ...  3.61483  3.59695  3.57915  3.56142  3.54365   \n",
       "211  2.58949  2.59225  ...  2.95464  2.93756  2.92062  2.90367  2.88668   \n",
       "212  2.57841  2.58129  ...  2.94870  2.93226  2.91592  2.89952  2.88291   \n",
       "213  2.67070  2.67405  ...  3.04851  3.03351  3.01851  3.00327  2.98759   \n",
       "214  2.91468  2.92031  ...  3.49314  3.47783  3.46234  3.44632  3.42949   \n",
       "\n",
       "         V97      V98      V99     V100   fat  \n",
       "0    2.87964  2.85960  2.83940  2.81920  22.5  \n",
       "1    3.22659  3.21181  3.19600  3.17942  40.1  \n",
       "2    2.59718  2.58034  2.56404  2.54816   8.4  \n",
       "3    2.85794  2.83672  2.81617  2.79622   5.9  \n",
       "4    3.19766  3.17770  3.15770  3.13753  25.5  \n",
       "..       ...      ...      ...      ...   ...  \n",
       "210  3.52563  3.50705  3.48765  3.46769  31.3  \n",
       "211  2.86951  2.85180  2.83347  2.81473  33.8  \n",
       "212  2.86595  2.84836  2.82998  2.81111  35.5  \n",
       "213  2.97121  2.95374  2.93514  2.91564  42.5  \n",
       "214  3.41136  3.39146  3.36959  3.34622  47.8  \n",
       "\n",
       "[215 rows x 101 columns]"
      ]
     },
     "execution_count": 6,
     "metadata": {},
     "output_type": "execute_result"
    }
   ],
   "source": [
    "data"
   ]
  },
  {
   "cell_type": "code",
   "execution_count": 7,
   "id": "7c1f6345",
   "metadata": {},
   "outputs": [
    {
     "name": "stdout",
     "output_type": "stream",
     "text": [
      "Mean:  V1       2.808561\n",
      "V2       2.811137\n",
      "V3       2.813727\n",
      "V4       2.816363\n",
      "V5       2.819098\n",
      "          ...    \n",
      "V97      3.081070\n",
      "V98      3.062290\n",
      "V99      3.043548\n",
      "V100     3.024895\n",
      "fat     18.142326\n",
      "Length: 101, dtype: float64\n",
      "Standard deviation:  V1       0.409837\n",
      "V2       0.412390\n",
      "V3       0.414937\n",
      "V4       0.417491\n",
      "V5       0.420060\n",
      "          ...    \n",
      "V97      0.538474\n",
      "V98      0.537332\n",
      "V99      0.535857\n",
      "V100     0.534108\n",
      "fat     12.710634\n",
      "Length: 101, dtype: float64\n"
     ]
    }
   ],
   "source": [
    "print('Mean: ', np.mean(data, axis=0))\n",
    "print('Standard deviation: ', np.std(data, axis=0))"
   ]
  },
  {
   "cell_type": "markdown",
   "id": "1b63178c",
   "metadata": {},
   "source": [
    "The data is not centered, normalized or standardized"
   ]
  },
  {
   "cell_type": "code",
   "execution_count": 8,
   "id": "ff289d72",
   "metadata": {},
   "outputs": [],
   "source": [
    "X = data.iloc[:, :-1]\n",
    "y = data.iloc[:, -1].values"
   ]
  },
  {
   "cell_type": "code",
   "execution_count": 9,
   "id": "75050c3d",
   "metadata": {},
   "outputs": [],
   "source": [
    "X_train, X_test, y_train, y_test = train_test_split(X, y, test_size=1/4, random_state=0)"
   ]
  },
  {
   "cell_type": "code",
   "execution_count": 10,
   "id": "f12f0850",
   "metadata": {},
   "outputs": [],
   "source": [
    "scaler = StandardScaler()\n",
    "X_train = scaler.fit_transform(X_train)\n",
    "X_test = scaler.transform(X_test)\n",
    "y_train = scaler.fit_transform(y_train.reshape(-1,1)).squeeze()\n",
    "y_test = scaler.transform(y_test.reshape(-1,1)).squeeze()"
   ]
  },
  {
   "cell_type": "markdown",
   "id": "b93dbfee-b95d-4568-b664-6e556cc53530",
   "metadata": {},
   "source": [
    "Because both X and y are centered, we do not need to use intercept"
   ]
  },
  {
   "cell_type": "code",
   "execution_count": 11,
   "id": "3c0d924e",
   "metadata": {},
   "outputs": [],
   "source": [
    "lr = LinearRegression(fit_intercept=False)\n",
    "lr.fit(X_train, y_train)\n",
    "df_coef = pd.DataFrame({'Method': [],\n",
    "                        'R^2 score': []})\n",
    "df_coef.loc[len(df_coef)] = ['OLS', lr.score(X_test, y_test)]"
   ]
  },
  {
   "cell_type": "code",
   "execution_count": 12,
   "id": "b3f1d52e",
   "metadata": {},
   "outputs": [
    {
     "data": {
      "text/html": [
       "<div>\n",
       "<style scoped>\n",
       "    .dataframe tbody tr th:only-of-type {\n",
       "        vertical-align: middle;\n",
       "    }\n",
       "\n",
       "    .dataframe tbody tr th {\n",
       "        vertical-align: top;\n",
       "    }\n",
       "\n",
       "    .dataframe thead th {\n",
       "        text-align: right;\n",
       "    }\n",
       "</style>\n",
       "<table border=\"1\" class=\"dataframe\">\n",
       "  <thead>\n",
       "    <tr style=\"text-align: right;\">\n",
       "      <th></th>\n",
       "      <th>Method</th>\n",
       "      <th>R^2 score</th>\n",
       "    </tr>\n",
       "  </thead>\n",
       "  <tbody>\n",
       "    <tr>\n",
       "      <th>0</th>\n",
       "      <td>OLS</td>\n",
       "      <td>0.960055</td>\n",
       "    </tr>\n",
       "  </tbody>\n",
       "</table>\n",
       "</div>"
      ],
      "text/plain": [
       "  Method  R^2 score\n",
       "0    OLS   0.960055"
      ]
     },
     "execution_count": 12,
     "metadata": {},
     "output_type": "execute_result"
    }
   ],
   "source": [
    "df_coef"
   ]
  },
  {
   "cell_type": "markdown",
   "id": "a9249dab",
   "metadata": {},
   "source": [
    "# Question 2: Variable selection\n",
    "\n",
    "Program the method of the forward variable selection. You can use the test statistics of the test\r\n",
    "for nullity (as seen during the course). Do not deﬁne the stop criterion for the method, i.e. add a\r\n",
    "variables at each time until all the variables are used. Store the order of the variable selection and\r\n",
    "the associated p-value for each of them."
   ]
  },
  {
   "cell_type": "code",
   "execution_count": 12,
   "id": "0b15e559-b86d-4b5f-a5f4-05109f32ed6b",
   "metadata": {},
   "outputs": [
    {
     "data": {
      "text/plain": [
       "(161, 100)"
      ]
     },
     "execution_count": 12,
     "metadata": {},
     "output_type": "execute_result"
    }
   ],
   "source": [
    "X_train.shape"
   ]
  },
  {
   "cell_type": "code",
   "execution_count": 13,
   "id": "207dd207-4703-4aeb-b710-a66c84b47f89",
   "metadata": {},
   "outputs": [
    {
     "data": {
      "text/plain": [
       "(161,)"
      ]
     },
     "execution_count": 13,
     "metadata": {},
     "output_type": "execute_result"
    }
   ],
   "source": [
    "y_train.shape"
   ]
  },
  {
   "cell_type": "code",
   "execution_count": 14,
   "id": "e28515a7-e106-496a-91f2-efe105f8af18",
   "metadata": {},
   "outputs": [],
   "source": [
    "def forward_variable_selection(X, y):\n",
    "    n, p = X.shape\n",
    "    remaining_list = np.arange(p).tolist()\n",
    "    choosen_list = []\n",
    "    p_list = []\n",
    "    residual = y\n",
    "\n",
    "    for i in range(p):\n",
    "        t_list = []\n",
    "        for variable in remaining_list:\n",
    "            x = X[:, variable].reshape(-1,1)\n",
    "            coef = LinearRegression(fit_intercept=False).fit(x, residual).coef_\n",
    "            # one_x = np.concatenate((np.ones((n,1)), x.reshape(-1,1)), axis=1)\n",
    "            # one_x = np.stack((np.ones(n), x), axis=1)\n",
    "            one_x = np.concatenate((np.ones((n, 1)), x), axis = 1)\n",
    "            G = 1/n*one_x.T@one_x\n",
    "            s = np.sqrt(np.linalg.inv(G)[1,1])\n",
    "\n",
    "            sigma = 1/(n-2) * np.sum((residual - x@coef.T)**2)\n",
    "            \n",
    "            t_value = np.linalg.norm(coef)*np.sqrt(n)/(s*sigma)\n",
    "            t_list.append(t_value)\n",
    "\n",
    "        max_index = np.argmax(t_list)\n",
    "        x = X[:, remaining_list[max_index]].reshape(-1,1)\n",
    "        coef = LinearRegression(fit_intercept=False).fit(x, residual).coef_\n",
    "        residual = residual - x@coef.T\n",
    "        choosen_list.append(remaining_list[max_index])\n",
    "        remaining_list.pop(max_index)\n",
    "        p_value = 2 * (1 - t.cdf(np.max(t_list), n-2))\n",
    "        p_list.append(p_value)\n",
    "\n",
    "    return choosen_list, p_list\n",
    "\n",
    "choosen_variable, p_list = forward_variable_selection(X_train, y_train)"
   ]
  },
  {
   "cell_type": "markdown",
   "id": "b5fad15a",
   "metadata": {},
   "source": [
    "# Question 3: Run OLS on the variables with p-value smaller than 0.05"
   ]
  },
  {
   "cell_type": "code",
   "execution_count": 15,
   "id": "f4bae622-2f09-418f-86c4-d1dd4fdf20f9",
   "metadata": {},
   "outputs": [],
   "source": [
    "# The number of selected variables\n",
    "count = np.sum([p< 0.05 for p in p_list])\n",
    "selected = choosen_variable[:count]"
   ]
  },
  {
   "cell_type": "code",
   "execution_count": 16,
   "id": "7cdf3d88-b3c7-4168-91f8-8cbb270579e8",
   "metadata": {},
   "outputs": [],
   "source": [
    "lr = LinearRegression(fit_intercept=False)\n",
    "lr.fit(X_train[:, selected], y_train)\n",
    "df_coef.loc[len(df_coef)] = ['Variable selection', lr.score(X_test[:, selected], y_test)]"
   ]
  },
  {
   "cell_type": "code",
   "execution_count": 17,
   "id": "c72a2853-adc7-4e97-9581-ccd889690100",
   "metadata": {},
   "outputs": [
    {
     "data": {
      "text/html": [
       "<div>\n",
       "<style scoped>\n",
       "    .dataframe tbody tr th:only-of-type {\n",
       "        vertical-align: middle;\n",
       "    }\n",
       "\n",
       "    .dataframe tbody tr th {\n",
       "        vertical-align: top;\n",
       "    }\n",
       "\n",
       "    .dataframe thead th {\n",
       "        text-align: right;\n",
       "    }\n",
       "</style>\n",
       "<table border=\"1\" class=\"dataframe\">\n",
       "  <thead>\n",
       "    <tr style=\"text-align: right;\">\n",
       "      <th></th>\n",
       "      <th>Method</th>\n",
       "      <th>R^2 score</th>\n",
       "    </tr>\n",
       "  </thead>\n",
       "  <tbody>\n",
       "    <tr>\n",
       "      <th>0</th>\n",
       "      <td>OLS</td>\n",
       "      <td>0.960055</td>\n",
       "    </tr>\n",
       "    <tr>\n",
       "      <th>1</th>\n",
       "      <td>Variable selection</td>\n",
       "      <td>0.955180</td>\n",
       "    </tr>\n",
       "  </tbody>\n",
       "</table>\n",
       "</div>"
      ],
      "text/plain": [
       "               Method  R^2 score\n",
       "0                 OLS   0.960055\n",
       "1  Variable selection   0.955180"
      ]
     },
     "execution_count": 17,
     "metadata": {},
     "output_type": "execute_result"
    }
   ],
   "source": [
    "df_coef"
   ]
  },
  {
   "cell_type": "markdown",
   "id": "2703652d-dd3a-467f-bbab-395183a81f53",
   "metadata": {},
   "source": [
    "# Question 4: \n",
    "Using SequentialFeatureSelector on a linear regression estimator select (with forward selection), select the same number of variables as in the previous question.\n",
    "> Elaborate on why the 2 algorithms do not return the same variables and store the R2 onto the corresponding dataFrame."
   ]
  },
  {
   "cell_type": "code",
   "execution_count": 18,
   "id": "fcddd482-f8bd-46c9-a7a0-016243ff1855",
   "metadata": {},
   "outputs": [
    {
     "data": {
      "text/plain": [
       "23"
      ]
     },
     "execution_count": 18,
     "metadata": {},
     "output_type": "execute_result"
    }
   ],
   "source": [
    "count"
   ]
  },
  {
   "cell_type": "code",
   "execution_count": 20,
   "id": "12ed69a2-6624-421b-892e-e0aa53d596ab",
   "metadata": {},
   "outputs": [],
   "source": [
    "from sklearn.feature_selection import SequentialFeatureSelector\n",
    "\n",
    "lr = LinearRegression(fit_intercept=False)\n",
    "sfs = SequentialFeatureSelector(estimator = lr, n_features_to_select = count)\n",
    "sfs.fit(X_train, y_train)\n",
    "X_train_sfs = sfs.transform(X_train)\n",
    "X_test_sfs = sfs.transform(X_test)\n",
    "\n",
    "lr.fit(X_train_sfs, y_train)\n",
    "df_coef.loc[len(df_coef)] = ['Sequential Feature Selector', lr.score(X_test_sfs, y_test)]"
   ]
  },
  {
   "cell_type": "code",
   "execution_count": 21,
   "id": "57d3b8bb-ba41-459e-8e6a-ae59add710b2",
   "metadata": {},
   "outputs": [
    {
     "data": {
      "text/html": [
       "<div>\n",
       "<style scoped>\n",
       "    .dataframe tbody tr th:only-of-type {\n",
       "        vertical-align: middle;\n",
       "    }\n",
       "\n",
       "    .dataframe tbody tr th {\n",
       "        vertical-align: top;\n",
       "    }\n",
       "\n",
       "    .dataframe thead th {\n",
       "        text-align: right;\n",
       "    }\n",
       "</style>\n",
       "<table border=\"1\" class=\"dataframe\">\n",
       "  <thead>\n",
       "    <tr style=\"text-align: right;\">\n",
       "      <th></th>\n",
       "      <th>Method</th>\n",
       "      <th>R^2 score</th>\n",
       "    </tr>\n",
       "  </thead>\n",
       "  <tbody>\n",
       "    <tr>\n",
       "      <th>0</th>\n",
       "      <td>OLS</td>\n",
       "      <td>0.960055</td>\n",
       "    </tr>\n",
       "    <tr>\n",
       "      <th>1</th>\n",
       "      <td>Variable selection</td>\n",
       "      <td>0.955180</td>\n",
       "    </tr>\n",
       "    <tr>\n",
       "      <th>2</th>\n",
       "      <td>Sequential Feature Selector</td>\n",
       "      <td>0.938730</td>\n",
       "    </tr>\n",
       "  </tbody>\n",
       "</table>\n",
       "</div>"
      ],
      "text/plain": [
       "                        Method  R^2 score\n",
       "0                          OLS   0.960055\n",
       "1           Variable selection   0.955180\n",
       "2  Sequential Feature Selector   0.938730"
      ]
     },
     "execution_count": 21,
     "metadata": {},
     "output_type": "execute_result"
    }
   ],
   "source": [
    "df_coef"
   ]
  },
  {
   "cell_type": "markdown",
   "id": "5a7707f7-80ce-4e69-b08c-f42118b97016",
   "metadata": {},
   "source": [
    "The Sequential Feature Selector choose the variables based on cross-validation score. Meanwhile, variable forward selection choose variable based on the p-value. Thus the features chose by the 2 methods are not the same."
   ]
  },
  {
   "cell_type": "markdown",
   "id": "42d81a7d-8541-42c9-b73e-78616dbe0d61",
   "metadata": {},
   "source": [
    "# Question 5: Ridge\n",
    "\n",
    "Code your own ridge estimator using expression derived in class. Test it for a penalty parameter α \n",
    "spaced evenly on a log scale 10e-9 to 10e2 \\\n",
    "\n",
    "> (a) Plot how the values of the coefficients change with α.\n",
    "\n",
    ">(b) Plot how MSE of both the train and test sets change with α. Signal the minimum with a point.\n",
    "\n",
    ">(c) For the best performing value of α (the one with smallest training error) store the R2 resultsults."
   ]
  },
  {
   "cell_type": "markdown",
   "id": "ac285682-204c-467e-8171-2f735c6ee156",
   "metadata": {},
   "source": [
    "$\\theta = (X^TX + n\\lambda I) ^{-1} X^Ty$"
   ]
  },
  {
   "cell_type": "code",
   "execution_count": 22,
   "id": "2d89cf61-0696-438b-8f0e-fa368e21db3b",
   "metadata": {},
   "outputs": [],
   "source": [
    "n, p = X_train.shape"
   ]
  },
  {
   "cell_type": "code",
   "execution_count": 23,
   "id": "1e8e504a-0e39-4204-ac65-0ea545d6c37f",
   "metadata": {},
   "outputs": [],
   "source": [
    "log_lambda_list = np.arange(-9, 3, 1).astype(float)\n",
    "lambda_list = 10**log_lambda_list"
   ]
  },
  {
   "cell_type": "code",
   "execution_count": 24,
   "id": "6aa9aa8e-1f7f-4617-bf5f-534fbf399ca7",
   "metadata": {},
   "outputs": [],
   "source": [
    "theta_list = []\n",
    "mse_train = []\n",
    "mse_test = []\n",
    "for lbda in lambda_list:\n",
    "    theta = np.linalg.inv(X_train.T@X_train + n*lbda*np.eye(p))@(X_train.T@y_train)\n",
    "    theta_list.append(theta)\n",
    "    mse_train.append(np.average((y_train - X_train@theta.T)**2))\n",
    "    mse_test.append(np.average((y_test - X_test@theta.T)**2))"
   ]
  },
  {
   "cell_type": "code",
   "execution_count": 25,
   "id": "07ef9135-add6-46a6-ba48-848a6dc647ad",
   "metadata": {},
   "outputs": [],
   "source": [
    "norm_theta = np.linalg.norm(theta_list, axis = 1)"
   ]
  },
  {
   "cell_type": "code",
   "execution_count": 26,
   "id": "649703a7-8093-4cde-b1a0-b5f70201046d",
   "metadata": {},
   "outputs": [
    {
     "data": {
      "text/plain": [
       "Text(0.5, 1.0, 'Change of coefficients according to lambda')"
      ]
     },
     "execution_count": 26,
     "metadata": {},
     "output_type": "execute_result"
    },
    {
     "data": {
      "image/png": "[encoded data removed]",
      "text/plain": [
       "<Figure size 640x480 with 1 Axes>"
      ]
     },
     "metadata": {},
     "output_type": "display_data"
    }
   ],
   "source": [
    "import matplotlib.pyplot as plt\n",
    "\n",
    "plt.plot(lambda_list, norm_theta)\n",
    "plt.xscale('log')\n",
    "plt.xlabel('Lambda')\n",
    "plt.ylabel('Norm of coefficients')\n",
    "plt.title('Change of coefficients according to lambda')"
   ]
  },
  {
   "cell_type": "code",
   "execution_count": 28,
   "id": "2b626bb0-ca05-44a9-9fb4-9c8a3bfdac33",
   "metadata": {},
   "outputs": [
    {
     "data": {
      "text/plain": [
       "<matplotlib.legend.Legend at 0x1b768d197d0>"
      ]
     },
     "execution_count": 28,
     "metadata": {},
     "output_type": "execute_result"
    },
    {
     "data": {
      "image/png": "[encoded data removed]",
      "text/plain": [
       "<Figure size 640x480 with 1 Axes>"
      ]
     },
     "metadata": {},
     "output_type": "display_data"
    }
   ],
   "source": [
    "plt.plot(lambda_list, mse_train, label = 'Train loss')\n",
    "plt.plot(lambda_list, mse_test, label = 'Test loss')\n",
    "plt.scatter(lambda_list[np.argmin(mse_train)], np.min(mse_train), color='red', label='Train min')\n",
    "plt.scatter(lambda_list[np.argmin(mse_test)], np.min(mse_test), color='red', label='Test min')\n",
    "\n",
    "plt.xscale('log')\n",
    "plt.xlabel('Lambda')\n",
    "plt.ylabel('MSE Loss')\n",
    "plt.legend()"
   ]
  },
  {
   "cell_type": "markdown",
   "id": "50ff2f63-7e7b-4296-97ad-694c7880ba7c",
   "metadata": {},
   "source": [
    "$10^{-9}$ is the best Ridge coefficient"
   ]
  },
  {
   "cell_type": "code",
   "execution_count": 30,
   "id": "9844dfdf-38c8-40a5-9be9-9a409ea3e3e0",
   "metadata": {},
   "outputs": [],
   "source": [
    "theta = np.linalg.inv(X_train.T@X_train + n*10**-9*np.eye(p))@(X_train.T@y_train)\n",
    "y_pred = X_test@theta.T\n",
    "R_res = np.sum((y_test-y_pred)**2)\n",
    "R_total = np.sum((y_test - np.mean(y_test))**2)\n",
    "R2 = 1 - R_res/R_total\n",
    "df_coef.loc[len(df_coef)] = ['Ridge', R2]"
   ]
  },
  {
   "cell_type": "code",
   "execution_count": 31,
   "id": "33a55fa6-892d-4b85-ae22-767311398ad5",
   "metadata": {},
   "outputs": [
    {
     "data": {
      "text/html": [
       "<div>\n",
       "<style scoped>\n",
       "    .dataframe tbody tr th:only-of-type {\n",
       "        vertical-align: middle;\n",
       "    }\n",
       "\n",
       "    .dataframe tbody tr th {\n",
       "        vertical-align: top;\n",
       "    }\n",
       "\n",
       "    .dataframe thead th {\n",
       "        text-align: right;\n",
       "    }\n",
       "</style>\n",
       "<table border=\"1\" class=\"dataframe\">\n",
       "  <thead>\n",
       "    <tr style=\"text-align: right;\">\n",
       "      <th></th>\n",
       "      <th>Method</th>\n",
       "      <th>R^2 score</th>\n",
       "    </tr>\n",
       "  </thead>\n",
       "  <tbody>\n",
       "    <tr>\n",
       "      <th>0</th>\n",
       "      <td>OLS</td>\n",
       "      <td>0.960055</td>\n",
       "    </tr>\n",
       "    <tr>\n",
       "      <th>1</th>\n",
       "      <td>Variable selection</td>\n",
       "      <td>0.955180</td>\n",
       "    </tr>\n",
       "    <tr>\n",
       "      <th>2</th>\n",
       "      <td>Sequential Feature Selector</td>\n",
       "      <td>0.938730</td>\n",
       "    </tr>\n",
       "    <tr>\n",
       "      <th>3</th>\n",
       "      <td>Ridge</td>\n",
       "      <td>0.968269</td>\n",
       "    </tr>\n",
       "  </tbody>\n",
       "</table>\n",
       "</div>"
      ],
      "text/plain": [
       "                        Method  R^2 score\n",
       "0                          OLS   0.960055\n",
       "1           Variable selection   0.955180\n",
       "2  Sequential Feature Selector   0.938730\n",
       "3                        Ridge   0.968269"
      ]
     },
     "execution_count": 31,
     "metadata": {},
     "output_type": "execute_result"
    }
   ],
   "source": [
    "df_coef"
   ]
  },
  {
   "cell_type": "markdown",
   "id": "5bef7e25-6f7f-4193-823d-c56b62393517",
   "metadata": {},
   "source": [
    "# Question 6: Lasso"
   ]
  },
  {
   "cell_type": "code",
   "execution_count": 32,
   "id": "756605bb-3fe1-4307-8768-bef6dbfd9957",
   "metadata": {},
   "outputs": [],
   "source": [
    "from sklearn.linear_model import Lasso\n",
    "\n",
    "lambda_list = np.logspace(-5, -2)\n",
    "diff_zero_list = []\n",
    "mse_train_list = []\n",
    "mse_test_list = []\n",
    "for lbda in lambda_list:\n",
    "    model = Lasso(alpha=lbda, fit_intercept=False, max_iter = 50000, tol=0.03)\n",
    "    model.fit(X_train, y_train)\n",
    "    theta = model.coef_\n",
    "    diff_zero_count = np.sum(theta!=0)\n",
    "    diff_zero_list.append(diff_zero_count)\n",
    "    mse_train = np.average((y_train - X_train@theta.T)**2)\n",
    "    mse_test = np.average((y_test - X_test@theta.T)**2)\n",
    "    mse_train_list.append(mse_train)\n",
    "    mse_test_list.append(mse_test)\n"
   ]
  },
  {
   "cell_type": "code",
   "execution_count": 33,
   "id": "81182816-8941-4faa-bb68-2f7fa42b5888",
   "metadata": {},
   "outputs": [
    {
     "data": {
      "text/plain": [
       "Text(0, 0.5, 'Number of different from 0 coeffiecients')"
      ]
     },
     "execution_count": 33,
     "metadata": {},
     "output_type": "execute_result"
    },
    {
     "data": {
      "image/png": "[encoded data removed]",
      "text/plain": [
       "<Figure size 640x480 with 1 Axes>"
      ]
     },
     "metadata": {},
     "output_type": "display_data"
    }
   ],
   "source": [
    "plt.plot(lambda_list, diff_zero_list)\n",
    "plt.xscale('log')\n",
    "plt.xlabel('Lambda')\n",
    "plt.ylabel('Number of different from 0 coeffiecients')"
   ]
  },
  {
   "cell_type": "code",
   "execution_count": 34,
   "id": "cbc00fda-7472-4965-a7ac-95ca4889341b",
   "metadata": {},
   "outputs": [
    {
     "data": {
      "text/plain": [
       "<matplotlib.collections.PathCollection at 0x1b76a701c90>"
      ]
     },
     "execution_count": 34,
     "metadata": {},
     "output_type": "execute_result"
    },
    {
     "data": {
      "image/png": "[encoded data removed]",
      "text/plain": [
       "<Figure size 640x480 with 1 Axes>"
      ]
     },
     "metadata": {},
     "output_type": "display_data"
    }
   ],
   "source": [
    "plt.plot(lambda_list, mse_train_list, label='Train loss')\n",
    "plt.plot(lambda_list, mse_test_list, label='Test loss')\n",
    "plt.xscale('log')\n",
    "plt.scatter(lambda_list[np.argmin(mse_train_list)], np.min(mse_train_list), color='red', label='Train min')\n",
    "plt.scatter(lambda_list[np.argmin(mse_test_list)], np.min(mse_test_list), color='red', label='Test min')"
   ]
  },
  {
   "cell_type": "code",
   "execution_count": 35,
   "id": "6a865914-4577-4fc8-93c4-a0d1916f4ae9",
   "metadata": {},
   "outputs": [],
   "source": [
    "lbda = lambda_list[np.argmin(mse_train_list)]"
   ]
  },
  {
   "cell_type": "code",
   "execution_count": 36,
   "id": "0786987e-a993-4e21-95a0-4b78a427363b",
   "metadata": {},
   "outputs": [],
   "source": [
    "model = Lasso(alpha=lbda, max_iter=50000, tol=0.03)\n",
    "model.fit(X_train, y_train)\n",
    "df_coef.loc[len(df_coef)] = ['Lasso', model.score(X_test, y_test)]"
   ]
  },
  {
   "cell_type": "code",
   "execution_count": 37,
   "id": "508a467f-82c9-415d-a38b-d07e6cba7309",
   "metadata": {},
   "outputs": [
    {
     "data": {
      "text/html": [
       "<div>\n",
       "<style scoped>\n",
       "    .dataframe tbody tr th:only-of-type {\n",
       "        vertical-align: middle;\n",
       "    }\n",
       "\n",
       "    .dataframe tbody tr th {\n",
       "        vertical-align: top;\n",
       "    }\n",
       "\n",
       "    .dataframe thead th {\n",
       "        text-align: right;\n",
       "    }\n",
       "</style>\n",
       "<table border=\"1\" class=\"dataframe\">\n",
       "  <thead>\n",
       "    <tr style=\"text-align: right;\">\n",
       "      <th></th>\n",
       "      <th>Method</th>\n",
       "      <th>R^2 score</th>\n",
       "    </tr>\n",
       "  </thead>\n",
       "  <tbody>\n",
       "    <tr>\n",
       "      <th>0</th>\n",
       "      <td>OLS</td>\n",
       "      <td>0.960055</td>\n",
       "    </tr>\n",
       "    <tr>\n",
       "      <th>1</th>\n",
       "      <td>Variable selection</td>\n",
       "      <td>0.955180</td>\n",
       "    </tr>\n",
       "    <tr>\n",
       "      <th>2</th>\n",
       "      <td>Sequential Feature Selector</td>\n",
       "      <td>0.938730</td>\n",
       "    </tr>\n",
       "    <tr>\n",
       "      <th>3</th>\n",
       "      <td>Ridge</td>\n",
       "      <td>0.968269</td>\n",
       "    </tr>\n",
       "    <tr>\n",
       "      <th>4</th>\n",
       "      <td>Lasso</td>\n",
       "      <td>0.932695</td>\n",
       "    </tr>\n",
       "  </tbody>\n",
       "</table>\n",
       "</div>"
      ],
      "text/plain": [
       "                        Method  R^2 score\n",
       "0                          OLS   0.960055\n",
       "1           Variable selection   0.955180\n",
       "2  Sequential Feature Selector   0.938730\n",
       "3                        Ridge   0.968269\n",
       "4                        Lasso   0.932695"
      ]
     },
     "execution_count": 37,
     "metadata": {},
     "output_type": "execute_result"
    }
   ],
   "source": [
    "df_coef"
   ]
  },
  {
   "cell_type": "markdown",
   "id": "2b14f6ef-407d-4080-9f8d-2d8e714910f1",
   "metadata": {},
   "source": [
    "# Question 7: Cross-validation"
   ]
  },
  {
   "cell_type": "code",
   "execution_count": 38,
   "id": "58b44d71-1bee-4239-8ccb-8c1818f9b054",
   "metadata": {},
   "outputs": [
    {
     "name": "stderr",
     "output_type": "stream",
     "text": [
      "C:\\Users\\thang\\miniconda3\\Lib\\site-packages\\sklearn\\linear_model\\_coordinate_descent.py:628: ConvergenceWarning: Objective did not converge. You might want to increase the number of iterations, check the scale of the features or consider increasing regularisation. Duality gap: 7.111e+00, tolerance: 5.998e+00 Linear regression models with null weight for the l1 regularization term are more efficiently fitted using one of the solvers implemented in sklearn.linear_model.Ridge/RidgeCV instead.\n",
      "  model = cd_fast.enet_coordinate_descent(\n",
      "C:\\Users\\thang\\miniconda3\\Lib\\site-packages\\sklearn\\linear_model\\_coordinate_descent.py:628: ConvergenceWarning: Objective did not converge. You might want to increase the number of iterations, check the scale of the features or consider increasing regularisation. Duality gap: 9.236e+00, tolerance: 5.998e+00 Linear regression models with null weight for the l1 regularization term are more efficiently fitted using one of the solvers implemented in sklearn.linear_model.Ridge/RidgeCV instead.\n",
      "  model = cd_fast.enet_coordinate_descent(\n",
      "C:\\Users\\thang\\miniconda3\\Lib\\site-packages\\sklearn\\linear_model\\_coordinate_descent.py:628: ConvergenceWarning: Objective did not converge. You might want to increase the number of iterations, check the scale of the features or consider increasing regularisation. Duality gap: 1.216e+01, tolerance: 5.998e+00 Linear regression models with null weight for the l1 regularization term are more efficiently fitted using one of the solvers implemented in sklearn.linear_model.Ridge/RidgeCV instead.\n",
      "  model = cd_fast.enet_coordinate_descent(\n",
      "C:\\Users\\thang\\miniconda3\\Lib\\site-packages\\sklearn\\linear_model\\_coordinate_descent.py:628: ConvergenceWarning: Objective did not converge. You might want to increase the number of iterations, check the scale of the features or consider increasing regularisation. Duality gap: 1.608e+01, tolerance: 5.998e+00 Linear regression models with null weight for the l1 regularization term are more efficiently fitted using one of the solvers implemented in sklearn.linear_model.Ridge/RidgeCV instead.\n",
      "  model = cd_fast.enet_coordinate_descent(\n",
      "C:\\Users\\thang\\miniconda3\\Lib\\site-packages\\sklearn\\linear_model\\_coordinate_descent.py:628: ConvergenceWarning: Objective did not converge. You might want to increase the number of iterations, check the scale of the features or consider increasing regularisation. Duality gap: 2.101e+01, tolerance: 5.998e+00 Linear regression models with null weight for the l1 regularization term are more efficiently fitted using one of the solvers implemented in sklearn.linear_model.Ridge/RidgeCV instead.\n",
      "  model = cd_fast.enet_coordinate_descent(\n",
      "C:\\Users\\thang\\miniconda3\\Lib\\site-packages\\sklearn\\linear_model\\_coordinate_descent.py:628: ConvergenceWarning: Objective did not converge. You might want to increase the number of iterations, check the scale of the features or consider increasing regularisation. Duality gap: 2.654e+01, tolerance: 5.998e+00 Linear regression models with null weight for the l1 regularization term are more efficiently fitted using one of the solvers implemented in sklearn.linear_model.Ridge/RidgeCV instead.\n",
      "  model = cd_fast.enet_coordinate_descent(\n",
      "C:\\Users\\thang\\miniconda3\\Lib\\site-packages\\sklearn\\linear_model\\_coordinate_descent.py:628: ConvergenceWarning: Objective did not converge. You might want to increase the number of iterations, check the scale of the features or consider increasing regularisation. Duality gap: 3.199e+01, tolerance: 5.998e+00 Linear regression models with null weight for the l1 regularization term are more efficiently fitted using one of the solvers implemented in sklearn.linear_model.Ridge/RidgeCV instead.\n",
      "  model = cd_fast.enet_coordinate_descent(\n",
      "C:\\Users\\thang\\miniconda3\\Lib\\site-packages\\sklearn\\linear_model\\_coordinate_descent.py:628: ConvergenceWarning: Objective did not converge. You might want to increase the number of iterations, check the scale of the features or consider increasing regularisation. Duality gap: 3.670e+01, tolerance: 5.998e+00 Linear regression models with null weight for the l1 regularization term are more efficiently fitted using one of the solvers implemented in sklearn.linear_model.Ridge/RidgeCV instead.\n",
      "  model = cd_fast.enet_coordinate_descent(\n",
      "C:\\Users\\thang\\miniconda3\\Lib\\site-packages\\sklearn\\linear_model\\_coordinate_descent.py:628: ConvergenceWarning: Objective did not converge. You might want to increase the number of iterations, check the scale of the features or consider increasing regularisation. Duality gap: 4.033e+01, tolerance: 5.998e+00 Linear regression models with null weight for the l1 regularization term are more efficiently fitted using one of the solvers implemented in sklearn.linear_model.Ridge/RidgeCV instead.\n",
      "  model = cd_fast.enet_coordinate_descent(\n",
      "C:\\Users\\thang\\miniconda3\\Lib\\site-packages\\sklearn\\linear_model\\_coordinate_descent.py:628: ConvergenceWarning: Objective did not converge. You might want to increase the number of iterations, check the scale of the features or consider increasing regularisation. Duality gap: 4.291e+01, tolerance: 5.998e+00 Linear regression models with null weight for the l1 regularization term are more efficiently fitted using one of the solvers implemented in sklearn.linear_model.Ridge/RidgeCV instead.\n",
      "  model = cd_fast.enet_coordinate_descent(\n",
      "C:\\Users\\thang\\miniconda3\\Lib\\site-packages\\sklearn\\linear_model\\_coordinate_descent.py:628: ConvergenceWarning: Objective did not converge. You might want to increase the number of iterations, check the scale of the features or consider increasing regularisation. Duality gap: 4.472e+01, tolerance: 5.998e+00 Linear regression models with null weight for the l1 regularization term are more efficiently fitted using one of the solvers implemented in sklearn.linear_model.Ridge/RidgeCV instead.\n",
      "  model = cd_fast.enet_coordinate_descent(\n",
      "C:\\Users\\thang\\miniconda3\\Lib\\site-packages\\sklearn\\linear_model\\_coordinate_descent.py:628: ConvergenceWarning: Objective did not converge. You might want to increase the number of iterations, check the scale of the features or consider increasing regularisation. Duality gap: 4.610e+01, tolerance: 5.998e+00 Linear regression models with null weight for the l1 regularization term are more efficiently fitted using one of the solvers implemented in sklearn.linear_model.Ridge/RidgeCV instead.\n",
      "  model = cd_fast.enet_coordinate_descent(\n",
      "C:\\Users\\thang\\miniconda3\\Lib\\site-packages\\sklearn\\linear_model\\_coordinate_descent.py:628: ConvergenceWarning: Objective did not converge. You might want to increase the number of iterations, check the scale of the features or consider increasing regularisation. Duality gap: 4.739e+01, tolerance: 5.998e+00 Linear regression models with null weight for the l1 regularization term are more efficiently fitted using one of the solvers implemented in sklearn.linear_model.Ridge/RidgeCV instead.\n",
      "  model = cd_fast.enet_coordinate_descent(\n",
      "C:\\Users\\thang\\miniconda3\\Lib\\site-packages\\sklearn\\linear_model\\_coordinate_descent.py:628: ConvergenceWarning: Objective did not converge. You might want to increase the number of iterations, check the scale of the features or consider increasing regularisation. Duality gap: 4.887e+01, tolerance: 5.998e+00 Linear regression models with null weight for the l1 regularization term are more efficiently fitted using one of the solvers implemented in sklearn.linear_model.Ridge/RidgeCV instead.\n",
      "  model = cd_fast.enet_coordinate_descent(\n",
      "C:\\Users\\thang\\miniconda3\\Lib\\site-packages\\sklearn\\linear_model\\_coordinate_descent.py:628: ConvergenceWarning: Objective did not converge. You might want to increase the number of iterations, check the scale of the features or consider increasing regularisation. Duality gap: 5.070e+01, tolerance: 5.998e+00 Linear regression models with null weight for the l1 regularization term are more efficiently fitted using one of the solvers implemented in sklearn.linear_model.Ridge/RidgeCV instead.\n",
      "  model = cd_fast.enet_coordinate_descent(\n",
      "C:\\Users\\thang\\miniconda3\\Lib\\site-packages\\sklearn\\linear_model\\_coordinate_descent.py:628: ConvergenceWarning: Objective did not converge. You might want to increase the number of iterations, check the scale of the features or consider increasing regularisation. Duality gap: 5.280e+01, tolerance: 5.998e+00 Linear regression models with null weight for the l1 regularization term are more efficiently fitted using one of the solvers implemented in sklearn.linear_model.Ridge/RidgeCV instead.\n",
      "  model = cd_fast.enet_coordinate_descent(\n",
      "C:\\Users\\thang\\miniconda3\\Lib\\site-packages\\sklearn\\linear_model\\_coordinate_descent.py:628: ConvergenceWarning: Objective did not converge. You might want to increase the number of iterations, check the scale of the features or consider increasing regularisation. Duality gap: 5.490e+01, tolerance: 5.998e+00 Linear regression models with null weight for the l1 regularization term are more efficiently fitted using one of the solvers implemented in sklearn.linear_model.Ridge/RidgeCV instead.\n",
      "  model = cd_fast.enet_coordinate_descent(\n",
      "C:\\Users\\thang\\miniconda3\\Lib\\site-packages\\sklearn\\linear_model\\_coordinate_descent.py:628: ConvergenceWarning: Objective did not converge. You might want to increase the number of iterations, check the scale of the features or consider increasing regularisation. Duality gap: 5.667e+01, tolerance: 5.998e+00 Linear regression models with null weight for the l1 regularization term are more efficiently fitted using one of the solvers implemented in sklearn.linear_model.Ridge/RidgeCV instead.\n",
      "  model = cd_fast.enet_coordinate_descent(\n",
      "C:\\Users\\thang\\miniconda3\\Lib\\site-packages\\sklearn\\linear_model\\_coordinate_descent.py:628: ConvergenceWarning: Objective did not converge. You might want to increase the number of iterations, check the scale of the features or consider increasing regularisation. Duality gap: 5.797e+01, tolerance: 5.998e+00 Linear regression models with null weight for the l1 regularization term are more efficiently fitted using one of the solvers implemented in sklearn.linear_model.Ridge/RidgeCV instead.\n",
      "  model = cd_fast.enet_coordinate_descent(\n",
      "C:\\Users\\thang\\miniconda3\\Lib\\site-packages\\sklearn\\linear_model\\_coordinate_descent.py:628: ConvergenceWarning: Objective did not converge. You might want to increase the number of iterations, check the scale of the features or consider increasing regularisation. Duality gap: 5.881e+01, tolerance: 5.998e+00 Linear regression models with null weight for the l1 regularization term are more efficiently fitted using one of the solvers implemented in sklearn.linear_model.Ridge/RidgeCV instead.\n",
      "  model = cd_fast.enet_coordinate_descent(\n",
      "C:\\Users\\thang\\miniconda3\\Lib\\site-packages\\sklearn\\linear_model\\_coordinate_descent.py:628: ConvergenceWarning: Objective did not converge. You might want to increase the number of iterations, check the scale of the features or consider increasing regularisation. Duality gap: 6.740e+00, tolerance: 6.005e+00 Linear regression models with null weight for the l1 regularization term are more efficiently fitted using one of the solvers implemented in sklearn.linear_model.Ridge/RidgeCV instead.\n",
      "  model = cd_fast.enet_coordinate_descent(\n",
      "C:\\Users\\thang\\miniconda3\\Lib\\site-packages\\sklearn\\linear_model\\_coordinate_descent.py:628: ConvergenceWarning: Objective did not converge. You might want to increase the number of iterations, check the scale of the features or consider increasing regularisation. Duality gap: 8.444e+00, tolerance: 6.005e+00 Linear regression models with null weight for the l1 regularization term are more efficiently fitted using one of the solvers implemented in sklearn.linear_model.Ridge/RidgeCV instead.\n",
      "  model = cd_fast.enet_coordinate_descent(\n",
      "C:\\Users\\thang\\miniconda3\\Lib\\site-packages\\sklearn\\linear_model\\_coordinate_descent.py:628: ConvergenceWarning: Objective did not converge. You might want to increase the number of iterations, check the scale of the features or consider increasing regularisation. Duality gap: 1.071e+01, tolerance: 6.005e+00 Linear regression models with null weight for the l1 regularization term are more efficiently fitted using one of the solvers implemented in sklearn.linear_model.Ridge/RidgeCV instead.\n",
      "  model = cd_fast.enet_coordinate_descent(\n",
      "C:\\Users\\thang\\miniconda3\\Lib\\site-packages\\sklearn\\linear_model\\_coordinate_descent.py:628: ConvergenceWarning: Objective did not converge. You might want to increase the number of iterations, check the scale of the features or consider increasing regularisation. Duality gap: 1.377e+01, tolerance: 6.005e+00 Linear regression models with null weight for the l1 regularization term are more efficiently fitted using one of the solvers implemented in sklearn.linear_model.Ridge/RidgeCV instead.\n",
      "  model = cd_fast.enet_coordinate_descent(\n",
      "C:\\Users\\thang\\miniconda3\\Lib\\site-packages\\sklearn\\linear_model\\_coordinate_descent.py:628: ConvergenceWarning: Objective did not converge. You might want to increase the number of iterations, check the scale of the features or consider increasing regularisation. Duality gap: 1.783e+01, tolerance: 6.005e+00 Linear regression models with null weight for the l1 regularization term are more efficiently fitted using one of the solvers implemented in sklearn.linear_model.Ridge/RidgeCV instead.\n",
      "  model = cd_fast.enet_coordinate_descent(\n",
      "C:\\Users\\thang\\miniconda3\\Lib\\site-packages\\sklearn\\linear_model\\_coordinate_descent.py:628: ConvergenceWarning: Objective did not converge. You might want to increase the number of iterations, check the scale of the features or consider increasing regularisation. Duality gap: 2.289e+01, tolerance: 6.005e+00 Linear regression models with null weight for the l1 regularization term are more efficiently fitted using one of the solvers implemented in sklearn.linear_model.Ridge/RidgeCV instead.\n",
      "  model = cd_fast.enet_coordinate_descent(\n",
      "C:\\Users\\thang\\miniconda3\\Lib\\site-packages\\sklearn\\linear_model\\_coordinate_descent.py:628: ConvergenceWarning: Objective did not converge. You might want to increase the number of iterations, check the scale of the features or consider increasing regularisation. Duality gap: 2.850e+01, tolerance: 6.005e+00 Linear regression models with null weight for the l1 regularization term are more efficiently fitted using one of the solvers implemented in sklearn.linear_model.Ridge/RidgeCV instead.\n",
      "  model = cd_fast.enet_coordinate_descent(\n",
      "C:\\Users\\thang\\miniconda3\\Lib\\site-packages\\sklearn\\linear_model\\_coordinate_descent.py:628: ConvergenceWarning: Objective did not converge. You might want to increase the number of iterations, check the scale of the features or consider increasing regularisation. Duality gap: 3.392e+01, tolerance: 6.005e+00 Linear regression models with null weight for the l1 regularization term are more efficiently fitted using one of the solvers implemented in sklearn.linear_model.Ridge/RidgeCV instead.\n",
      "  model = cd_fast.enet_coordinate_descent(\n",
      "C:\\Users\\thang\\miniconda3\\Lib\\site-packages\\sklearn\\linear_model\\_coordinate_descent.py:628: ConvergenceWarning: Objective did not converge. You might want to increase the number of iterations, check the scale of the features or consider increasing regularisation. Duality gap: 3.850e+01, tolerance: 6.005e+00 Linear regression models with null weight for the l1 regularization term are more efficiently fitted using one of the solvers implemented in sklearn.linear_model.Ridge/RidgeCV instead.\n",
      "  model = cd_fast.enet_coordinate_descent(\n",
      "C:\\Users\\thang\\miniconda3\\Lib\\site-packages\\sklearn\\linear_model\\_coordinate_descent.py:628: ConvergenceWarning: Objective did not converge. You might want to increase the number of iterations, check the scale of the features or consider increasing regularisation. Duality gap: 4.195e+01, tolerance: 6.005e+00 Linear regression models with null weight for the l1 regularization term are more efficiently fitted using one of the solvers implemented in sklearn.linear_model.Ridge/RidgeCV instead.\n",
      "  model = cd_fast.enet_coordinate_descent(\n",
      "C:\\Users\\thang\\miniconda3\\Lib\\site-packages\\sklearn\\linear_model\\_coordinate_descent.py:628: ConvergenceWarning: Objective did not converge. You might want to increase the number of iterations, check the scale of the features or consider increasing regularisation. Duality gap: 4.437e+01, tolerance: 6.005e+00 Linear regression models with null weight for the l1 regularization term are more efficiently fitted using one of the solvers implemented in sklearn.linear_model.Ridge/RidgeCV instead.\n",
      "  model = cd_fast.enet_coordinate_descent(\n",
      "C:\\Users\\thang\\miniconda3\\Lib\\site-packages\\sklearn\\linear_model\\_coordinate_descent.py:628: ConvergenceWarning: Objective did not converge. You might want to increase the number of iterations, check the scale of the features or consider increasing regularisation. Duality gap: 4.604e+01, tolerance: 6.005e+00 Linear regression models with null weight for the l1 regularization term are more efficiently fitted using one of the solvers implemented in sklearn.linear_model.Ridge/RidgeCV instead.\n",
      "  model = cd_fast.enet_coordinate_descent(\n",
      "C:\\Users\\thang\\miniconda3\\Lib\\site-packages\\sklearn\\linear_model\\_coordinate_descent.py:628: ConvergenceWarning: Objective did not converge. You might want to increase the number of iterations, check the scale of the features or consider increasing regularisation. Duality gap: 4.731e+01, tolerance: 6.005e+00 Linear regression models with null weight for the l1 regularization term are more efficiently fitted using one of the solvers implemented in sklearn.linear_model.Ridge/RidgeCV instead.\n",
      "  model = cd_fast.enet_coordinate_descent(\n",
      "C:\\Users\\thang\\miniconda3\\Lib\\site-packages\\sklearn\\linear_model\\_coordinate_descent.py:628: ConvergenceWarning: Objective did not converge. You might want to increase the number of iterations, check the scale of the features or consider increasing regularisation. Duality gap: 4.850e+01, tolerance: 6.005e+00 Linear regression models with null weight for the l1 regularization term are more efficiently fitted using one of the solvers implemented in sklearn.linear_model.Ridge/RidgeCV instead.\n",
      "  model = cd_fast.enet_coordinate_descent(\n",
      "C:\\Users\\thang\\miniconda3\\Lib\\site-packages\\sklearn\\linear_model\\_coordinate_descent.py:628: ConvergenceWarning: Objective did not converge. You might want to increase the number of iterations, check the scale of the features or consider increasing regularisation. Duality gap: 4.986e+01, tolerance: 6.005e+00 Linear regression models with null weight for the l1 regularization term are more efficiently fitted using one of the solvers implemented in sklearn.linear_model.Ridge/RidgeCV instead.\n",
      "  model = cd_fast.enet_coordinate_descent(\n",
      "C:\\Users\\thang\\miniconda3\\Lib\\site-packages\\sklearn\\linear_model\\_coordinate_descent.py:628: ConvergenceWarning: Objective did not converge. You might want to increase the number of iterations, check the scale of the features or consider increasing regularisation. Duality gap: 5.153e+01, tolerance: 6.005e+00 Linear regression models with null weight for the l1 regularization term are more efficiently fitted using one of the solvers implemented in sklearn.linear_model.Ridge/RidgeCV instead.\n",
      "  model = cd_fast.enet_coordinate_descent(\n",
      "C:\\Users\\thang\\miniconda3\\Lib\\site-packages\\sklearn\\linear_model\\_coordinate_descent.py:628: ConvergenceWarning: Objective did not converge. You might want to increase the number of iterations, check the scale of the features or consider increasing regularisation. Duality gap: 5.346e+01, tolerance: 6.005e+00 Linear regression models with null weight for the l1 regularization term are more efficiently fitted using one of the solvers implemented in sklearn.linear_model.Ridge/RidgeCV instead.\n",
      "  model = cd_fast.enet_coordinate_descent(\n",
      "C:\\Users\\thang\\miniconda3\\Lib\\site-packages\\sklearn\\linear_model\\_coordinate_descent.py:628: ConvergenceWarning: Objective did not converge. You might want to increase the number of iterations, check the scale of the features or consider increasing regularisation. Duality gap: 5.538e+01, tolerance: 6.005e+00 Linear regression models with null weight for the l1 regularization term are more efficiently fitted using one of the solvers implemented in sklearn.linear_model.Ridge/RidgeCV instead.\n",
      "  model = cd_fast.enet_coordinate_descent(\n",
      "C:\\Users\\thang\\miniconda3\\Lib\\site-packages\\sklearn\\linear_model\\_coordinate_descent.py:628: ConvergenceWarning: Objective did not converge. You might want to increase the number of iterations, check the scale of the features or consider increasing regularisation. Duality gap: 5.701e+01, tolerance: 6.005e+00 Linear regression models with null weight for the l1 regularization term are more efficiently fitted using one of the solvers implemented in sklearn.linear_model.Ridge/RidgeCV instead.\n",
      "  model = cd_fast.enet_coordinate_descent(\n",
      "C:\\Users\\thang\\miniconda3\\Lib\\site-packages\\sklearn\\linear_model\\_coordinate_descent.py:628: ConvergenceWarning: Objective did not converge. You might want to increase the number of iterations, check the scale of the features or consider increasing regularisation. Duality gap: 5.820e+01, tolerance: 6.005e+00 Linear regression models with null weight for the l1 regularization term are more efficiently fitted using one of the solvers implemented in sklearn.linear_model.Ridge/RidgeCV instead.\n",
      "  model = cd_fast.enet_coordinate_descent(\n",
      "C:\\Users\\thang\\miniconda3\\Lib\\site-packages\\sklearn\\linear_model\\_coordinate_descent.py:628: ConvergenceWarning: Objective did not converge. You might want to increase the number of iterations, check the scale of the features or consider increasing regularisation. Duality gap: 5.897e+01, tolerance: 6.005e+00 Linear regression models with null weight for the l1 regularization term are more efficiently fitted using one of the solvers implemented in sklearn.linear_model.Ridge/RidgeCV instead.\n",
      "  model = cd_fast.enet_coordinate_descent(\n",
      "C:\\Users\\thang\\miniconda3\\Lib\\site-packages\\sklearn\\linear_model\\_coordinate_descent.py:628: ConvergenceWarning: Objective did not converge. You might want to increase the number of iterations, check the scale of the features or consider increasing regularisation. Duality gap: 6.720e+00, tolerance: 6.498e+00 Linear regression models with null weight for the l1 regularization term are more efficiently fitted using one of the solvers implemented in sklearn.linear_model.Ridge/RidgeCV instead.\n",
      "  model = cd_fast.enet_coordinate_descent(\n",
      "C:\\Users\\thang\\miniconda3\\Lib\\site-packages\\sklearn\\linear_model\\_coordinate_descent.py:628: ConvergenceWarning: Objective did not converge. You might want to increase the number of iterations, check the scale of the features or consider increasing regularisation. Duality gap: 8.346e+00, tolerance: 6.498e+00 Linear regression models with null weight for the l1 regularization term are more efficiently fitted using one of the solvers implemented in sklearn.linear_model.Ridge/RidgeCV instead.\n",
      "  model = cd_fast.enet_coordinate_descent(\n",
      "C:\\Users\\thang\\miniconda3\\Lib\\site-packages\\sklearn\\linear_model\\_coordinate_descent.py:628: ConvergenceWarning: Objective did not converge. You might want to increase the number of iterations, check the scale of the features or consider increasing regularisation. Duality gap: 1.060e+01, tolerance: 6.498e+00 Linear regression models with null weight for the l1 regularization term are more efficiently fitted using one of the solvers implemented in sklearn.linear_model.Ridge/RidgeCV instead.\n",
      "  model = cd_fast.enet_coordinate_descent(\n",
      "C:\\Users\\thang\\miniconda3\\Lib\\site-packages\\sklearn\\linear_model\\_coordinate_descent.py:628: ConvergenceWarning: Objective did not converge. You might want to increase the number of iterations, check the scale of the features or consider increasing regularisation. Duality gap: 1.375e+01, tolerance: 6.498e+00 Linear regression models with null weight for the l1 regularization term are more efficiently fitted using one of the solvers implemented in sklearn.linear_model.Ridge/RidgeCV instead.\n",
      "  model = cd_fast.enet_coordinate_descent(\n",
      "C:\\Users\\thang\\miniconda3\\Lib\\site-packages\\sklearn\\linear_model\\_coordinate_descent.py:628: ConvergenceWarning: Objective did not converge. You might want to increase the number of iterations, check the scale of the features or consider increasing regularisation. Duality gap: 1.804e+01, tolerance: 6.498e+00 Linear regression models with null weight for the l1 regularization term are more efficiently fitted using one of the solvers implemented in sklearn.linear_model.Ridge/RidgeCV instead.\n",
      "  model = cd_fast.enet_coordinate_descent(\n",
      "C:\\Users\\thang\\miniconda3\\Lib\\site-packages\\sklearn\\linear_model\\_coordinate_descent.py:628: ConvergenceWarning: Objective did not converge. You might want to increase the number of iterations, check the scale of the features or consider increasing regularisation. Duality gap: 2.343e+01, tolerance: 6.498e+00 Linear regression models with null weight for the l1 regularization term are more efficiently fitted using one of the solvers implemented in sklearn.linear_model.Ridge/RidgeCV instead.\n",
      "  model = cd_fast.enet_coordinate_descent(\n",
      "C:\\Users\\thang\\miniconda3\\Lib\\site-packages\\sklearn\\linear_model\\_coordinate_descent.py:628: ConvergenceWarning: Objective did not converge. You might want to increase the number of iterations, check the scale of the features or consider increasing regularisation. Duality gap: 2.939e+01, tolerance: 6.498e+00 Linear regression models with null weight for the l1 regularization term are more efficiently fitted using one of the solvers implemented in sklearn.linear_model.Ridge/RidgeCV instead.\n",
      "  model = cd_fast.enet_coordinate_descent(\n",
      "C:\\Users\\thang\\miniconda3\\Lib\\site-packages\\sklearn\\linear_model\\_coordinate_descent.py:628: ConvergenceWarning: Objective did not converge. You might want to increase the number of iterations, check the scale of the features or consider increasing regularisation. Duality gap: 3.509e+01, tolerance: 6.498e+00 Linear regression models with null weight for the l1 regularization term are more efficiently fitted using one of the solvers implemented in sklearn.linear_model.Ridge/RidgeCV instead.\n",
      "  model = cd_fast.enet_coordinate_descent(\n",
      "C:\\Users\\thang\\miniconda3\\Lib\\site-packages\\sklearn\\linear_model\\_coordinate_descent.py:628: ConvergenceWarning: Objective did not converge. You might want to increase the number of iterations, check the scale of the features or consider increasing regularisation. Duality gap: 3.983e+01, tolerance: 6.498e+00 Linear regression models with null weight for the l1 regularization term are more efficiently fitted using one of the solvers implemented in sklearn.linear_model.Ridge/RidgeCV instead.\n",
      "  model = cd_fast.enet_coordinate_descent(\n",
      "C:\\Users\\thang\\miniconda3\\Lib\\site-packages\\sklearn\\linear_model\\_coordinate_descent.py:628: ConvergenceWarning: Objective did not converge. You might want to increase the number of iterations, check the scale of the features or consider increasing regularisation. Duality gap: 4.336e+01, tolerance: 6.498e+00 Linear regression models with null weight for the l1 regularization term are more efficiently fitted using one of the solvers implemented in sklearn.linear_model.Ridge/RidgeCV instead.\n",
      "  model = cd_fast.enet_coordinate_descent(\n",
      "C:\\Users\\thang\\miniconda3\\Lib\\site-packages\\sklearn\\linear_model\\_coordinate_descent.py:628: ConvergenceWarning: Objective did not converge. You might want to increase the number of iterations, check the scale of the features or consider increasing regularisation. Duality gap: 4.582e+01, tolerance: 6.498e+00 Linear regression models with null weight for the l1 regularization term are more efficiently fitted using one of the solvers implemented in sklearn.linear_model.Ridge/RidgeCV instead.\n",
      "  model = cd_fast.enet_coordinate_descent(\n",
      "C:\\Users\\thang\\miniconda3\\Lib\\site-packages\\sklearn\\linear_model\\_coordinate_descent.py:628: ConvergenceWarning: Objective did not converge. You might want to increase the number of iterations, check the scale of the features or consider increasing regularisation. Duality gap: 4.753e+01, tolerance: 6.498e+00 Linear regression models with null weight for the l1 regularization term are more efficiently fitted using one of the solvers implemented in sklearn.linear_model.Ridge/RidgeCV instead.\n",
      "  model = cd_fast.enet_coordinate_descent(\n",
      "C:\\Users\\thang\\miniconda3\\Lib\\site-packages\\sklearn\\linear_model\\_coordinate_descent.py:628: ConvergenceWarning: Objective did not converge. You might want to increase the number of iterations, check the scale of the features or consider increasing regularisation. Duality gap: 4.887e+01, tolerance: 6.498e+00 Linear regression models with null weight for the l1 regularization term are more efficiently fitted using one of the solvers implemented in sklearn.linear_model.Ridge/RidgeCV instead.\n",
      "  model = cd_fast.enet_coordinate_descent(\n",
      "C:\\Users\\thang\\miniconda3\\Lib\\site-packages\\sklearn\\linear_model\\_coordinate_descent.py:628: ConvergenceWarning: Objective did not converge. You might want to increase the number of iterations, check the scale of the features or consider increasing regularisation. Duality gap: 5.019e+01, tolerance: 6.498e+00 Linear regression models with null weight for the l1 regularization term are more efficiently fitted using one of the solvers implemented in sklearn.linear_model.Ridge/RidgeCV instead.\n",
      "  model = cd_fast.enet_coordinate_descent(\n",
      "C:\\Users\\thang\\miniconda3\\Lib\\site-packages\\sklearn\\linear_model\\_coordinate_descent.py:628: ConvergenceWarning: Objective did not converge. You might want to increase the number of iterations, check the scale of the features or consider increasing regularisation. Duality gap: 5.177e+01, tolerance: 6.498e+00 Linear regression models with null weight for the l1 regularization term are more efficiently fitted using one of the solvers implemented in sklearn.linear_model.Ridge/RidgeCV instead.\n",
      "  model = cd_fast.enet_coordinate_descent(\n",
      "C:\\Users\\thang\\miniconda3\\Lib\\site-packages\\sklearn\\linear_model\\_coordinate_descent.py:628: ConvergenceWarning: Objective did not converge. You might want to increase the number of iterations, check the scale of the features or consider increasing regularisation. Duality gap: 5.380e+01, tolerance: 6.498e+00 Linear regression models with null weight for the l1 regularization term are more efficiently fitted using one of the solvers implemented in sklearn.linear_model.Ridge/RidgeCV instead.\n",
      "  model = cd_fast.enet_coordinate_descent(\n",
      "C:\\Users\\thang\\miniconda3\\Lib\\site-packages\\sklearn\\linear_model\\_coordinate_descent.py:628: ConvergenceWarning: Objective did not converge. You might want to increase the number of iterations, check the scale of the features or consider increasing regularisation. Duality gap: 5.621e+01, tolerance: 6.498e+00 Linear regression models with null weight for the l1 regularization term are more efficiently fitted using one of the solvers implemented in sklearn.linear_model.Ridge/RidgeCV instead.\n",
      "  model = cd_fast.enet_coordinate_descent(\n",
      "C:\\Users\\thang\\miniconda3\\Lib\\site-packages\\sklearn\\linear_model\\_coordinate_descent.py:628: ConvergenceWarning: Objective did not converge. You might want to increase the number of iterations, check the scale of the features or consider increasing regularisation. Duality gap: 5.869e+01, tolerance: 6.498e+00 Linear regression models with null weight for the l1 regularization term are more efficiently fitted using one of the solvers implemented in sklearn.linear_model.Ridge/RidgeCV instead.\n",
      "  model = cd_fast.enet_coordinate_descent(\n",
      "C:\\Users\\thang\\miniconda3\\Lib\\site-packages\\sklearn\\linear_model\\_coordinate_descent.py:628: ConvergenceWarning: Objective did not converge. You might want to increase the number of iterations, check the scale of the features or consider increasing regularisation. Duality gap: 6.084e+01, tolerance: 6.498e+00 Linear regression models with null weight for the l1 regularization term are more efficiently fitted using one of the solvers implemented in sklearn.linear_model.Ridge/RidgeCV instead.\n",
      "  model = cd_fast.enet_coordinate_descent(\n",
      "C:\\Users\\thang\\miniconda3\\Lib\\site-packages\\sklearn\\linear_model\\_coordinate_descent.py:628: ConvergenceWarning: Objective did not converge. You might want to increase the number of iterations, check the scale of the features or consider increasing regularisation. Duality gap: 6.244e+01, tolerance: 6.498e+00 Linear regression models with null weight for the l1 regularization term are more efficiently fitted using one of the solvers implemented in sklearn.linear_model.Ridge/RidgeCV instead.\n",
      "  model = cd_fast.enet_coordinate_descent(\n",
      "C:\\Users\\thang\\miniconda3\\Lib\\site-packages\\sklearn\\linear_model\\_coordinate_descent.py:628: ConvergenceWarning: Objective did not converge. You might want to increase the number of iterations, check the scale of the features or consider increasing regularisation. Duality gap: 6.349e+01, tolerance: 6.498e+00 Linear regression models with null weight for the l1 regularization term are more efficiently fitted using one of the solvers implemented in sklearn.linear_model.Ridge/RidgeCV instead.\n",
      "  model = cd_fast.enet_coordinate_descent(\n",
      "C:\\Users\\thang\\miniconda3\\Lib\\site-packages\\sklearn\\linear_model\\_coordinate_descent.py:628: ConvergenceWarning: Objective did not converge. You might want to increase the number of iterations, check the scale of the features or consider increasing regularisation. Duality gap: 6.666e+00, tolerance: 6.557e+00 Linear regression models with null weight for the l1 regularization term are more efficiently fitted using one of the solvers implemented in sklearn.linear_model.Ridge/RidgeCV instead.\n",
      "  model = cd_fast.enet_coordinate_descent(\n",
      "C:\\Users\\thang\\miniconda3\\Lib\\site-packages\\sklearn\\linear_model\\_coordinate_descent.py:628: ConvergenceWarning: Objective did not converge. You might want to increase the number of iterations, check the scale of the features or consider increasing regularisation. Duality gap: 8.299e+00, tolerance: 6.557e+00 Linear regression models with null weight for the l1 regularization term are more efficiently fitted using one of the solvers implemented in sklearn.linear_model.Ridge/RidgeCV instead.\n",
      "  model = cd_fast.enet_coordinate_descent(\n",
      "C:\\Users\\thang\\miniconda3\\Lib\\site-packages\\sklearn\\linear_model\\_coordinate_descent.py:628: ConvergenceWarning: Objective did not converge. You might want to increase the number of iterations, check the scale of the features or consider increasing regularisation. Duality gap: 1.055e+01, tolerance: 6.557e+00 Linear regression models with null weight for the l1 regularization term are more efficiently fitted using one of the solvers implemented in sklearn.linear_model.Ridge/RidgeCV instead.\n",
      "  model = cd_fast.enet_coordinate_descent(\n",
      "C:\\Users\\thang\\miniconda3\\Lib\\site-packages\\sklearn\\linear_model\\_coordinate_descent.py:628: ConvergenceWarning: Objective did not converge. You might want to increase the number of iterations, check the scale of the features or consider increasing regularisation. Duality gap: 1.370e+01, tolerance: 6.557e+00 Linear regression models with null weight for the l1 regularization term are more efficiently fitted using one of the solvers implemented in sklearn.linear_model.Ridge/RidgeCV instead.\n",
      "  model = cd_fast.enet_coordinate_descent(\n",
      "C:\\Users\\thang\\miniconda3\\Lib\\site-packages\\sklearn\\linear_model\\_coordinate_descent.py:628: ConvergenceWarning: Objective did not converge. You might want to increase the number of iterations, check the scale of the features or consider increasing regularisation. Duality gap: 1.800e+01, tolerance: 6.557e+00 Linear regression models with null weight for the l1 regularization term are more efficiently fitted using one of the solvers implemented in sklearn.linear_model.Ridge/RidgeCV instead.\n",
      "  model = cd_fast.enet_coordinate_descent(\n",
      "C:\\Users\\thang\\miniconda3\\Lib\\site-packages\\sklearn\\linear_model\\_coordinate_descent.py:628: ConvergenceWarning: Objective did not converge. You might want to increase the number of iterations, check the scale of the features or consider increasing regularisation. Duality gap: 2.344e+01, tolerance: 6.557e+00 Linear regression models with null weight for the l1 regularization term are more efficiently fitted using one of the solvers implemented in sklearn.linear_model.Ridge/RidgeCV instead.\n",
      "  model = cd_fast.enet_coordinate_descent(\n",
      "C:\\Users\\thang\\miniconda3\\Lib\\site-packages\\sklearn\\linear_model\\_coordinate_descent.py:628: ConvergenceWarning: Objective did not converge. You might want to increase the number of iterations, check the scale of the features or consider increasing regularisation. Duality gap: 2.953e+01, tolerance: 6.557e+00 Linear regression models with null weight for the l1 regularization term are more efficiently fitted using one of the solvers implemented in sklearn.linear_model.Ridge/RidgeCV instead.\n",
      "  model = cd_fast.enet_coordinate_descent(\n",
      "C:\\Users\\thang\\miniconda3\\Lib\\site-packages\\sklearn\\linear_model\\_coordinate_descent.py:628: ConvergenceWarning: Objective did not converge. You might want to increase the number of iterations, check the scale of the features or consider increasing regularisation. Duality gap: 3.548e+01, tolerance: 6.557e+00 Linear regression models with null weight for the l1 regularization term are more efficiently fitted using one of the solvers implemented in sklearn.linear_model.Ridge/RidgeCV instead.\n",
      "  model = cd_fast.enet_coordinate_descent(\n",
      "C:\\Users\\thang\\miniconda3\\Lib\\site-packages\\sklearn\\linear_model\\_coordinate_descent.py:628: ConvergenceWarning: Objective did not converge. You might want to increase the number of iterations, check the scale of the features or consider increasing regularisation. Duality gap: 4.056e+01, tolerance: 6.557e+00 Linear regression models with null weight for the l1 regularization term are more efficiently fitted using one of the solvers implemented in sklearn.linear_model.Ridge/RidgeCV instead.\n",
      "  model = cd_fast.enet_coordinate_descent(\n",
      "C:\\Users\\thang\\miniconda3\\Lib\\site-packages\\sklearn\\linear_model\\_coordinate_descent.py:628: ConvergenceWarning: Objective did not converge. You might want to increase the number of iterations, check the scale of the features or consider increasing regularisation. Duality gap: 4.441e+01, tolerance: 6.557e+00 Linear regression models with null weight for the l1 regularization term are more efficiently fitted using one of the solvers implemented in sklearn.linear_model.Ridge/RidgeCV instead.\n",
      "  model = cd_fast.enet_coordinate_descent(\n",
      "C:\\Users\\thang\\miniconda3\\Lib\\site-packages\\sklearn\\linear_model\\_coordinate_descent.py:628: ConvergenceWarning: Objective did not converge. You might want to increase the number of iterations, check the scale of the features or consider increasing regularisation. Duality gap: 4.712e+01, tolerance: 6.557e+00 Linear regression models with null weight for the l1 regularization term are more efficiently fitted using one of the solvers implemented in sklearn.linear_model.Ridge/RidgeCV instead.\n",
      "  model = cd_fast.enet_coordinate_descent(\n",
      "C:\\Users\\thang\\miniconda3\\Lib\\site-packages\\sklearn\\linear_model\\_coordinate_descent.py:628: ConvergenceWarning: Objective did not converge. You might want to increase the number of iterations, check the scale of the features or consider increasing regularisation. Duality gap: 4.900e+01, tolerance: 6.557e+00 Linear regression models with null weight for the l1 regularization term are more efficiently fitted using one of the solvers implemented in sklearn.linear_model.Ridge/RidgeCV instead.\n",
      "  model = cd_fast.enet_coordinate_descent(\n",
      "C:\\Users\\thang\\miniconda3\\Lib\\site-packages\\sklearn\\linear_model\\_coordinate_descent.py:628: ConvergenceWarning: Objective did not converge. You might want to increase the number of iterations, check the scale of the features or consider increasing regularisation. Duality gap: 5.041e+01, tolerance: 6.557e+00 Linear regression models with null weight for the l1 regularization term are more efficiently fitted using one of the solvers implemented in sklearn.linear_model.Ridge/RidgeCV instead.\n",
      "  model = cd_fast.enet_coordinate_descent(\n",
      "C:\\Users\\thang\\miniconda3\\Lib\\site-packages\\sklearn\\linear_model\\_coordinate_descent.py:628: ConvergenceWarning: Objective did not converge. You might want to increase the number of iterations, check the scale of the features or consider increasing regularisation. Duality gap: 5.171e+01, tolerance: 6.557e+00 Linear regression models with null weight for the l1 regularization term are more efficiently fitted using one of the solvers implemented in sklearn.linear_model.Ridge/RidgeCV instead.\n",
      "  model = cd_fast.enet_coordinate_descent(\n",
      "C:\\Users\\thang\\miniconda3\\Lib\\site-packages\\sklearn\\linear_model\\_coordinate_descent.py:628: ConvergenceWarning: Objective did not converge. You might want to increase the number of iterations, check the scale of the features or consider increasing regularisation. Duality gap: 5.321e+01, tolerance: 6.557e+00 Linear regression models with null weight for the l1 regularization term are more efficiently fitted using one of the solvers implemented in sklearn.linear_model.Ridge/RidgeCV instead.\n",
      "  model = cd_fast.enet_coordinate_descent(\n",
      "C:\\Users\\thang\\miniconda3\\Lib\\site-packages\\sklearn\\linear_model\\_coordinate_descent.py:628: ConvergenceWarning: Objective did not converge. You might want to increase the number of iterations, check the scale of the features or consider increasing regularisation. Duality gap: 5.509e+01, tolerance: 6.557e+00 Linear regression models with null weight for the l1 regularization term are more efficiently fitted using one of the solvers implemented in sklearn.linear_model.Ridge/RidgeCV instead.\n",
      "  model = cd_fast.enet_coordinate_descent(\n",
      "C:\\Users\\thang\\miniconda3\\Lib\\site-packages\\sklearn\\linear_model\\_coordinate_descent.py:628: ConvergenceWarning: Objective did not converge. You might want to increase the number of iterations, check the scale of the features or consider increasing regularisation. Duality gap: 5.732e+01, tolerance: 6.557e+00 Linear regression models with null weight for the l1 regularization term are more efficiently fitted using one of the solvers implemented in sklearn.linear_model.Ridge/RidgeCV instead.\n",
      "  model = cd_fast.enet_coordinate_descent(\n",
      "C:\\Users\\thang\\miniconda3\\Lib\\site-packages\\sklearn\\linear_model\\_coordinate_descent.py:628: ConvergenceWarning: Objective did not converge. You might want to increase the number of iterations, check the scale of the features or consider increasing regularisation. Duality gap: 5.962e+01, tolerance: 6.557e+00 Linear regression models with null weight for the l1 regularization term are more efficiently fitted using one of the solvers implemented in sklearn.linear_model.Ridge/RidgeCV instead.\n",
      "  model = cd_fast.enet_coordinate_descent(\n",
      "C:\\Users\\thang\\miniconda3\\Lib\\site-packages\\sklearn\\linear_model\\_coordinate_descent.py:628: ConvergenceWarning: Objective did not converge. You might want to increase the number of iterations, check the scale of the features or consider increasing regularisation. Duality gap: 6.164e+01, tolerance: 6.557e+00 Linear regression models with null weight for the l1 regularization term are more efficiently fitted using one of the solvers implemented in sklearn.linear_model.Ridge/RidgeCV instead.\n",
      "  model = cd_fast.enet_coordinate_descent(\n",
      "C:\\Users\\thang\\miniconda3\\Lib\\site-packages\\sklearn\\linear_model\\_coordinate_descent.py:628: ConvergenceWarning: Objective did not converge. You might want to increase the number of iterations, check the scale of the features or consider increasing regularisation. Duality gap: 6.315e+01, tolerance: 6.557e+00 Linear regression models with null weight for the l1 regularization term are more efficiently fitted using one of the solvers implemented in sklearn.linear_model.Ridge/RidgeCV instead.\n",
      "  model = cd_fast.enet_coordinate_descent(\n",
      "C:\\Users\\thang\\miniconda3\\Lib\\site-packages\\sklearn\\linear_model\\_coordinate_descent.py:628: ConvergenceWarning: Objective did not converge. You might want to increase the number of iterations, check the scale of the features or consider increasing regularisation. Duality gap: 6.415e+01, tolerance: 6.557e+00 Linear regression models with null weight for the l1 regularization term are more efficiently fitted using one of the solvers implemented in sklearn.linear_model.Ridge/RidgeCV instead.\n",
      "  model = cd_fast.enet_coordinate_descent(\n",
      "C:\\Users\\thang\\miniconda3\\Lib\\site-packages\\sklearn\\linear_model\\_coordinate_descent.py:628: ConvergenceWarning: Objective did not converge. You might want to increase the number of iterations, check the scale of the features or consider increasing regularisation. Duality gap: 8.441e+00, tolerance: 7.142e+00 Linear regression models with null weight for the l1 regularization term are more efficiently fitted using one of the solvers implemented in sklearn.linear_model.Ridge/RidgeCV instead.\n",
      "  model = cd_fast.enet_coordinate_descent(\n",
      "C:\\Users\\thang\\miniconda3\\Lib\\site-packages\\sklearn\\linear_model\\_coordinate_descent.py:628: ConvergenceWarning: Objective did not converge. You might want to increase the number of iterations, check the scale of the features or consider increasing regularisation. Duality gap: 1.063e+01, tolerance: 7.142e+00 Linear regression models with null weight for the l1 regularization term are more efficiently fitted using one of the solvers implemented in sklearn.linear_model.Ridge/RidgeCV instead.\n",
      "  model = cd_fast.enet_coordinate_descent(\n",
      "C:\\Users\\thang\\miniconda3\\Lib\\site-packages\\sklearn\\linear_model\\_coordinate_descent.py:628: ConvergenceWarning: Objective did not converge. You might want to increase the number of iterations, check the scale of the features or consider increasing regularisation. Duality gap: 1.363e+01, tolerance: 7.142e+00 Linear regression models with null weight for the l1 regularization term are more efficiently fitted using one of the solvers implemented in sklearn.linear_model.Ridge/RidgeCV instead.\n",
      "  model = cd_fast.enet_coordinate_descent(\n",
      "C:\\Users\\thang\\miniconda3\\Lib\\site-packages\\sklearn\\linear_model\\_coordinate_descent.py:628: ConvergenceWarning: Objective did not converge. You might want to increase the number of iterations, check the scale of the features or consider increasing regularisation. Duality gap: 1.771e+01, tolerance: 7.142e+00 Linear regression models with null weight for the l1 regularization term are more efficiently fitted using one of the solvers implemented in sklearn.linear_model.Ridge/RidgeCV instead.\n",
      "  model = cd_fast.enet_coordinate_descent(\n",
      "C:\\Users\\thang\\miniconda3\\Lib\\site-packages\\sklearn\\linear_model\\_coordinate_descent.py:628: ConvergenceWarning: Objective did not converge. You might want to increase the number of iterations, check the scale of the features or consider increasing regularisation. Duality gap: 2.290e+01, tolerance: 7.142e+00 Linear regression models with null weight for the l1 regularization term are more efficiently fitted using one of the solvers implemented in sklearn.linear_model.Ridge/RidgeCV instead.\n",
      "  model = cd_fast.enet_coordinate_descent(\n",
      "C:\\Users\\thang\\miniconda3\\Lib\\site-packages\\sklearn\\linear_model\\_coordinate_descent.py:628: ConvergenceWarning: Objective did not converge. You might want to increase the number of iterations, check the scale of the features or consider increasing regularisation. Duality gap: 2.885e+01, tolerance: 7.142e+00 Linear regression models with null weight for the l1 regularization term are more efficiently fitted using one of the solvers implemented in sklearn.linear_model.Ridge/RidgeCV instead.\n",
      "  model = cd_fast.enet_coordinate_descent(\n",
      "C:\\Users\\thang\\miniconda3\\Lib\\site-packages\\sklearn\\linear_model\\_coordinate_descent.py:628: ConvergenceWarning: Objective did not converge. You might want to increase the number of iterations, check the scale of the features or consider increasing regularisation. Duality gap: 3.479e+01, tolerance: 7.142e+00 Linear regression models with null weight for the l1 regularization term are more efficiently fitted using one of the solvers implemented in sklearn.linear_model.Ridge/RidgeCV instead.\n",
      "  model = cd_fast.enet_coordinate_descent(\n",
      "C:\\Users\\thang\\miniconda3\\Lib\\site-packages\\sklearn\\linear_model\\_coordinate_descent.py:628: ConvergenceWarning: Objective did not converge. You might want to increase the number of iterations, check the scale of the features or consider increasing regularisation. Duality gap: 3.999e+01, tolerance: 7.142e+00 Linear regression models with null weight for the l1 regularization term are more efficiently fitted using one of the solvers implemented in sklearn.linear_model.Ridge/RidgeCV instead.\n",
      "  model = cd_fast.enet_coordinate_descent(\n",
      "C:\\Users\\thang\\miniconda3\\Lib\\site-packages\\sklearn\\linear_model\\_coordinate_descent.py:628: ConvergenceWarning: Objective did not converge. You might want to increase the number of iterations, check the scale of the features or consider increasing regularisation. Duality gap: 4.404e+01, tolerance: 7.142e+00 Linear regression models with null weight for the l1 regularization term are more efficiently fitted using one of the solvers implemented in sklearn.linear_model.Ridge/RidgeCV instead.\n",
      "  model = cd_fast.enet_coordinate_descent(\n",
      "C:\\Users\\thang\\miniconda3\\Lib\\site-packages\\sklearn\\linear_model\\_coordinate_descent.py:628: ConvergenceWarning: Objective did not converge. You might want to increase the number of iterations, check the scale of the features or consider increasing regularisation. Duality gap: 4.695e+01, tolerance: 7.142e+00 Linear regression models with null weight for the l1 regularization term are more efficiently fitted using one of the solvers implemented in sklearn.linear_model.Ridge/RidgeCV instead.\n",
      "  model = cd_fast.enet_coordinate_descent(\n",
      "C:\\Users\\thang\\miniconda3\\Lib\\site-packages\\sklearn\\linear_model\\_coordinate_descent.py:628: ConvergenceWarning: Objective did not converge. You might want to increase the number of iterations, check the scale of the features or consider increasing regularisation. Duality gap: 4.903e+01, tolerance: 7.142e+00 Linear regression models with null weight for the l1 regularization term are more efficiently fitted using one of the solvers implemented in sklearn.linear_model.Ridge/RidgeCV instead.\n",
      "  model = cd_fast.enet_coordinate_descent(\n",
      "C:\\Users\\thang\\miniconda3\\Lib\\site-packages\\sklearn\\linear_model\\_coordinate_descent.py:628: ConvergenceWarning: Objective did not converge. You might want to increase the number of iterations, check the scale of the features or consider increasing regularisation. Duality gap: 5.069e+01, tolerance: 7.142e+00 Linear regression models with null weight for the l1 regularization term are more efficiently fitted using one of the solvers implemented in sklearn.linear_model.Ridge/RidgeCV instead.\n",
      "  model = cd_fast.enet_coordinate_descent(\n",
      "C:\\Users\\thang\\miniconda3\\Lib\\site-packages\\sklearn\\linear_model\\_coordinate_descent.py:628: ConvergenceWarning: Objective did not converge. You might want to increase the number of iterations, check the scale of the features or consider increasing regularisation. Duality gap: 5.233e+01, tolerance: 7.142e+00 Linear regression models with null weight for the l1 regularization term are more efficiently fitted using one of the solvers implemented in sklearn.linear_model.Ridge/RidgeCV instead.\n",
      "  model = cd_fast.enet_coordinate_descent(\n",
      "C:\\Users\\thang\\miniconda3\\Lib\\site-packages\\sklearn\\linear_model\\_coordinate_descent.py:628: ConvergenceWarning: Objective did not converge. You might want to increase the number of iterations, check the scale of the features or consider increasing regularisation. Duality gap: 5.431e+01, tolerance: 7.142e+00 Linear regression models with null weight for the l1 regularization term are more efficiently fitted using one of the solvers implemented in sklearn.linear_model.Ridge/RidgeCV instead.\n",
      "  model = cd_fast.enet_coordinate_descent(\n",
      "C:\\Users\\thang\\miniconda3\\Lib\\site-packages\\sklearn\\linear_model\\_coordinate_descent.py:628: ConvergenceWarning: Objective did not converge. You might want to increase the number of iterations, check the scale of the features or consider increasing regularisation. Duality gap: 5.687e+01, tolerance: 7.142e+00 Linear regression models with null weight for the l1 regularization term are more efficiently fitted using one of the solvers implemented in sklearn.linear_model.Ridge/RidgeCV instead.\n",
      "  model = cd_fast.enet_coordinate_descent(\n",
      "C:\\Users\\thang\\miniconda3\\Lib\\site-packages\\sklearn\\linear_model\\_coordinate_descent.py:628: ConvergenceWarning: Objective did not converge. You might want to increase the number of iterations, check the scale of the features or consider increasing regularisation. Duality gap: 5.994e+01, tolerance: 7.142e+00 Linear regression models with null weight for the l1 regularization term are more efficiently fitted using one of the solvers implemented in sklearn.linear_model.Ridge/RidgeCV instead.\n",
      "  model = cd_fast.enet_coordinate_descent(\n",
      "C:\\Users\\thang\\miniconda3\\Lib\\site-packages\\sklearn\\linear_model\\_coordinate_descent.py:628: ConvergenceWarning: Objective did not converge. You might want to increase the number of iterations, check the scale of the features or consider increasing regularisation. Duality gap: 6.313e+01, tolerance: 7.142e+00 Linear regression models with null weight for the l1 regularization term are more efficiently fitted using one of the solvers implemented in sklearn.linear_model.Ridge/RidgeCV instead.\n",
      "  model = cd_fast.enet_coordinate_descent(\n",
      "C:\\Users\\thang\\miniconda3\\Lib\\site-packages\\sklearn\\linear_model\\_coordinate_descent.py:628: ConvergenceWarning: Objective did not converge. You might want to increase the number of iterations, check the scale of the features or consider increasing regularisation. Duality gap: 6.594e+01, tolerance: 7.142e+00 Linear regression models with null weight for the l1 regularization term are more efficiently fitted using one of the solvers implemented in sklearn.linear_model.Ridge/RidgeCV instead.\n",
      "  model = cd_fast.enet_coordinate_descent(\n",
      "C:\\Users\\thang\\miniconda3\\Lib\\site-packages\\sklearn\\linear_model\\_coordinate_descent.py:628: ConvergenceWarning: Objective did not converge. You might want to increase the number of iterations, check the scale of the features or consider increasing regularisation. Duality gap: 6.804e+01, tolerance: 7.142e+00 Linear regression models with null weight for the l1 regularization term are more efficiently fitted using one of the solvers implemented in sklearn.linear_model.Ridge/RidgeCV instead.\n",
      "  model = cd_fast.enet_coordinate_descent(\n",
      "C:\\Users\\thang\\miniconda3\\Lib\\site-packages\\sklearn\\linear_model\\_coordinate_descent.py:628: ConvergenceWarning: Objective did not converge. You might want to increase the number of iterations, check the scale of the features or consider increasing regularisation. Duality gap: 6.944e+01, tolerance: 7.142e+00 Linear regression models with null weight for the l1 regularization term are more efficiently fitted using one of the solvers implemented in sklearn.linear_model.Ridge/RidgeCV instead.\n",
      "  model = cd_fast.enet_coordinate_descent(\n"
     ]
    }
   ],
   "source": [
    "from sklearn.linear_model import ElasticNet\n",
    "\n",
    "def cv(k = 5, X=X_train, y=y_train):\n",
    "    n = X.shape[0]\n",
    "    number_list = np.random.permutation(n)\n",
    "    flag = np.arange(n)\n",
    "    flag %=k\n",
    "\n",
    "    ridge_list = np.logspace(-10, 3)\n",
    "    lasso_list = [0, 0.1, 0.5, 0.7, 0.9, 0.95, 0.99]\n",
    "\n",
    "    mse = np.zeros((k, len(ridge_list), len(lasso_list)))\n",
    "    \n",
    "    for i in range(k):\n",
    "        X_train = X[number_list[flag!=i]]\n",
    "        y_train = y[number_list[flag!=i]]\n",
    "        X_val = X[number_list[flag==i]]\n",
    "        y_val = y[number_list[flag==i]]\n",
    "\n",
    "        for j in range(len(ridge_list)):\n",
    "            for k in range(len(lasso_list)):\n",
    "                alpha = ridge_list[j] + lasso_list[k]\n",
    "                l1_ratio = lasso_list[k]/alpha\n",
    "                model = ElasticNet(alpha=alpha, l1_ratio=l1_ratio, fit_intercept=False, max_iter=200000, tol=0.05)\n",
    "                model.fit(X_train, y_train)\n",
    "                y_predict = model.predict(X_val)\n",
    "                mse[i, j, k] = np.average((y_val - y_predict)**2)\n",
    "\n",
    "    mse_av = np.average(mse, axis=0)\n",
    "    index = np.argmin(mse_av)\n",
    "\n",
    "    return ridge_list[int(index/len(lasso_list))], lasso_list[index%len(lasso_list)]\n",
    "\n",
    "alpha_ridge, alpha_lasso = cv(k=5, X=X_train, y=y_train)      "
   ]
  },
  {
   "cell_type": "code",
   "execution_count": 39,
   "id": "96e7db10-75a1-4b9f-92f9-5cde3908114b",
   "metadata": {},
   "outputs": [
    {
     "data": {
      "text/plain": [
       "(0.0014563484775012444, 0)"
      ]
     },
     "execution_count": 39,
     "metadata": {},
     "output_type": "execute_result"
    }
   ],
   "source": [
    "alpha_ridge, alpha_lasso"
   ]
  },
  {
   "cell_type": "markdown",
   "id": "c561c8e8-f57c-462c-b69e-3b7663793541",
   "metadata": {},
   "source": [
    "# Question 8: Bootstrap"
   ]
  },
  {
   "cell_type": "code",
   "execution_count": 19,
   "id": "a5ff366d-097e-4d3e-83ae-52ffe9ea221c",
   "metadata": {},
   "outputs": [],
   "source": [
    "import matplotlib.pyplot as plt"
   ]
  },
  {
   "cell_type": "code",
   "execution_count": 13,
   "id": "d2b9d929-9485-48f7-a30f-16fc5a3c0d10",
   "metadata": {},
   "outputs": [],
   "source": [
    "x_min = np.min(X.iloc[:, 40])\n",
    "x_max = np.max(X.iloc[:, 40])"
   ]
  },
  {
   "cell_type": "code",
   "execution_count": 14,
   "id": "321e9c00-35b1-461a-9ec9-e5e87af43b6d",
   "metadata": {},
   "outputs": [],
   "source": [
    "choice = np.random.choice(len(X), len(X), replace=True)\n",
    "x_bt = X.iloc[choice, 40]\n",
    "y_bt = y[choice]"
   ]
  },
  {
   "cell_type": "code",
   "execution_count": 15,
   "id": "849cd48e-90b0-4330-a5f9-94d85dc3c114",
   "metadata": {},
   "outputs": [],
   "source": [
    "coef_m = np.zeros(50)\n",
    "intercept_m = np.zeros(50)\n",
    "for i in range(50):\n",
    "    choice = np.random.choice(len(X), len(X), replace=True)\n",
    "    x_bt = X.iloc[choice, 40].to_numpy().reshape(-1,1)\n",
    "    y_bt = y[choice]\n",
    "    lr = LinearRegression()\n",
    "    lr.fit(x_bt, y_bt)\n",
    "    coef_m[i] = lr.coef_\n",
    "    intercept_m[i] = lr.intercept_"
   ]
  },
  {
   "cell_type": "code",
   "execution_count": 20,
   "id": "a1a18456-0d68-495e-9d71-742613e34202",
   "metadata": {},
   "outputs": [
    {
     "data": {
      "text/plain": [
       "[<matplotlib.lines.Line2D at 0x201c7379290>]"
      ]
     },
     "execution_count": 20,
     "metadata": {},
     "output_type": "execute_result"
    },
    {
     "data": {
      "image/png": "[encoded data removed]",
      "text/plain": [
       "<Figure size 640x480 with 1 Axes>"
      ]
     },
     "metadata": {},
     "output_type": "display_data"
    }
   ],
   "source": [
    "lr = LinearRegression(fit_intercept=True)\n",
    "lr.fit(X.iloc[:, 40].to_numpy().reshape(-1,1), y)\n",
    "coef = lr.coef_\n",
    "intercept = lr.intercept_\n",
    "plt.scatter(X.iloc[:, 40], y, color='red')\n",
    "plt.plot([x_min, x_max], [intercept + x_min*coef, intercept + x_max*coef])"
   ]
  },
  {
   "cell_type": "code",
   "execution_count": 21,
   "id": "439cf15b-bbd7-4332-9ce7-dc9eab828ba8",
   "metadata": {},
   "outputs": [],
   "source": [
    "n, p = X.shape"
   ]
  },
  {
   "cell_type": "code",
   "execution_count": 23,
   "id": "113dc11b-9f23-4ff7-9f28-88fd2b75684c",
   "metadata": {},
   "outputs": [
    {
     "data": {
      "text/plain": [
       "[<matplotlib.lines.Line2D at 0x201c75ff6d0>]"
      ]
     },
     "execution_count": 23,
     "metadata": {},
     "output_type": "execute_result"
    },
    {
     "data": {
      "image/png": "[encoded data removed]",
      "text/plain": [
       "<Figure size 640x480 with 1 Axes>"
      ]
     },
     "metadata": {},
     "output_type": "display_data"
    }
   ],
   "source": [
    "for i in range(50):\n",
    "    plt.plot([x_min, x_max], [intercept_m[i] + x_min*coef_m[i], intercept_m[i] + x_max*coef_m[i]], alpha=0.1)\n",
    "\n",
    "plt.plot([x_min, x_max], [intercept + x_min*coef, intercept + x_max*coef])\n",
    "\n",
    "x_list = np.linspace(x_min, x_max)\n",
    "y_list = intercept + x_list * coef\n",
    "\n",
    "\n",
    "from scipy.stats import t\n",
    "s2 = np.sum((y - intercept - X.iloc[:, 40]*coef)**2) / (len(X) -2)\n",
    "x_40_mean = X.iloc[:,40].mean()\n",
    "var_conf = s2 * (1/n + (x_list - x_40_mean)**2/np.sum((X.iloc[:, 40] - x_40_mean)**2))\n",
    "alpha = 0.05\n",
    "upper_interval = y_list + t.ppf(1 - alpha/2, n-2)*np.sqrt(s2*var_conf)\n",
    "lower_interval = y_list - t.ppf(1 - alpha/2, n-2)*np.sqrt(s2*var_conf)\n",
    "plt.scatter(X.iloc[:, 40], y, color='red')\n",
    "\n",
    "plt.plot(x_list, upper_interval, '--')\n",
    "plt.plot(x_list, lower_interval, '--')\n"
   ]
  },
  {
   "cell_type": "markdown",
   "id": "9238c962-eb7d-4876-8dbe-92dfd0c6ef6f",
   "metadata": {},
   "source": [
    "# Question 9: PCA"
   ]
  },
  {
   "cell_type": "code",
   "execution_count": 24,
   "id": "e4075202-5d16-4fa4-b034-5c1505c2a3ef",
   "metadata": {},
   "outputs": [],
   "source": [
    "cov_X = X_train.T@X_train/(n-1)"
   ]
  },
  {
   "cell_type": "code",
   "execution_count": 25,
   "id": "e3dde6af-923a-4bc2-aa35-5f81a4dc2015",
   "metadata": {},
   "outputs": [
    {
     "data": {
      "text/plain": [
       "array([[0.75233645, 0.75233005, 0.75231191, ..., 0.72744169, 0.72724732,\n",
       "        0.72709997],\n",
       "       [0.75233005, 0.75233645, 0.75233056, ..., 0.72761524, 0.72743023,\n",
       "        0.72729263],\n",
       "       [0.75231191, 0.75233056, 0.75233645, ..., 0.72777468, 0.72759857,\n",
       "        0.72747022],\n",
       "       ...,\n",
       "       [0.72744169, 0.72761524, 0.72777468, ..., 0.75233645, 0.75232822,\n",
       "        0.75230283],\n",
       "       [0.72724732, 0.72743023, 0.72759857, ..., 0.75232822, 0.75233645,\n",
       "        0.75232775],\n",
       "       [0.72709997, 0.72729263, 0.72747022, ..., 0.75230283, 0.75232775,\n",
       "        0.75233645]])"
      ]
     },
     "execution_count": 25,
     "metadata": {},
     "output_type": "execute_result"
    }
   ],
   "source": [
    "cov_X"
   ]
  },
  {
   "cell_type": "code",
   "execution_count": 26,
   "id": "202d1635-a978-4ca0-b257-c5aab0ee1c57",
   "metadata": {},
   "outputs": [
    {
     "data": {
      "text/plain": [
       "<Axes: >"
      ]
     },
     "execution_count": 26,
     "metadata": {},
     "output_type": "execute_result"
    },
    {
     "data": {
      "image/png": "[encoded data removed]",
      "text/plain": [
       "<Figure size 640x480 with 2 Axes>"
      ]
     },
     "metadata": {},
     "output_type": "display_data"
    }
   ],
   "source": [
    "import seaborn as sns\n",
    "sns.heatmap(cov_X)"
   ]
  },
  {
   "cell_type": "code",
   "execution_count": 60,
   "id": "9fd4257d-756a-4c6a-a26b-1a80a5beaa5e",
   "metadata": {},
   "outputs": [],
   "source": [
    "U, s, Vt = np.linalg.svd(cov_X)"
   ]
  },
  {
   "cell_type": "code",
   "execution_count": 28,
   "id": "1649b00d-4b0e-4608-a2f1-6025d47775ac",
   "metadata": {},
   "outputs": [
    {
     "data": {
      "text/plain": [
       "array([7.43753268e+01, 6.02426537e-01, 1.74422411e-01, 7.37385058e-02,\n",
       "       4.89128002e-03, 1.98461077e-03, 4.98452051e-04, 2.43611089e-04,\n",
       "       5.21012896e-05, 3.56146821e-05, 1.18413477e-05, 6.59296605e-06,\n",
       "       2.33981380e-06, 1.34975119e-06, 6.82830186e-07, 4.60684540e-07,\n",
       "       3.62417857e-07, 3.39709898e-07, 2.25716931e-07, 1.81110758e-07,\n",
       "       1.09646184e-07, 8.70126519e-08, 5.91302984e-08, 4.87002252e-08,\n",
       "       3.91436915e-08, 3.51311544e-08, 2.68900128e-08, 2.59667168e-08,\n",
       "       1.78287511e-08, 1.60822165e-08, 1.49304113e-08, 1.28144487e-08,\n",
       "       1.20984417e-08, 1.12725805e-08, 1.03290211e-08, 7.92168808e-09,\n",
       "       6.89634599e-09, 6.41046478e-09, 5.56364303e-09, 4.32070113e-09,\n",
       "       4.03407303e-09, 3.48314942e-09, 3.44174189e-09, 2.96430845e-09,\n",
       "       2.51252977e-09, 2.08088095e-09, 2.04715242e-09, 1.79047539e-09,\n",
       "       1.54929412e-09, 1.47612588e-09, 1.27967064e-09, 1.15344964e-09,\n",
       "       1.00637467e-09, 9.23636135e-10, 8.66498664e-10, 7.65194816e-10,\n",
       "       7.00198401e-10, 6.74545877e-10, 5.94423608e-10, 5.16233138e-10,\n",
       "       4.80663765e-10, 4.26414443e-10, 4.10867518e-10, 4.05772333e-10,\n",
       "       3.88752966e-10, 3.48746481e-10, 3.04686764e-10, 2.95812466e-10,\n",
       "       2.60205219e-10, 2.46895696e-10, 2.26898096e-10, 1.94226522e-10,\n",
       "       1.80895122e-10, 1.77014938e-10, 1.61529070e-10, 1.57458658e-10,\n",
       "       1.45997320e-10, 1.38283808e-10, 1.23082354e-10, 1.20066815e-10,\n",
       "       1.09993323e-10, 9.51734796e-11, 8.68787683e-11, 7.36127174e-11,\n",
       "       6.38850874e-11, 5.45566896e-11, 5.01587978e-11, 4.37070752e-11,\n",
       "       3.91579670e-11, 3.24907089e-11, 2.86193691e-11, 2.42834760e-11,\n",
       "       2.19927346e-11, 1.92450806e-11, 1.55885170e-11, 1.39404701e-11,\n",
       "       1.16448207e-11, 9.24179753e-12, 7.15562596e-12, 5.77287164e-12])"
      ]
     },
     "execution_count": 28,
     "metadata": {},
     "output_type": "execute_result"
    }
   ],
   "source": [
    "s"
   ]
  },
  {
   "cell_type": "code",
   "execution_count": null,
   "id": "862d6a1f-719b-43ab-a5e7-ffa676f89d1d",
   "metadata": {},
   "outputs": [],
   "source": []
  },
  {
   "cell_type": "code",
   "execution_count": 57,
   "id": "3a6fc468-3420-406f-b34b-297b5e2d4113",
   "metadata": {},
   "outputs": [],
   "source": [
    "variance_explained = []\n",
    "for i in range(p):\n",
    "    variance_explained.append(np.sum(s[:i+1])/np.sum(s))"
   ]
  },
  {
   "cell_type": "code",
   "execution_count": 58,
   "id": "04492934-6eba-4430-9b3f-d70b1e890fb5",
   "metadata": {},
   "outputs": [
    {
     "data": {
      "text/plain": [
       "array([-0.09968114, -0.13432408, -0.08484062, -0.0884697 , -0.33850566,\n",
       "       -0.15952178,  0.08021554,  0.01136261,  0.08071067,  0.15241397])"
      ]
     },
     "execution_count": 58,
     "metadata": {},
     "output_type": "execute_result"
    }
   ],
   "source": [
    "U[0,:10]"
   ]
  },
  {
   "cell_type": "code",
   "execution_count": 59,
   "id": "3cb5a06e-9de3-4fb5-872b-e42ffdc44385",
   "metadata": {},
   "outputs": [
    {
     "data": {
      "text/plain": [
       "[<matplotlib.lines.Line2D at 0x201ccca19d0>]"
      ]
     },
     "execution_count": 59,
     "metadata": {},
     "output_type": "execute_result"
    },
    {
     "data": {
      "image/png": "[encoded data removed]",
      "text/plain": [
       "<Figure size 640x480 with 1 Axes>"
      ]
     },
     "metadata": {},
     "output_type": "display_data"
    }
   ],
   "source": [
    "plt.plot(variance_explained)"
   ]
  },
  {
   "cell_type": "code",
   "execution_count": null,
   "id": "24c1e2f0-6aef-4718-9a67-b48cec64829e",
   "metadata": {},
   "outputs": [],
   "source": [
    "PC1 = X @ V[:, 0]\n",
    "PC2 = X @ U[:, 1]\n",
    "\n"
   ]
  }
 ],
 "metadata": {
  "kernelspec": {
   "display_name": "Python 3 (ipykernel)",
   "language": "python",
   "name": "python3"
  },
  "language_info": {
   "codemirror_mode": {
    "name": "ipython",
    "version": 3
   },
   "file_extension": ".py",
   "mimetype": "text/x-python",
   "name": "python",
   "nbconvert_exporter": "python",
   "pygments_lexer": "ipython3",
   "version": "3.11.7"
  }
 },
 "nbformat": 4,
 "nbformat_minor": 5
}
