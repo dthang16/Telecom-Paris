{
  "cells": [
    {
      "cell_type": "code",
      "execution_count": 1,
      "id": "149938de",
      "metadata": {
        "id": "149938de"
      },
      "outputs": [],
      "source": [
        "import numpy as np\n",
        "import tensorflow as tf\n",
        "from tensorflow import keras\n",
        "from tensorflow.keras import layers\n",
        "import matplotlib.pyplot as plt"
      ]
    },
    {
      "cell_type": "code",
      "execution_count": 2,
      "id": "773c1396",
      "metadata": {
        "colab": {
          "base_uri": "https://localhost:8080/",
          "height": 334
        },
        "id": "773c1396",
        "outputId": "47fe5acb-a705-4d69-c794-4ef487cd8d6a"
      },
      "outputs": [
        {
          "output_type": "stream",
          "name": "stdout",
          "text": [
            "Downloading data from https://storage.googleapis.com/tensorflow/tf-keras-datasets/mnist.npz\n",
            "11490434/11490434 [==============================] - 0s 0us/step\n",
            "5\n"
          ]
        },
        {
          "output_type": "execute_result",
          "data": {
            "text/plain": [
              "<matplotlib.image.AxesImage at 0x7f7a8b2ec970>"
            ]
          },
          "metadata": {},
          "execution_count": 2
        },
        {
          "output_type": "display_data",
          "data": {
            "text/plain": [
              "<Figure size 432x288 with 1 Axes>"
            ],
            "image/png": "[encoded data removed]"
          },
          "metadata": {
            "needs_background": "light"
          }
        }
      ],
      "source": [
        "train_data, test_data = tf.keras.datasets.mnist.load_data(path=\"mnist.npz\")\n",
        "x_train = train_data[0].reshape(-1,784).astype(float) / 255\n",
        "y_train = train_data[1]\n",
        "print(y_train[0])\n",
        "plt.imshow(train_data[0][0], cmap='gray')"
      ]
    },
    {
      "cell_type": "code",
      "execution_count": 3,
      "id": "4b521b78",
      "metadata": {
        "colab": {
          "base_uri": "https://localhost:8080/"
        },
        "id": "4b521b78",
        "outputId": "b3258602-90b2-4f59-efb3-f3ee8d8feef8"
      },
      "outputs": [
        {
          "output_type": "stream",
          "name": "stdout",
          "text": [
            "Model: \"mnist_model\"\n",
            "_________________________________________________________________\n",
            " Layer (type)                Output Shape              Param #   \n",
            "=================================================================\n",
            " digits (InputLayer)         [(None, 784)]             0         \n",
            "                                                                 \n",
            " dense_1 (Dense)             (None, 32)                25120     \n",
            "                                                                 \n",
            " dense_2 (Dense)             (None, 32)                1056      \n",
            "                                                                 \n",
            " predictions (Dense)         (None, 10)                330       \n",
            "                                                                 \n",
            "=================================================================\n",
            "Total params: 26,506\n",
            "Trainable params: 26,506\n",
            "Non-trainable params: 0\n",
            "_________________________________________________________________\n"
          ]
        }
      ],
      "source": [
        "# source: https://keras.io/guides/training_with_built_in_methods/\n",
        "\n",
        "inputs = keras.Input(shape=(784,), name=\"digits\")\n",
        "x = layers.Dense(32, activation=\"relu\", name=\"dense_1\")(inputs)\n",
        "x = layers.Dense(32, activation=\"relu\", name=\"dense_2\")(x)\n",
        "outputs = layers.Dense(10, activation=\"softmax\", name=\"predictions\")(x)\n",
        "model = keras.Model(inputs=inputs, outputs=outputs, name=\"mnist_model\")\n",
        "loss = keras.losses.SparseCategoricalCrossentropy(from_logits=True)\n",
        "#def loss(true, pred):\n",
        "#    val = 0.\n",
        "#    for i in range(len(true)):\n",
        "#        val -= np.log(pred[i, true[i]])\n",
        "#    return val / len(true)\n",
        "model.summary()"
      ]
    },
    {
      "cell_type": "markdown",
      "source": [
        "# Question 4.1\n",
        "We gonna train (784+1)*32 + (32+1)*32 +(32+1)*10 parameters"
      ],
      "metadata": {
        "id": "WiJZvkrObaHI"
      },
      "id": "WiJZvkrObaHI"
    },
    {
      "cell_type": "code",
      "source": [
        "(784+1)*32+(32+1)*32+(32+1)*10"
      ],
      "metadata": {
        "colab": {
          "base_uri": "https://localhost:8080/"
        },
        "id": "DoLqVzwfbZoz",
        "outputId": "cd73883b-673d-4c3b-b9ac-f00ae0c54978"
      },
      "id": "DoLqVzwfbZoz",
      "execution_count": 11,
      "outputs": [
        {
          "output_type": "execute_result",
          "data": {
            "text/plain": [
              "26506"
            ]
          },
          "metadata": {},
          "execution_count": 11
        }
      ]
    },
    {
      "cell_type": "code",
      "execution_count": 4,
      "id": "b18b6bdb",
      "metadata": {
        "colab": {
          "base_uri": "https://localhost:8080/"
        },
        "id": "b18b6bdb",
        "outputId": "18e02671-a6c3-49ea-830c-4cd3583114fb"
      },
      "outputs": [
        {
          "output_type": "execute_result",
          "data": {
            "text/plain": [
              "array([7, 8, 7, 7, 7, 7, 1, 7, 9, 7, 8, 9, 7, 9, 8, 7, 7, 7, 8, 7, 8, 8,\n",
              "       7, 7, 8, 7, 8, 8, 7, 7, 9, 8, 8, 7, 7, 8, 8, 9, 8, 7, 9, 7, 7, 7,\n",
              "       7, 7, 7, 7, 8, 9, 8, 7, 8, 9, 7, 7, 7, 7, 7, 7, 7, 7, 8, 8, 8, 9,\n",
              "       7, 8, 8, 7, 8, 7, 7, 8, 9, 7, 7, 8, 7, 7, 7, 7, 7, 7, 7, 8, 9, 7,\n",
              "       7, 7, 7, 7, 9, 8, 7, 7, 7, 9, 9, 9])"
            ]
          },
          "metadata": {},
          "execution_count": 4
        }
      ],
      "source": [
        "# untrained model\n",
        "logits = model(x_train)\n",
        "np.argmax(logits, 1)[0:100]"
      ]
    },
    {
      "cell_type": "code",
      "execution_count": 5,
      "id": "35d74f67",
      "metadata": {
        "colab": {
          "base_uri": "https://localhost:8080/"
        },
        "id": "35d74f67",
        "outputId": "e57d3507-de3b-4387-9b95-3efc92567a1e"
      },
      "outputs": [
        {
          "output_type": "execute_result",
          "data": {
            "text/plain": [
              "array([5, 0, 4, 1, 9, 2, 1, 3, 1, 4, 3, 5, 3, 6, 1, 7, 2, 8, 6, 9, 4, 0,\n",
              "       9, 1, 1, 2, 4, 3, 2, 7, 3, 8, 6, 9, 0, 5, 6, 0, 7, 6, 1, 8, 7, 9,\n",
              "       3, 9, 8, 5, 9, 3, 3, 0, 7, 4, 9, 8, 0, 9, 4, 1, 4, 4, 6, 0, 4, 5,\n",
              "       6, 1, 0, 0, 1, 7, 1, 6, 3, 0, 2, 1, 1, 7, 9, 0, 2, 6, 7, 8, 3, 9,\n",
              "       0, 4, 6, 7, 4, 6, 8, 0, 7, 8, 3, 1], dtype=uint8)"
            ]
          },
          "metadata": {},
          "execution_count": 5
        }
      ],
      "source": [
        "# what we would like to get\n",
        "y_train[0:100]"
      ]
    },
    {
      "cell_type": "code",
      "execution_count": 6,
      "id": "4c0073e2",
      "metadata": {
        "colab": {
          "base_uri": "https://localhost:8080/"
        },
        "id": "4c0073e2",
        "outputId": "d42ede47-fb23-4022-dec2-b7720d478b82"
      },
      "outputs": [
        {
          "output_type": "stream",
          "name": "stderr",
          "text": [
            "/usr/local/lib/python3.8/dist-packages/keras/backend.py:5585: UserWarning: \"`sparse_categorical_crossentropy` received `from_logits=True`, but the `output` argument was produced by a Softmax activation and thus does not represent logits. Was this intended?\n",
            "  output, from_logits = _get_logits(\n"
          ]
        },
        {
          "output_type": "execute_result",
          "data": {
            "text/plain": [
              "2.3394268"
            ]
          },
          "metadata": {},
          "execution_count": 6
        }
      ],
      "source": [
        "## Computing a stochastic gradient\n",
        "\n",
        "# Source: https://keras.io/guides/writing_a_training_loop_from_scratch/\n",
        "\n",
        "# Example of gradient computation using automatic differentiation\n",
        "\n",
        "x_train_batch = x_train[:8]\n",
        "y_train_batch = y_train[:8]\n",
        "with tf.GradientTape() as tape:\n",
        "        # Run the forward pass of the layer.\n",
        "        # The operations that the layer applies\n",
        "        # to its inputs are going to be recorded\n",
        "        # on the GradientTape.\n",
        "        logits = model(x_train_batch)  # Logits for this minibatch\n",
        "\n",
        "        # Compute the loss value for this minibatch.\n",
        "        loss_value = loss(y_train_batch, logits)\n",
        "\n",
        "# Use the gradient tape to automatically retrieve\n",
        "# the gradients of the trainable variables with respect to the loss.\n",
        "grad = tape.gradient(loss_value, model.trainable_weights)\n",
        "\n",
        "## Updating weights\n",
        "\n",
        "def update_weights(model, update):\n",
        "    new_weights = model.trainable_weights.copy()\n",
        "    for i in range(len(new_weights)):\n",
        "        new_weights[i] = new_weights[i] + update[i]\n",
        "    model.set_weights(new_weights)\n",
        "\n",
        "\n",
        "## Evaluate model\n",
        "samples_for_evaluation = np.random.randint(0, 10000, 1000)\n",
        "logits = model(x_train[samples_for_evaluation])\n",
        "loss(y_train[samples_for_evaluation], logits).numpy()\n",
        "    "
      ]
    },
    {
      "cell_type": "markdown",
      "source": [
        "# Question 5.1:"
      ],
      "metadata": {
        "id": "CNTG3-KjeMzc"
      },
      "id": "CNTG3-KjeMzc"
    },
    {
      "cell_type": "code",
      "execution_count": 7,
      "id": "c5a9ead7",
      "metadata": {
        "scrolled": true,
        "id": "c5a9ead7"
      },
      "outputs": [],
      "source": [
        "# Stochastic gradient algorithm\n",
        "n, p = x_train.shape\n",
        "objective_value = []\n",
        "\n",
        "def sgd(epochs, gamma_0, model=model):\n",
        "    for epoch in range(epochs):\n",
        "        loss_list = []\n",
        "        for i in range(n):\n",
        "            learning_rate = gamma_0/np.sqrt(i+1)\n",
        "            j = np.random.randint(n)\n",
        "            with tf.GradientTape() as tape:\n",
        "                logits = model(x_train[j, None])\n",
        "                loss_value = loss(y_train[j], logits)\n",
        "            \n",
        "            grad = tape.gradient(loss_value, model.trainable_weights)\n",
        "            update_component = -np.asarray(grad)*learning_rate\n",
        "        \n",
        "            update_weights(model=model, update=update_component)\n",
        "            if(i%200==0):\n",
        "                objective_value.append(loss(y_train, model(x_train)))\n",
        "        \n",
        "# TO IMPLEMENT"
      ]
    },
    {
      "cell_type": "markdown",
      "source": [
        "# Question 5.2:\n",
        "We set initial learning rate to 0.01. gamma_k = gamma_0/sqrt(k+1)"
      ],
      "metadata": {
        "id": "QlrLMHMIeFXA"
      },
      "id": "QlrLMHMIeFXA"
    },
    {
      "cell_type": "code",
      "execution_count": 8,
      "id": "ec79dd02",
      "metadata": {
        "colab": {
          "base_uri": "https://localhost:8080/"
        },
        "id": "ec79dd02",
        "outputId": "218d1653-d91c-4c20-ca6e-071267e70aad"
      },
      "outputs": [
        {
          "output_type": "stream",
          "name": "stderr",
          "text": [
            "<ipython-input-7-96ff9465ba65>:16: VisibleDeprecationWarning: Creating an ndarray from ragged nested sequences (which is a list-or-tuple of lists-or-tuples-or ndarrays with different lengths or shapes) is deprecated. If you meant to do this, you must specify 'dtype=object' when creating the ndarray.\n",
            "  update_component = -np.asarray(grad)*learning_rate\n"
          ]
        }
      ],
      "source": [
        "sgd(epochs=1, gamma_0=0.01, model=model)"
      ]
    },
    {
      "cell_type": "code",
      "execution_count": 9,
      "id": "9d9bf5cc",
      "metadata": {
        "colab": {
          "base_uri": "https://localhost:8080/"
        },
        "id": "9d9bf5cc",
        "outputId": "75943066-6b1d-4343-ffab-ceb64ffb2944"
      },
      "outputs": [
        {
          "output_type": "execute_result",
          "data": {
            "text/plain": [
              "300"
            ]
          },
          "metadata": {},
          "execution_count": 9
        }
      ],
      "source": [
        "len(objective_value)"
      ]
    },
    {
      "cell_type": "code",
      "execution_count": 25,
      "id": "24d39aac",
      "metadata": {
        "colab": {
          "base_uri": "https://localhost:8080/",
          "height": 421
        },
        "id": "24d39aac",
        "outputId": "2abdcfa6-367c-4beb-c3ca-d926cdb4be0b"
      },
      "outputs": [
        {
          "output_type": "execute_result",
          "data": {
            "text/plain": [
              "Text(0.5, 1.0, 'Objective value after every 200 iterations')"
            ]
          },
          "metadata": {},
          "execution_count": 25
        },
        {
          "output_type": "display_data",
          "data": {
            "text/plain": [
              "<Figure size 576x432 with 1 Axes>"
            ],
            "image/png": "[encoded data removed]"
          },
          "metadata": {
            "needs_background": "light"
          }
        }
      ],
      "source": [
        "plt.figure(figsize=(8,6))\n",
        "plt.plot(200*np.arange(len(objective_value)), objective_value)\n",
        "plt.xlabel('Iteration')\n",
        "plt.ylabel('Objective value')\n",
        "plt.title('Objective value after every 200 iterations')"
      ]
    },
    {
      "cell_type": "markdown",
      "source": [
        "The objective value seem to decrease stably, maybe because we plot the value for every 200 iteration. If we draw it for every iteration, the plot may not be that smooth"
      ],
      "metadata": {
        "id": "N7JH7_XMg0yW"
      },
      "id": "N7JH7_XMg0yW"
    },
    {
      "cell_type": "markdown",
      "source": [
        "# Question 6.1:"
      ],
      "metadata": {
        "id": "3xws1higgngX"
      },
      "id": "3xws1higgngX"
    },
    {
      "cell_type": "code",
      "source": [
        "model2 = keras.Model(inputs=inputs, outputs=outputs, name=\"mnist_model\")\n",
        "model2.summary()"
      ],
      "metadata": {
        "colab": {
          "base_uri": "https://localhost:8080/"
        },
        "id": "ctzPc2gdKSa0",
        "outputId": "ba5aa436-0e6f-4c9f-bada-d9391f7ad6dd"
      },
      "id": "ctzPc2gdKSa0",
      "execution_count": 12,
      "outputs": [
        {
          "output_type": "stream",
          "name": "stdout",
          "text": [
            "Model: \"mnist_model\"\n",
            "_________________________________________________________________\n",
            " Layer (type)                Output Shape              Param #   \n",
            "=================================================================\n",
            " digits (InputLayer)         [(None, 784)]             0         \n",
            "                                                                 \n",
            " dense_1 (Dense)             (None, 32)                25120     \n",
            "                                                                 \n",
            " dense_2 (Dense)             (None, 32)                1056      \n",
            "                                                                 \n",
            " predictions (Dense)         (None, 10)                330       \n",
            "                                                                 \n",
            "=================================================================\n",
            "Total params: 26,506\n",
            "Trainable params: 26,506\n",
            "Non-trainable params: 0\n",
            "_________________________________________________________________\n"
          ]
        }
      ]
    },
    {
      "cell_type": "code",
      "source": [
        "objective_value = []\n",
        "sgd(epochs=10, gamma_0=0.01, model=model2)"
      ],
      "metadata": {
        "id": "NZftV3nhY8MB"
      },
      "id": "NZftV3nhY8MB",
      "execution_count": null,
      "outputs": []
    },
    {
      "cell_type": "markdown",
      "source": [
        "#  Question 6.2:\n",
        "The mini-batch gradient descent has the advantage of both normal gradient descent and stochastic version. Because each iteration it does not take all of the sample so it computational cost is not as expensive as normal gradient descent, but still utilise the matrix optimization of library. At the same time, with stochastic gradient descent, each iteration only take 1 random sample so after 1 iteration, the objective value may increase, in favor of that sample. Adding batch option will make the objective value decrease more stably. Also, it does not take as much time to complete an epoch, compared to stochastic gradient descent."
      ],
      "metadata": {
        "id": "pOBtZthbMnf0"
      },
      "id": "pOBtZthbMnf0"
    },
    {
      "cell_type": "markdown",
      "source": [
        "# Question 6.3:"
      ],
      "metadata": {
        "id": "aMYplxnNQQTC"
      },
      "id": "aMYplxnNQQTC"
    },
    {
      "cell_type": "code",
      "source": [
        "model3 = keras.Model(inputs=inputs, outputs=outputs, name=\"mnist_model\")\n",
        "model3.summary()"
      ],
      "metadata": {
        "colab": {
          "base_uri": "https://localhost:8080/"
        },
        "id": "IpCfTVcSQcWB",
        "outputId": "04643591-76ae-4090-f968-70b7d5da3585"
      },
      "id": "IpCfTVcSQcWB",
      "execution_count": 16,
      "outputs": [
        {
          "output_type": "stream",
          "name": "stdout",
          "text": [
            "Model: \"mnist_model\"\n",
            "_________________________________________________________________\n",
            " Layer (type)                Output Shape              Param #   \n",
            "=================================================================\n",
            " digits (InputLayer)         [(None, 784)]             0         \n",
            "                                                                 \n",
            " dense_1 (Dense)             (None, 32)                25120     \n",
            "                                                                 \n",
            " dense_2 (Dense)             (None, 32)                1056      \n",
            "                                                                 \n",
            " predictions (Dense)         (None, 10)                330       \n",
            "                                                                 \n",
            "=================================================================\n",
            "Total params: 26,506\n",
            "Trainable params: 26,506\n",
            "Non-trainable params: 0\n",
            "_________________________________________________________________\n"
          ]
        }
      ]
    },
    {
      "cell_type": "code",
      "source": [
        "def mini_batch_gd(epochs, gamma_0, model=model3, batch_size=200):\n",
        "    for epoch in range(epochs):\n",
        "        loss_list = []\n",
        "        for i in range(int(n/batch_size)):\n",
        "            learning_rate = gamma_0/np.sqrt(i+1)\n",
        "            j = np.random.randint(n, size=batch_size)\n",
        "            with tf.GradientTape() as tape:\n",
        "                logits = model(x_train[j])\n",
        "                loss_value = loss(y_train[j], logits)\n",
        "            \n",
        "            grad = tape.gradient(loss_value, model.trainable_weights)\n",
        "            update_component = -np.asarray(grad)*learning_rate\n",
        "        \n",
        "            update_weights(model=model, update=update_component)\n",
        "            #if(i%200==0):\n",
        "            #    objective_value.append(loss(y_train, model(x_train)))\n",
        "        "
      ],
      "metadata": {
        "id": "H8yFanNPQNyu"
      },
      "id": "H8yFanNPQNyu",
      "execution_count": 17,
      "outputs": []
    },
    {
      "cell_type": "code",
      "source": [
        "mini_batch_gd(epochs=1, gamma_0=0.01, model=model3, batch_size=200)"
      ],
      "metadata": {
        "colab": {
          "base_uri": "https://localhost:8080/"
        },
        "id": "u6CPjkWvS8zV",
        "outputId": "dc660c49-2e1a-4fbe-cce8-a3b0af30a2f2"
      },
      "id": "u6CPjkWvS8zV",
      "execution_count": 18,
      "outputs": [
        {
          "output_type": "stream",
          "name": "stderr",
          "text": [
            "/usr/local/lib/python3.8/dist-packages/keras/backend.py:5585: UserWarning: \"`sparse_categorical_crossentropy` received `from_logits=True`, but the `output` argument was produced by a Softmax activation and thus does not represent logits. Was this intended?\n",
            "  output, from_logits = _get_logits(\n",
            "<ipython-input-17-8f65ae0bc80b>:12: VisibleDeprecationWarning: Creating an ndarray from ragged nested sequences (which is a list-or-tuple of lists-or-tuples-or ndarrays with different lengths or shapes) is deprecated. If you meant to do this, you must specify 'dtype=object' when creating the ndarray.\n",
            "  update_component = -np.asarray(grad)*learning_rate\n"
          ]
        }
      ]
    },
    {
      "cell_type": "markdown",
      "source": [
        "#Question 7:\n",
        "We compare the accuracy of model optimized with stochastic gradient descent and mini-batch gradient descent, 1 epoch."
      ],
      "metadata": {
        "id": "LcRH8-FXS9_2"
      },
      "id": "LcRH8-FXS9_2"
    },
    {
      "cell_type": "code",
      "source": [
        "x_test = test_data[0].reshape(-1,784).astype(float) / 255\n",
        "y_test = test_data[1]\n",
        "\n",
        "y_train_pred_sgd = np.argmax(model(x_train), axis=1)\n",
        "y_test_pred_sgd = np.argmax(model(x_test), axis=1)\n",
        "\n",
        "y_train_pred_bgd = np.argmax(model3(x_train), axis=1)\n",
        "y_test_pred_bgd = np.argmax(model3(x_test), axis=1)"
      ],
      "metadata": {
        "id": "qfnpj50rZJ3z"
      },
      "id": "qfnpj50rZJ3z",
      "execution_count": 23,
      "outputs": []
    },
    {
      "cell_type": "code",
      "source": [
        "from sklearn.metrics import accuracy_score"
      ],
      "metadata": {
        "id": "24ve3IyGde0O"
      },
      "id": "24ve3IyGde0O",
      "execution_count": 20,
      "outputs": []
    },
    {
      "cell_type": "code",
      "source": [
        "print('Evaluate the stochastic gradient descent model')\n",
        "print('Accuracy on train data: ', accuracy_score(y_train, y_train_pred_sgd))\n",
        "print('Accuracy on test data: ', accuracy_score(y_test, y_test_pred_sgd))"
      ],
      "metadata": {
        "colab": {
          "base_uri": "https://localhost:8080/"
        },
        "id": "h283Gu0Madl7",
        "outputId": "3d280163-de4b-4169-a58f-be8c46a18592"
      },
      "id": "h283Gu0Madl7",
      "execution_count": 21,
      "outputs": [
        {
          "output_type": "stream",
          "name": "stdout",
          "text": [
            "Evaluate the stochastic gradient descent model\n",
            "Accuracy on train data:  0.8249\n",
            "Accuracy on test data:  0.8333\n"
          ]
        }
      ]
    },
    {
      "cell_type": "code",
      "source": [
        "print('Evaluate the mini-batch gradient descent model')\n",
        "print('Accuracy on train data: ', accuracy_score(y_train, y_train_pred_bgd))\n",
        "print('Accuracy on test data: ', accuracy_score(y_test, y_test_pred_bgd))"
      ],
      "metadata": {
        "colab": {
          "base_uri": "https://localhost:8080/"
        },
        "id": "KOa01G5Jc6ia",
        "outputId": "acad9bfa-f60e-44f5-895c-b6eec0270cf5"
      },
      "id": "KOa01G5Jc6ia",
      "execution_count": 24,
      "outputs": [
        {
          "output_type": "stream",
          "name": "stdout",
          "text": [
            "Evaluate the mini-batch gradient descent model\n",
            "Accuracy on train data:  0.8249\n",
            "Accuracy on test data:  0.8333\n"
          ]
        }
      ]
    },
    {
      "cell_type": "markdown",
      "source": [
        "The accuracy of stochastic gradient descent and mini-batch gradient descent is equal. However, stochastic gradient descent method takes longer time to train"
      ],
      "metadata": {
        "id": "8r5jhthegTlo"
      },
      "id": "8r5jhthegTlo"
    }
  ],
  "metadata": {
    "kernelspec": {
      "display_name": "Python 3 (ipykernel)",
      "language": "python",
      "name": "python3"
    },
    "language_info": {
      "codemirror_mode": {
        "name": "ipython",
        "version": 3
      },
      "file_extension": ".py",
      "mimetype": "text/x-python",
      "name": "python",
      "nbconvert_exporter": "python",
      "pygments_lexer": "ipython3",
      "version": "3.10.8"
    },
    "colab": {
      "provenance": []
    },
    "accelerator": "GPU",
    "gpuClass": "standard"
  },
  "nbformat": 4,
  "nbformat_minor": 5
}