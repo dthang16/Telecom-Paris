{
 "cells": [
  {
   "cell_type": "code",
   "execution_count": 1,
   "id": "4648122a-f284-4cb9-a511-2893f74ab5da",
   "metadata": {},
   "outputs": [],
   "source": [
    "# Student: Thang Bui Doan"
   ]
  },
  {
   "cell_type": "markdown",
   "id": "c040e030",
   "metadata": {},
   "source": [
    "# Question 3.1:"
   ]
  },
  {
   "cell_type": "markdown",
   "id": "284fc150",
   "metadata": {},
   "source": [
    "$\\frac{\\partial f}{\\partial w_0} = \\frac{1}{n} \\sum{\\frac{-y_iexp(y_ix_{i}^{T}w+w_0)}{1+exp(y_ix_{i}^{T}w+w_0)}}$\n",
    "\n",
    "$\\frac{\\partial f}{\\partial w} = \\frac{1}{n} \\sum{\\frac{-y_ix_iexp(y_ix_{i}^{T}w+w_0)}{1+exp(y_ix_{i}^{T}w+w_0)}} + \\rho w$\n",
    "\n",
    "$\\frac{\\partial ^2f}{\\partial w^2} = \\frac{1}{n} \\sum{\\frac{y_i^2x_ix_i^Texp(y_ix_{i}^{T}w+w_0)}{(1+exp(y_ix_{i}^{T}w+w_0))^2}} + \\rho*I$\n",
    "\n",
    "$\\frac{\\partial ^2f}{\\partial w_0 \\partial w} = \\frac{1}{n} \\sum{\\frac{y_i^2x_iexp(y_ix_{i}^{T}w+w_0)}{(1+exp(y_ix_{i}^{T}w+w_0))^2}}$\n",
    "\n",
    "$\\frac{\\partial ^2f}{\\partial w_0^2} = \\frac{1}{n} \\sum{\\frac{y_i^2exp(y_ix_{i}^{T}w+w_0)}{(1+exp(y_ix_{i}^{T}w+w_0))^2}}$"
   ]
  },
  {
   "cell_type": "markdown",
   "id": "3c244ec6-8ced-4ffb-a58b-9d3afd5a8294",
   "metadata": {},
   "source": [
    "Jacobian matrix: $\\begin{pmatrix}\n",
    "\\frac{\\partial f}{\\partial w_0} \\\\\n",
    "\\frac{\\partial f}{\\partial w}\n",
    "\\end{pmatrix}$\n",
    "\n",
    "Hessian matrix: $\\begin{pmatrix}\n",
    "\\frac{\\partial^2 f}{\\partial w_0^2} & [\\frac{\\partial^2f}{\\partial w_0 \\partial w}]^T \\\\\n",
    "\\frac{\\partial^2f}{\\partial w_0 \\partial w} & \\frac{\\partial^2 f}{\\partial w^2}\n",
    "\\end{pmatrix}\n",
    "$\n"
   ]
  },
  {
   "cell_type": "markdown",
   "id": "54a891b7-4a9a-4e9c-9701-17355ca300b5",
   "metadata": {},
   "source": [
    "$f$ consists 2 parts: the log function and regularization part.\n",
    "The regularization is convex.\\\n",
    "Without the regularization, $\\frac{\\delta^2f}{\\delta w_0^2} \\gt 0$, so the log function is convex.\n",
    "$\\Rightarrow f$ is convex"
   ]
  },
  {
   "cell_type": "markdown",
   "id": "f49f01f4",
   "metadata": {},
   "source": [
    "# Question 3.2:"
   ]
  },
  {
   "cell_type": "code",
   "execution_count": 2,
   "id": "geographic-clothing",
   "metadata": {},
   "outputs": [],
   "source": [
    "import numpy as np\n",
    "import scipy.sparse as sp\n",
    "from scipy.linalg import norm, solve\n",
    "from scipy.optimize import check_grad\n",
    "import matplotlib.pyplot as plt\n",
    "import time\n",
    "\n",
    "#Read input data\n",
    "\n",
    "def load_data(file_name_matrix='tfidf_matrix_97MB.npz', file_name_feature_names='feature_names_97MB.npy',\n",
    "\t      file_name_labels='train_labels.npy', samples_in_train_set=10000,\n",
    "\t      samples_in_test_set=137562):\n",
    "\t# Recuperation des donnees\n",
    "\tTF_IDF_matrix = sp.load_npz(file_name_matrix)\n",
    "\tTF_IDF_feature_names = np.load(file_name_feature_names)\n",
    "\ttrain_labels = np.load(file_name_labels, allow_pickle=True)\n",
    "\ttrain_labels_numeric = ((train_labels == 'Oui') + 0)\n",
    "\n",
    "\tX = TF_IDF_matrix[:samples_in_train_set].toarray()\n",
    "\ty = train_labels_numeric[:samples_in_train_set] * 2 - 1\n",
    "\n",
    "\tX_test = TF_IDF_matrix[samples_in_train_set:samples_in_train_set+samples_in_test_set].toarray()\n",
    "\ty_test = train_labels_numeric[samples_in_train_set:samples_in_train_set+samples_in_test_set] * 2 - 1\n",
    "\n",
    "\n",
    "\t# Standardisation des données\n",
    "\tstd_X = np.maximum(np.std(X, axis=0), 1e-7)\n",
    "\tX = X / std_X\n",
    "\tX_test = X_test / std_X\n",
    "\n",
    "\tn = X.shape[0]\n",
    "\tn_test = X_test.shape[0]\n",
    "\tm = X.shape[1]\n",
    "\n",
    "\t# Ajout d'une colonne de uns\n",
    "\teX = np.hstack((np.ones((n,1)), X))\n",
    "\teX_test = np.hstack((np.ones((n_test,1)), X_test))\n",
    "\n",
    "\treturn eX, y, eX_test, y_test\n",
    "\n",
    "\n",
    "eX, y, eX_test, y_test = load_data()"
   ]
  },
  {
   "cell_type": "code",
   "execution_count": 3,
   "id": "db777f0d-7ed9-42a1-9a71-e33b8d362696",
   "metadata": {},
   "outputs": [
    {
     "data": {
      "text/plain": [
       "(10000,)"
      ]
     },
     "execution_count": 3,
     "metadata": {},
     "output_type": "execute_result"
    }
   ],
   "source": [
    "y.shape"
   ]
  },
  {
   "cell_type": "code",
   "execution_count": 4,
   "id": "e2e9acec-db73-43e3-9b5b-143a04d483c3",
   "metadata": {},
   "outputs": [
    {
     "data": {
      "text/plain": [
       "(10000, 576)"
      ]
     },
     "execution_count": 4,
     "metadata": {},
     "output_type": "execute_result"
    }
   ],
   "source": [
    "eX.shape"
   ]
  },
  {
   "cell_type": "code",
   "execution_count": 5,
   "id": "58dade96-bd7f-4b05-900a-2e1370ac677f",
   "metadata": {},
   "outputs": [],
   "source": [
    "X = np.concatenate((np.ones((eX.shape[0], 1)), eX), axis=1)"
   ]
  },
  {
   "cell_type": "code",
   "execution_count": 6,
   "id": "48ade925-95b8-4ba2-b7a9-e608622bd68f",
   "metadata": {},
   "outputs": [],
   "source": [
    "X_test = np.concatenate((np.ones((eX_test.shape[0], 1)), eX_test), axis=1)"
   ]
  },
  {
   "cell_type": "code",
   "execution_count": 7,
   "id": "d8d27f55-7ffa-453f-a7d8-29fe0dfac098",
   "metadata": {},
   "outputs": [
    {
     "data": {
      "text/plain": [
       "(10000, 577)"
      ]
     },
     "execution_count": 7,
     "metadata": {},
     "output_type": "execute_result"
    }
   ],
   "source": [
    "X.shape"
   ]
  },
  {
   "cell_type": "code",
   "execution_count": 8,
   "id": "f360b059-d952-4c8b-b692-eec9529e08fc",
   "metadata": {},
   "outputs": [],
   "source": [
    "def func_f(w, X, y, rho):\n",
    "    X = X.reshape(-1, 577)\n",
    "    # f = np.mean(np.log(1 + np.exp(y*(w@X.T)))) + rho/2 * np.sum(w[1:]**2)\n",
    "    f = np.mean(np.log(1 + np.exp(-y*(w@X.T)))) + rho/2 * np.inner(w[1:], w[1:])\n",
    "\n",
    "    return f"
   ]
  },
  {
   "cell_type": "code",
   "execution_count": 9,
   "id": "79d814c6-ab48-41c8-be1d-08cb9243f733",
   "metadata": {},
   "outputs": [],
   "source": [
    "def grad_f(w, X, y, rho):\n",
    "    X = X.reshape(-1, 577)\n",
    "    # w_tilde = np.concatenate(([w0], w))\n",
    "    # X = np.concatenate((np.ones((eX.shape[0], 1)), eX), axis=1)\n",
    "\n",
    "    exp = np.exp(-y*(w@X.T))\n",
    "    grad = -np.mean(y*X.T*exp/(1 + exp), axis=1)\n",
    "    grad[1:] += rho*w[1:]\n",
    "    return grad"
   ]
  },
  {
   "cell_type": "code",
   "execution_count": 16,
   "id": "217fb9f5-7977-4ba7-8be7-a6119265c6b4",
   "metadata": {},
   "outputs": [],
   "source": [
    "def hessian_f(w, X, y, rho):\n",
    "    X = X.reshape(-1, 577)\n",
    "    # w_tilde = np.concatenate(([w0], w))\n",
    "    # X = np.concatenate((np.ones((eX.shape[0], 1)), eX), axis=1)\n",
    "\n",
    "    n, p = X.shape\n",
    "    Z = np.exp(-y*(w@X.T))/(1 + np.exp(-y*(w@X.T)))**2\n",
    "\n",
    "    hessian = 1/n * (Z*X.T)@ X\n",
    "    hessian[1:, 1:] += rho*np.eye(p-1)\n",
    "    return hessian"
   ]
  },
  {
   "cell_type": "code",
   "execution_count": 17,
   "id": "4ef04c29-9e6c-4a89-8964-a2da42c587c6",
   "metadata": {},
   "outputs": [
    {
     "data": {
      "text/plain": [
       "7.049276239678096e-06"
      ]
     },
     "execution_count": 17,
     "metadata": {},
     "output_type": "execute_result"
    }
   ],
   "source": [
    "n, p = X.shape\n",
    "rho = 1/n\n",
    "w = np.random.rand(p)\n",
    "check_grad(func_f, grad_f, w, X, y, rho)"
   ]
  },
  {
   "cell_type": "code",
   "execution_count": 18,
   "id": "7a325e0d-2a57-4075-a209-0aa0b6916211",
   "metadata": {},
   "outputs": [
    {
     "data": {
      "text/plain": [
       "1.431045600879384e-07"
      ]
     },
     "execution_count": 18,
     "metadata": {},
     "output_type": "execute_result"
    }
   ],
   "source": [
    "check_grad(grad_f, hessian_f, w, X[0:10], y[0:10], rho)"
   ]
  },
  {
   "cell_type": "markdown",
   "id": "protecting-corpus",
   "metadata": {},
   "source": [
    "# Question 3.3:"
   ]
  },
  {
   "cell_type": "code",
   "execution_count": null,
   "id": "quick-soccer",
   "metadata": {},
   "outputs": [],
   "source": [
    "w_initialized = np.zeros(p)\n",
    "\n",
    "w = w_initalized\n",
    "\n",
    "while(True):\n",
    "    jacob_f = grad_f(w, eX, y, rho)\n",
    "    hessian_f = hes_f(w, eX, y, rho)\n",
    "    if(norm(hessian_f)<10**-10):\n",
    "        break\n",
    "    w = w[:, None] - np.dot(np.linalg.inv(hessian_f), grad_f)\n",
    "    w = w[:, None]\n"
   ]
  },
  {
   "cell_type": "code",
   "execution_count": 31,
   "id": "1494dc5d-bfda-45f0-8077-c44c3a1bcab6",
   "metadata": {},
   "outputs": [],
   "source": [
    "n, p = X.shape"
   ]
  },
  {
   "cell_type": "code",
   "execution_count": 32,
   "id": "4203ba30-cb4d-4082-9313-0d1c8e7c35fe",
   "metadata": {},
   "outputs": [],
   "source": [
    "w = np.zeros(p)"
   ]
  },
  {
   "cell_type": "code",
   "execution_count": 33,
   "id": "3855a8b9-ad3f-49b0-ba45-3b05df5c439d",
   "metadata": {},
   "outputs": [],
   "source": [
    "grad_list = []"
   ]
  },
  {
   "cell_type": "code",
   "execution_count": 34,
   "id": "02cd0b27-38e4-4bab-a02c-d5eee9992fd6",
   "metadata": {},
   "outputs": [],
   "source": [
    "while(True):\n",
    "    hessian = hessian_f(w, X, y, rho)\n",
    "    grad = grad_f(w, X, y, rho)\n",
    "    norm_grad = np.linalg.norm(grad)\n",
    "    if(norm_grad<10**-10):\n",
    "        break\n",
    "    grad_list.append(norm_grad)\n",
    "    w = w - np.linalg.inv(hessian)@grad\n"
   ]
  },
  {
   "cell_type": "code",
   "execution_count": 37,
   "id": "87d35c39-a9db-44c0-a2fb-95b27bba4b80",
   "metadata": {},
   "outputs": [
    {
     "data": {
      "text/plain": [
       "Text(0, 0.5, 'Norm of gradient')"
      ]
     },
     "execution_count": 37,
     "metadata": {},
     "output_type": "execute_result"
    },
    {
     "data": {
      "image/png": "[encoded data removed]",
      "text/plain": [
       "<Figure size 640x480 with 1 Axes>"
      ]
     },
     "metadata": {},
     "output_type": "display_data"
    }
   ],
   "source": [
    "import matplotlib.pyplot as plt\n",
    "plt.plot(grad_list)\n",
    "plt.yscale('log')\n",
    "plt.xlabel('Iterations')\n",
    "plt.ylabel('Norm of gradient')"
   ]
  },
  {
   "cell_type": "markdown",
   "id": "0164dc97-4a49-48fa-a9ac-16166dfb3cf0",
   "metadata": {},
   "source": [
    "# Question 3.4:"
   ]
  },
  {
   "cell_type": "code",
   "execution_count": 38,
   "id": "98afca17-fc33-4cce-b17e-f6b7c48f838e",
   "metadata": {},
   "outputs": [],
   "source": [
    "w = np.ones(p)\n",
    "grad_list_2 = []"
   ]
  },
  {
   "cell_type": "code",
   "execution_count": 39,
   "id": "3605c29f-916f-4905-9e0e-f036caa4e939",
   "metadata": {},
   "outputs": [
    {
     "name": "stderr",
     "output_type": "stream",
     "text": [
      "C:\\Users\\thang\\AppData\\Local\\Temp\\ipykernel_7940\\2725696130.py:7: RuntimeWarning: overflow encountered in exp\n",
      "  Z = np.exp(-y*(w@X.T))/(1 + np.exp(-y*(w@X.T)))**2\n",
      "C:\\Users\\thang\\AppData\\Local\\Temp\\ipykernel_7940\\2725696130.py:7: RuntimeWarning: invalid value encountered in divide\n",
      "  Z = np.exp(-y*(w@X.T))/(1 + np.exp(-y*(w@X.T)))**2\n",
      "C:\\Users\\thang\\AppData\\Local\\Temp\\ipykernel_7940\\611663028.py:6: RuntimeWarning: overflow encountered in exp\n",
      "  exp = np.exp(-y*(w@X.T))\n",
      "C:\\Users\\thang\\AppData\\Local\\Temp\\ipykernel_7940\\611663028.py:7: RuntimeWarning: invalid value encountered in multiply\n",
      "  grad = -np.mean(y*X.T*exp/(1 + exp), axis=1)\n"
     ]
    },
    {
     "ename": "KeyboardInterrupt",
     "evalue": "",
     "output_type": "error",
     "traceback": [
      "\u001b[1;31m---------------------------------------------------------------------------\u001b[0m",
      "\u001b[1;31mKeyboardInterrupt\u001b[0m                         Traceback (most recent call last)",
      "Cell \u001b[1;32mIn[39], line 2\u001b[0m\n\u001b[0;32m      1\u001b[0m \u001b[38;5;28;01mwhile\u001b[39;00m(\u001b[38;5;28;01mTrue\u001b[39;00m):\n\u001b[1;32m----> 2\u001b[0m     hessian \u001b[38;5;241m=\u001b[39m hessian_f(w, X, y, rho)\n\u001b[0;32m      3\u001b[0m     grad \u001b[38;5;241m=\u001b[39m grad_f(w, X, y, rho)\n\u001b[0;32m      4\u001b[0m     norm_grad \u001b[38;5;241m=\u001b[39m np\u001b[38;5;241m.\u001b[39mlinalg\u001b[38;5;241m.\u001b[39mnorm(grad)\n",
      "Cell \u001b[1;32mIn[16], line 10\u001b[0m, in \u001b[0;36mhessian_f\u001b[1;34m(w, X, y, rho)\u001b[0m\n\u001b[0;32m      7\u001b[0m Z \u001b[38;5;241m=\u001b[39m np\u001b[38;5;241m.\u001b[39mexp(\u001b[38;5;241m-\u001b[39my\u001b[38;5;241m*\u001b[39m(w\u001b[38;5;129m@X\u001b[39m\u001b[38;5;241m.\u001b[39mT))\u001b[38;5;241m/\u001b[39m(\u001b[38;5;241m1\u001b[39m \u001b[38;5;241m+\u001b[39m np\u001b[38;5;241m.\u001b[39mexp(\u001b[38;5;241m-\u001b[39my\u001b[38;5;241m*\u001b[39m(w\u001b[38;5;129m@X\u001b[39m\u001b[38;5;241m.\u001b[39mT)))\u001b[38;5;241m*\u001b[39m\u001b[38;5;241m*\u001b[39m\u001b[38;5;241m2\u001b[39m\n\u001b[0;32m      9\u001b[0m hessian \u001b[38;5;241m=\u001b[39m \u001b[38;5;241m1\u001b[39m\u001b[38;5;241m/\u001b[39mn \u001b[38;5;241m*\u001b[39m (Z\u001b[38;5;241m*\u001b[39mX\u001b[38;5;241m.\u001b[39mT)\u001b[38;5;241m@\u001b[39m X\n\u001b[1;32m---> 10\u001b[0m hessian[\u001b[38;5;241m1\u001b[39m:, \u001b[38;5;241m1\u001b[39m:] \u001b[38;5;241m+\u001b[39m\u001b[38;5;241m=\u001b[39m rho\u001b[38;5;241m*\u001b[39mnp\u001b[38;5;241m.\u001b[39meye(p\u001b[38;5;241m-\u001b[39m\u001b[38;5;241m1\u001b[39m)\n\u001b[0;32m     11\u001b[0m \u001b[38;5;28;01mreturn\u001b[39;00m hessian\n",
      "File \u001b[1;32m~\\miniconda3\\Lib\\site-packages\\numpy\\lib\\twodim_base.py:162\u001b[0m, in \u001b[0;36meye\u001b[1;34m(N, M, k, dtype, order, like)\u001b[0m\n\u001b[0;32m    158\u001b[0m \u001b[38;5;28;01mdef\u001b[39;00m \u001b[38;5;21m_eye_dispatcher\u001b[39m(N, M\u001b[38;5;241m=\u001b[39m\u001b[38;5;28;01mNone\u001b[39;00m, k\u001b[38;5;241m=\u001b[39m\u001b[38;5;28;01mNone\u001b[39;00m, dtype\u001b[38;5;241m=\u001b[39m\u001b[38;5;28;01mNone\u001b[39;00m, order\u001b[38;5;241m=\u001b[39m\u001b[38;5;28;01mNone\u001b[39;00m, \u001b[38;5;241m*\u001b[39m, like\u001b[38;5;241m=\u001b[39m\u001b[38;5;28;01mNone\u001b[39;00m):\n\u001b[0;32m    159\u001b[0m     \u001b[38;5;28;01mreturn\u001b[39;00m (like,)\n\u001b[1;32m--> 162\u001b[0m \u001b[38;5;129m@set_array_function_like_doc\u001b[39m\n\u001b[0;32m    163\u001b[0m \u001b[38;5;129m@set_module\u001b[39m(\u001b[38;5;124m'\u001b[39m\u001b[38;5;124mnumpy\u001b[39m\u001b[38;5;124m'\u001b[39m)\n\u001b[0;32m    164\u001b[0m \u001b[38;5;28;01mdef\u001b[39;00m \u001b[38;5;21meye\u001b[39m(N, M\u001b[38;5;241m=\u001b[39m\u001b[38;5;28;01mNone\u001b[39;00m, k\u001b[38;5;241m=\u001b[39m\u001b[38;5;241m0\u001b[39m, dtype\u001b[38;5;241m=\u001b[39m\u001b[38;5;28mfloat\u001b[39m, order\u001b[38;5;241m=\u001b[39m\u001b[38;5;124m'\u001b[39m\u001b[38;5;124mC\u001b[39m\u001b[38;5;124m'\u001b[39m, \u001b[38;5;241m*\u001b[39m, like\u001b[38;5;241m=\u001b[39m\u001b[38;5;28;01mNone\u001b[39;00m):\n\u001b[0;32m    165\u001b[0m \u001b[38;5;250m    \u001b[39m\u001b[38;5;124;03m\"\"\"\u001b[39;00m\n\u001b[0;32m    166\u001b[0m \u001b[38;5;124;03m    Return a 2-D array with ones on the diagonal and zeros elsewhere.\u001b[39;00m\n\u001b[0;32m    167\u001b[0m \n\u001b[1;32m   (...)\u001b[0m\n\u001b[0;32m    209\u001b[0m \n\u001b[0;32m    210\u001b[0m \u001b[38;5;124;03m    \"\"\"\u001b[39;00m\n\u001b[0;32m    211\u001b[0m     \u001b[38;5;28;01mif\u001b[39;00m like \u001b[38;5;129;01mis\u001b[39;00m \u001b[38;5;129;01mnot\u001b[39;00m \u001b[38;5;28;01mNone\u001b[39;00m:\n",
      "\u001b[1;31mKeyboardInterrupt\u001b[0m: "
     ]
    }
   ],
   "source": [
    "while(True):\n",
    "    hessian = hessian_f(w, X, y, rho)\n",
    "    grad = grad_f(w, X, y, rho)\n",
    "    norm_grad = np.linalg.norm(grad)\n",
    "    if(norm_grad<10**-10):\n",
    "        break\n",
    "    grad_list.append(norm_grad)\n",
    "    w = w - np.linalg.inv(hessian)@grad\n"
   ]
  },
  {
   "cell_type": "markdown",
   "id": "e9ad19cd-cc5f-4a99-b0f7-a91d68dacd31",
   "metadata": {},
   "source": [
    "The number of the computation is too large, leads to overflow."
   ]
  },
  {
   "cell_type": "markdown",
   "id": "3896c81f-25a8-4ddc-b876-6dc5b4b351e6",
   "metadata": {},
   "source": [
    "# Question 3.5:"
   ]
  },
  {
   "cell_type": "markdown",
   "id": "bf17c34f-c224-485d-8259-6aa024edb306",
   "metadata": {},
   "source": [
    "Armijo's line search: We search for the first non negative integer l that satisfies:\n",
    "\n",
    "$f(x^+(ba^l)) \\leq f(x_k) + \\beta \\langle \\triangledown f(x_k), x^+(ba^l) - x_k\\rangle $ \n",
    "\n",
    "Classical choices for parameters: $a = 1/2$ and $b = 2\\gamma_{k-1}$\n",
    "Armijo's line search is Taylor's line search with $\\beta = 1/2$\n"
   ]
  },
  {
   "cell_type": "code",
   "execution_count": 52,
   "id": "e0058c94-762b-40e6-8cd3-dbc696608ce3",
   "metadata": {},
   "outputs": [
    {
     "name": "stdout",
     "output_type": "stream",
     "text": [
      "0\n"
     ]
    },
    {
     "name": "stderr",
     "output_type": "stream",
     "text": [
      "C:\\Users\\thang\\AppData\\Local\\Temp\\ipykernel_7940\\2151163815.py:4: RuntimeWarning: overflow encountered in exp\n",
      "  f = np.mean(np.log(1 + np.exp(-y*(w@X.T)))) + rho/2 * np.inner(w[1:], w[1:])\n"
     ]
    },
    {
     "name": "stdout",
     "output_type": "stream",
     "text": [
      "1\n",
      "2\n",
      "3\n",
      "4\n",
      "5\n",
      "6\n",
      "7\n",
      "8\n",
      "9\n",
      "10\n",
      "11\n",
      "12\n",
      "13\n",
      "14\n",
      "15\n",
      "16\n"
     ]
    }
   ],
   "source": [
    "b = 2\n",
    "a = 1/2\n",
    "beta = 1/2\n",
    "grad_list = []\n",
    "n, p = X.shape\n",
    "w = np.ones(p)\n",
    "while True:\n",
    "    \n",
    "    hessian = hessian_f(w, X, y, rho)\n",
    "    grad = grad_f(w, X, y, rho)\n",
    "    l = 0\n",
    "    \n",
    "    while True:\n",
    "        gamma = b*a**l\n",
    "        w_k1 = w - gamma*np.linalg.inv(hessian)@grad\n",
    "        result = func_f(w_k1, X, y, rho) - func_f(w, X, y, rho) - beta*grad@(w_k1 - w)\n",
    "        if(result <= 0):\n",
    "            w = w_k1\n",
    "            break\n",
    "        else:\n",
    "            l = l + 1\n",
    "    b = 2*gamma\n",
    "    norm_grad = np.linalg.norm(grad)\n",
    "    grad_list.append(norm_grad)\n",
    "    if(norm_grad < 10**-10):\n",
    "        break"
   ]
  },
  {
   "cell_type": "code",
   "execution_count": 53,
   "id": "c83c8879-863e-493c-9f1c-749dafa59449",
   "metadata": {},
   "outputs": [
    {
     "data": {
      "image/png": "[encoded data removed]",
      "text/plain": [
       "<Figure size 640x480 with 1 Axes>"
      ]
     },
     "metadata": {},
     "output_type": "display_data"
    }
   ],
   "source": [
    "plt.plot(grad_list)\n",
    "plt.yscale('log')"
   ]
  },
  {
   "cell_type": "markdown",
   "id": "6349ec3b-17ea-42e0-bb4d-9cfa14776f4d",
   "metadata": {},
   "source": [
    "# Question 4.1:\n",
    "\n",
    "Why can't we use Newton's method to solve this problem?"
   ]
  },
  {
   "cell_type": "markdown",
   "id": "80a5897c-1d87-48a7-96d4-f35f84c23f7f",
   "metadata": {},
   "source": [
    "We can't use Newton's method because norm-1 is not differentible."
   ]
  },
  {
   "cell_type": "markdown",
   "id": "affc3205-23cb-4563-b55b-f4a69f2fc5d0",
   "metadata": {},
   "source": [
    "# Question 4.2:"
   ]
  },
  {
   "cell_type": "markdown",
   "id": "dcb6c85d-6cd5-46c0-b38f-358f54dd8d69",
   "metadata": {},
   "source": [
    "$F_2 = f_2 + g_2$\n",
    "\n",
    "$f_2 = \\sum_{i=1}^n log(1+exp(-y_i(x_iw + w_0)))$\n",
    "\n",
    "$g_2 = \\rho \\|w\\|_1$"
   ]
  },
  {
   "cell_type": "markdown",
   "id": "ba7f1128-3182-48d8-bc5f-b2e3b25d056b",
   "metadata": {},
   "source": [
    "We write $x_iw + w_o$ as $X_iW$ with $W = [w_0, w]$ and $X_i = [1, x_i]$\n",
    "\n",
    "$\\frac{\\partial f_2}{\\partial W} = \\sum_{i=1}^n \\frac{-y_iX_iexp(-y_iX_iw)}{1+exp(-y_iX_iw)}$\n",
    "\n",
    "$prox_{g_2}(v) = argmin_x (g_2 + \\|x - v\\|^2)$\n",
    "\n",
    "The optimization problem: $x_{k+1} = prox_{g_2} (x_k - \\gamma \\triangledown f)$"
   ]
  },
  {
   "cell_type": "markdown",
   "id": "16f8e308-75a2-47a1-8e03-eb60ebc5ecba",
   "metadata": {},
   "source": [
    "# Question 4.3:"
   ]
  },
  {
   "cell_type": "code",
   "execution_count": 57,
   "id": "659b468f-3cd0-4004-ade1-6dc16ff4b82a",
   "metadata": {},
   "outputs": [
    {
     "name": "stdout",
     "output_type": "stream",
     "text": [
      "0\n",
      "100\n",
      "200\n"
     ]
    },
    {
     "ename": "KeyboardInterrupt",
     "evalue": "",
     "output_type": "error",
     "traceback": [
      "\u001b[1;31m---------------------------------------------------------------------------\u001b[0m",
      "\u001b[1;31mKeyboardInterrupt\u001b[0m                         Traceback (most recent call last)",
      "Cell \u001b[1;32mIn[57], line 25\u001b[0m\n\u001b[0;32m     23\u001b[0m gamma \u001b[38;5;241m=\u001b[39m b\u001b[38;5;241m*\u001b[39ma\u001b[38;5;241m*\u001b[39m\u001b[38;5;241m*\u001b[39ml\n\u001b[0;32m     24\u001b[0m w_k1 \u001b[38;5;241m=\u001b[39m prox_g2(w \u001b[38;5;241m-\u001b[39m gamma\u001b[38;5;241m*\u001b[39mgrad)\n\u001b[1;32m---> 25\u001b[0m result \u001b[38;5;241m=\u001b[39m func_f(w_k1, X, y, rho) \u001b[38;5;241m-\u001b[39m func_f(w, X, y, rho) \u001b[38;5;241m-\u001b[39m beta \u001b[38;5;241m*\u001b[39m grad\u001b[38;5;241m@\u001b[39m(w_k1 \u001b[38;5;241m-\u001b[39m w)\n\u001b[0;32m     26\u001b[0m \u001b[38;5;28;01mif\u001b[39;00m(result\u001b[38;5;241m<\u001b[39m\u001b[38;5;241m=\u001b[39m\u001b[38;5;241m0\u001b[39m):\n\u001b[0;32m     27\u001b[0m     w \u001b[38;5;241m=\u001b[39m w_k1\n",
      "Cell \u001b[1;32mIn[8], line 4\u001b[0m, in \u001b[0;36mfunc_f\u001b[1;34m(w, X, y, rho)\u001b[0m\n\u001b[0;32m      2\u001b[0m X \u001b[38;5;241m=\u001b[39m X\u001b[38;5;241m.\u001b[39mreshape(\u001b[38;5;241m-\u001b[39m\u001b[38;5;241m1\u001b[39m, \u001b[38;5;241m577\u001b[39m)\n\u001b[0;32m      3\u001b[0m \u001b[38;5;66;03m# f = np.mean(np.log(1 + np.exp(y*(w@X.T)))) + rho/2 * np.sum(w[1:]**2)\u001b[39;00m\n\u001b[1;32m----> 4\u001b[0m f \u001b[38;5;241m=\u001b[39m np\u001b[38;5;241m.\u001b[39mmean(np\u001b[38;5;241m.\u001b[39mlog(\u001b[38;5;241m1\u001b[39m \u001b[38;5;241m+\u001b[39m np\u001b[38;5;241m.\u001b[39mexp(\u001b[38;5;241m-\u001b[39my\u001b[38;5;241m*\u001b[39m(w\u001b[38;5;129m@X\u001b[39m\u001b[38;5;241m.\u001b[39mT)))) \u001b[38;5;241m+\u001b[39m rho\u001b[38;5;241m/\u001b[39m\u001b[38;5;241m2\u001b[39m \u001b[38;5;241m*\u001b[39m np\u001b[38;5;241m.\u001b[39minner(w[\u001b[38;5;241m1\u001b[39m:], w[\u001b[38;5;241m1\u001b[39m:])\n\u001b[0;32m      6\u001b[0m \u001b[38;5;28;01mreturn\u001b[39;00m f\n",
      "\u001b[1;31mKeyboardInterrupt\u001b[0m: "
     ]
    }
   ],
   "source": [
    "def prox_g2(v):\n",
    "    return np.maximum(0, np.sign(v)*(np.absolute(v) - 1))\n",
    "\n",
    "w = np.zeros(p)\n",
    "rho = 0.02\n",
    "grad_list = []\n",
    "\n",
    "b = 2\n",
    "a = 1/2\n",
    "beta = 1/2\n",
    "i = 0\n",
    "while True:\n",
    "    grad = grad_f(w, X, y, rho)\n",
    "    norm_grad = np.linalg.norm(grad)\n",
    "    grad_list.append(norm_grad)\n",
    "    if i%100==0:\n",
    "        print(i)\n",
    "    i = i + 1\n",
    "    if(norm_grad<10**-10):\n",
    "        break\n",
    "    l = 0\n",
    "    while True:\n",
    "        gamma = b*a**l\n",
    "        w_k1 = prox_g2(w - gamma*grad)\n",
    "        result = func_f(w_k1, X, y, rho) - func_f(w, X, y, rho) - beta * grad@(w_k1 - w)\n",
    "        if(result<=0):\n",
    "            w = w_k1\n",
    "            break\n",
    "        else:\n",
    "            l = l + 1\n",
    "\n",
    "    b = 2*gamma\n"
   ]
  },
  {
   "cell_type": "code",
   "execution_count": null,
   "id": "9a3c9e65-bc62-4155-91f1-d457f4e92dd5",
   "metadata": {},
   "outputs": [],
   "source": []
  }
 ],
 "metadata": {
  "kernelspec": {
   "display_name": "Python 3 (ipykernel)",
   "language": "python",
   "name": "python3"
  },
  "language_info": {
   "codemirror_mode": {
    "name": "ipython",
    "version": 3
   },
   "file_extension": ".py",
   "mimetype": "text/x-python",
   "name": "python",
   "nbconvert_exporter": "python",
   "pygments_lexer": "ipython3",
   "version": "3.11.7"
  }
 },
 "nbformat": 4,
 "nbformat_minor": 5
}
